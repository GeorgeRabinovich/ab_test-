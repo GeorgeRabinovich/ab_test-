{
 "cells": [
  {
   "cell_type": "markdown",
   "metadata": {},
   "source": [
    "# A/B Testing Project "
   ]
  },
  {
   "cell_type": "markdown",
   "metadata": {},
   "source": [
    "# Introduction "
   ]
  },
  {
   "cell_type": "markdown",
   "metadata": {},
   "source": [
    "A/B Testing Analysis.\n",
    "\n",
    "In this project, we focus on optimizing online store through rigorous A/B testing and data-driven decision-making. We have at our disposal three key datasets:\n",
    "\n",
    "* Hypotheses Dataset: This dataset contains a list of hypotheses, each accompanied by ratings reflecting their potential impact and ease of implementation. These hypotheses represent opportunities for improvement or changes to our online store.\n",
    "* Orders Dataset: The orders dataset provides detailed information about every transaction made on our online store, including transaction ID, user ID, and date of transaction. This dataset enables us to evaluate the impact of our A/B testing initiatives on actual user behavior and conversion rates.\n",
    "* Visits Dataset: The visits dataset reveals insights into user engagement with our online store. By analyzing the count of visits by day, we gain a deeper understanding of user traffic patterns and behavior over time."
   ]
  },
  {
   "cell_type": "markdown",
   "metadata": {},
   "source": [
    "Our analysis unfolds in several stages:\n",
    "\n",
    "* Prioritization of Hypotheses: We begin by prioritizing the hypotheses based on their ratings using two established frameworks: ICE (Impact, Confidence, Ease) and RICE (Reach, Impact, Confidence, Ease). This prioritization guides our focus towards the most impactful and feasible improvements.\n",
    "* A/B Testing: With prioritized hypotheses in hand, we design and implement A/B tests to evaluate the effectiveness of various changes and enhancements. By comparing the performance of different variants, we assess their impact on key metrics such as conversion rates and user engagement.\n",
    "* Analysis and Conclusion: Finally, we analyze the results of our A/B tests and draw conclusions based on the observed outcomes. Our ultimate goal is to determine whether to continue or cease the A/B testing initiatives. This decision is informed by a thorough assessment of the data and insights gathered throughout the analysis process.\n",
    "\n",
    "This project represents a proactive approach to optimizing our online store, ensuring that we deliver the best possible user experience and drive sustainable growth in the competitive e-commerce landscape."
   ]
  },
  {
   "cell_type": "code",
   "execution_count": 1,
   "metadata": {},
   "outputs": [],
   "source": [
    "import pandas as pd\n",
    "import scipy.stats as stats\n",
    "import datetime as dt\n",
    "import numpy as np\n",
    "import matplotlib.pyplot as plt\n",
    "from scipy import stats as st\n",
    "import warnings\n",
    "import math\n",
    "from statsmodels.stats.proportion import proportions_ztest"
   ]
  },
  {
   "cell_type": "markdown",
   "metadata": {},
   "source": [
    "## Preparing the data for analysis"
   ]
  },
  {
   "cell_type": "markdown",
   "metadata": {},
   "source": [
    "### Hypotheses df"
   ]
  },
  {
   "cell_type": "code",
   "execution_count": 2,
   "metadata": {},
   "outputs": [],
   "source": [
    "hypo = pd.read_csv('/datasets/hypotheses_us.csv', sep=';')"
   ]
  },
  {
   "cell_type": "code",
   "execution_count": 3,
   "metadata": {
    "scrolled": true
   },
   "outputs": [
    {
     "data": {
      "text/html": [
       "<div>\n",
       "<style scoped>\n",
       "    .dataframe tbody tr th:only-of-type {\n",
       "        vertical-align: middle;\n",
       "    }\n",
       "\n",
       "    .dataframe tbody tr th {\n",
       "        vertical-align: top;\n",
       "    }\n",
       "\n",
       "    .dataframe thead th {\n",
       "        text-align: right;\n",
       "    }\n",
       "</style>\n",
       "<table border=\"1\" class=\"dataframe\">\n",
       "  <thead>\n",
       "    <tr style=\"text-align: right;\">\n",
       "      <th></th>\n",
       "      <th>Hypothesis</th>\n",
       "      <th>Reach</th>\n",
       "      <th>Impact</th>\n",
       "      <th>Confidence</th>\n",
       "      <th>Effort</th>\n",
       "    </tr>\n",
       "  </thead>\n",
       "  <tbody>\n",
       "    <tr>\n",
       "      <th>0</th>\n",
       "      <td>Add two new channels for attracting traffic. T...</td>\n",
       "      <td>3</td>\n",
       "      <td>10</td>\n",
       "      <td>8</td>\n",
       "      <td>6</td>\n",
       "    </tr>\n",
       "    <tr>\n",
       "      <th>1</th>\n",
       "      <td>Launch your own delivery service. This will sh...</td>\n",
       "      <td>2</td>\n",
       "      <td>5</td>\n",
       "      <td>4</td>\n",
       "      <td>10</td>\n",
       "    </tr>\n",
       "    <tr>\n",
       "      <th>2</th>\n",
       "      <td>Add product recommendation blocks to the store...</td>\n",
       "      <td>8</td>\n",
       "      <td>3</td>\n",
       "      <td>7</td>\n",
       "      <td>3</td>\n",
       "    </tr>\n",
       "    <tr>\n",
       "      <th>3</th>\n",
       "      <td>Change the category structure. This will incre...</td>\n",
       "      <td>8</td>\n",
       "      <td>3</td>\n",
       "      <td>3</td>\n",
       "      <td>8</td>\n",
       "    </tr>\n",
       "    <tr>\n",
       "      <th>4</th>\n",
       "      <td>Change the background color on the main page. ...</td>\n",
       "      <td>3</td>\n",
       "      <td>1</td>\n",
       "      <td>1</td>\n",
       "      <td>1</td>\n",
       "    </tr>\n",
       "    <tr>\n",
       "      <th>5</th>\n",
       "      <td>Add a customer review page. This will increase...</td>\n",
       "      <td>3</td>\n",
       "      <td>2</td>\n",
       "      <td>2</td>\n",
       "      <td>3</td>\n",
       "    </tr>\n",
       "    <tr>\n",
       "      <th>6</th>\n",
       "      <td>Show banners with current offers and sales on ...</td>\n",
       "      <td>5</td>\n",
       "      <td>3</td>\n",
       "      <td>8</td>\n",
       "      <td>3</td>\n",
       "    </tr>\n",
       "    <tr>\n",
       "      <th>7</th>\n",
       "      <td>Add a subscription form to all the main pages....</td>\n",
       "      <td>10</td>\n",
       "      <td>7</td>\n",
       "      <td>8</td>\n",
       "      <td>5</td>\n",
       "    </tr>\n",
       "    <tr>\n",
       "      <th>8</th>\n",
       "      <td>Launch a promotion that gives users discounts ...</td>\n",
       "      <td>1</td>\n",
       "      <td>9</td>\n",
       "      <td>9</td>\n",
       "      <td>5</td>\n",
       "    </tr>\n",
       "  </tbody>\n",
       "</table>\n",
       "</div>"
      ],
      "text/plain": [
       "                                          Hypothesis  Reach  Impact  \\\n",
       "0  Add two new channels for attracting traffic. T...      3      10   \n",
       "1  Launch your own delivery service. This will sh...      2       5   \n",
       "2  Add product recommendation blocks to the store...      8       3   \n",
       "3  Change the category structure. This will incre...      8       3   \n",
       "4  Change the background color on the main page. ...      3       1   \n",
       "5  Add a customer review page. This will increase...      3       2   \n",
       "6  Show banners with current offers and sales on ...      5       3   \n",
       "7  Add a subscription form to all the main pages....     10       7   \n",
       "8  Launch a promotion that gives users discounts ...      1       9   \n",
       "\n",
       "   Confidence  Effort  \n",
       "0           8       6  \n",
       "1           4      10  \n",
       "2           7       3  \n",
       "3           3       8  \n",
       "4           1       1  \n",
       "5           2       3  \n",
       "6           8       3  \n",
       "7           8       5  \n",
       "8           9       5  "
      ]
     },
     "execution_count": 3,
     "metadata": {},
     "output_type": "execute_result"
    }
   ],
   "source": [
    "hypo"
   ]
  },
  {
   "cell_type": "markdown",
   "metadata": {},
   "source": [
    "The df has only 9 rows so we see that we don't have duplicates and missing values without checking by python methods."
   ]
  },
  {
   "cell_type": "markdown",
   "metadata": {},
   "source": [
    "### Orders df "
   ]
  },
  {
   "cell_type": "code",
   "execution_count": 4,
   "metadata": {},
   "outputs": [],
   "source": [
    "orders = pd.read_csv('/datasets/orders_us.csv')"
   ]
  },
  {
   "cell_type": "code",
   "execution_count": 5,
   "metadata": {},
   "outputs": [
    {
     "data": {
      "text/html": [
       "<div>\n",
       "<style scoped>\n",
       "    .dataframe tbody tr th:only-of-type {\n",
       "        vertical-align: middle;\n",
       "    }\n",
       "\n",
       "    .dataframe tbody tr th {\n",
       "        vertical-align: top;\n",
       "    }\n",
       "\n",
       "    .dataframe thead th {\n",
       "        text-align: right;\n",
       "    }\n",
       "</style>\n",
       "<table border=\"1\" class=\"dataframe\">\n",
       "  <thead>\n",
       "    <tr style=\"text-align: right;\">\n",
       "      <th></th>\n",
       "      <th>transactionId</th>\n",
       "      <th>visitorId</th>\n",
       "      <th>date</th>\n",
       "      <th>revenue</th>\n",
       "      <th>group</th>\n",
       "    </tr>\n",
       "  </thead>\n",
       "  <tbody>\n",
       "    <tr>\n",
       "      <th>0</th>\n",
       "      <td>3667963787</td>\n",
       "      <td>3312258926</td>\n",
       "      <td>2019-08-15</td>\n",
       "      <td>30.4</td>\n",
       "      <td>B</td>\n",
       "    </tr>\n",
       "    <tr>\n",
       "      <th>1</th>\n",
       "      <td>2804400009</td>\n",
       "      <td>3642806036</td>\n",
       "      <td>2019-08-15</td>\n",
       "      <td>15.2</td>\n",
       "      <td>B</td>\n",
       "    </tr>\n",
       "    <tr>\n",
       "      <th>2</th>\n",
       "      <td>2961555356</td>\n",
       "      <td>4069496402</td>\n",
       "      <td>2019-08-15</td>\n",
       "      <td>10.2</td>\n",
       "      <td>A</td>\n",
       "    </tr>\n",
       "    <tr>\n",
       "      <th>3</th>\n",
       "      <td>3797467345</td>\n",
       "      <td>1196621759</td>\n",
       "      <td>2019-08-15</td>\n",
       "      <td>155.1</td>\n",
       "      <td>B</td>\n",
       "    </tr>\n",
       "    <tr>\n",
       "      <th>4</th>\n",
       "      <td>2282983706</td>\n",
       "      <td>2322279887</td>\n",
       "      <td>2019-08-15</td>\n",
       "      <td>40.5</td>\n",
       "      <td>B</td>\n",
       "    </tr>\n",
       "  </tbody>\n",
       "</table>\n",
       "</div>"
      ],
      "text/plain": [
       "   transactionId   visitorId        date  revenue group\n",
       "0     3667963787  3312258926  2019-08-15     30.4     B\n",
       "1     2804400009  3642806036  2019-08-15     15.2     B\n",
       "2     2961555356  4069496402  2019-08-15     10.2     A\n",
       "3     3797467345  1196621759  2019-08-15    155.1     B\n",
       "4     2282983706  2322279887  2019-08-15     40.5     B"
      ]
     },
     "execution_count": 5,
     "metadata": {},
     "output_type": "execute_result"
    }
   ],
   "source": [
    "orders.head()"
   ]
  },
  {
   "cell_type": "code",
   "execution_count": 6,
   "metadata": {},
   "outputs": [],
   "source": [
    "orders['date'] = orders['date'].map(lambda x: dt.datetime.strptime(x, '%Y-%m-%d'))"
   ]
  },
  {
   "cell_type": "code",
   "execution_count": 7,
   "metadata": {},
   "outputs": [
    {
     "data": {
      "text/plain": [
       "count                    1197\n",
       "unique                     31\n",
       "top       2019-08-05 00:00:00\n",
       "freq                       48\n",
       "first     2019-08-01 00:00:00\n",
       "last      2019-08-31 00:00:00\n",
       "Name: date, dtype: object"
      ]
     },
     "execution_count": 7,
     "metadata": {},
     "output_type": "execute_result"
    }
   ],
   "source": [
    "orders['date'].describe()"
   ]
  },
  {
   "cell_type": "code",
   "execution_count": 8,
   "metadata": {},
   "outputs": [
    {
     "data": {
      "text/plain": [
       "False    1197\n",
       "dtype: int64"
      ]
     },
     "execution_count": 8,
     "metadata": {},
     "output_type": "execute_result"
    }
   ],
   "source": [
    "orders.duplicated().value_counts()"
   ]
  },
  {
   "cell_type": "code",
   "execution_count": 9,
   "metadata": {},
   "outputs": [
    {
     "data": {
      "text/plain": [
       "transactionId  visitorId  date   revenue  group\n",
       "False          False      False  False    False    1197\n",
       "dtype: int64"
      ]
     },
     "execution_count": 9,
     "metadata": {},
     "output_type": "execute_result"
    }
   ],
   "source": [
    "orders.isna().value_counts()"
   ]
  },
  {
   "cell_type": "markdown",
   "metadata": {},
   "source": [
    "We have no duplicates or missing values, and the datetime values are in the correct format."
   ]
  },
  {
   "cell_type": "code",
   "execution_count": 10,
   "metadata": {},
   "outputs": [
    {
     "name": "stdout",
     "output_type": "stream",
     "text": [
      "503  users in control group\n",
      "586  users in test group\n"
     ]
    }
   ],
   "source": [
    "A_group_count = orders[orders['group'] == 'A']['visitorId'].nunique()\n",
    "print(A_group_count, \" users in control group\")\n",
    "B_group_count = orders[orders['group'] == 'B']['visitorId'].nunique()\n",
    "print(B_group_count, \" users in test group\")"
   ]
  },
  {
   "cell_type": "code",
   "execution_count": 11,
   "metadata": {},
   "outputs": [
    {
     "data": {
      "text/plain": [
       "58"
      ]
     },
     "execution_count": 11,
     "metadata": {},
     "output_type": "execute_result"
    }
   ],
   "source": [
    "A_inter = set(orders[orders['group'] == 'A']['visitorId'])\n",
    "B_inter = set(orders[orders['group'] == 'B']['visitorId'])\n",
    "\n",
    "intersection = A_inter.intersection(B_inter)\n",
    "len(intersection)"
   ]
  },
  {
   "cell_type": "code",
   "execution_count": 12,
   "metadata": {
    "scrolled": false
   },
   "outputs": [
    {
     "data": {
      "text/html": [
       "<div>\n",
       "<style scoped>\n",
       "    .dataframe tbody tr th:only-of-type {\n",
       "        vertical-align: middle;\n",
       "    }\n",
       "\n",
       "    .dataframe tbody tr th {\n",
       "        vertical-align: top;\n",
       "    }\n",
       "\n",
       "    .dataframe thead th {\n",
       "        text-align: right;\n",
       "    }\n",
       "</style>\n",
       "<table border=\"1\" class=\"dataframe\">\n",
       "  <thead>\n",
       "    <tr style=\"text-align: right;\">\n",
       "      <th></th>\n",
       "      <th>transactionId</th>\n",
       "      <th>visitorId</th>\n",
       "      <th>date</th>\n",
       "      <th>revenue</th>\n",
       "      <th>group</th>\n",
       "    </tr>\n",
       "  </thead>\n",
       "  <tbody>\n",
       "    <tr>\n",
       "      <th>703</th>\n",
       "      <td>4293855558</td>\n",
       "      <td>8300375</td>\n",
       "      <td>2019-08-07</td>\n",
       "      <td>30.5</td>\n",
       "      <td>A</td>\n",
       "    </tr>\n",
       "    <tr>\n",
       "      <th>71</th>\n",
       "      <td>3679129301</td>\n",
       "      <td>8300375</td>\n",
       "      <td>2019-08-01</td>\n",
       "      <td>165.7</td>\n",
       "      <td>B</td>\n",
       "    </tr>\n",
       "    <tr>\n",
       "      <th>823</th>\n",
       "      <td>2971973105</td>\n",
       "      <td>199603092</td>\n",
       "      <td>2019-08-27</td>\n",
       "      <td>45.9</td>\n",
       "      <td>A</td>\n",
       "    </tr>\n",
       "    <tr>\n",
       "      <th>246</th>\n",
       "      <td>437656952</td>\n",
       "      <td>199603092</td>\n",
       "      <td>2019-08-02</td>\n",
       "      <td>55.7</td>\n",
       "      <td>B</td>\n",
       "    </tr>\n",
       "    <tr>\n",
       "      <th>26</th>\n",
       "      <td>2223239646</td>\n",
       "      <td>199603092</td>\n",
       "      <td>2019-08-15</td>\n",
       "      <td>55.7</td>\n",
       "      <td>A</td>\n",
       "    </tr>\n",
       "    <tr>\n",
       "      <th>...</th>\n",
       "      <td>...</td>\n",
       "      <td>...</td>\n",
       "      <td>...</td>\n",
       "      <td>...</td>\n",
       "      <td>...</td>\n",
       "    </tr>\n",
       "    <tr>\n",
       "      <th>187</th>\n",
       "      <td>2048878902</td>\n",
       "      <td>4256040402</td>\n",
       "      <td>2019-08-17</td>\n",
       "      <td>25.8</td>\n",
       "      <td>A</td>\n",
       "    </tr>\n",
       "    <tr>\n",
       "      <th>114</th>\n",
       "      <td>1120327437</td>\n",
       "      <td>4256040402</td>\n",
       "      <td>2019-08-01</td>\n",
       "      <td>90.2</td>\n",
       "      <td>A</td>\n",
       "    </tr>\n",
       "    <tr>\n",
       "      <th>60</th>\n",
       "      <td>1421016313</td>\n",
       "      <td>4256040402</td>\n",
       "      <td>2019-08-16</td>\n",
       "      <td>875.5</td>\n",
       "      <td>B</td>\n",
       "    </tr>\n",
       "    <tr>\n",
       "      <th>662</th>\n",
       "      <td>1811671147</td>\n",
       "      <td>4266935830</td>\n",
       "      <td>2019-08-29</td>\n",
       "      <td>1220.2</td>\n",
       "      <td>A</td>\n",
       "    </tr>\n",
       "    <tr>\n",
       "      <th>682</th>\n",
       "      <td>1216533772</td>\n",
       "      <td>4266935830</td>\n",
       "      <td>2019-08-29</td>\n",
       "      <td>1220.2</td>\n",
       "      <td>B</td>\n",
       "    </tr>\n",
       "  </tbody>\n",
       "</table>\n",
       "<p>181 rows × 5 columns</p>\n",
       "</div>"
      ],
      "text/plain": [
       "     transactionId   visitorId       date  revenue group\n",
       "703     4293855558     8300375 2019-08-07     30.5     A\n",
       "71      3679129301     8300375 2019-08-01    165.7     B\n",
       "823     2971973105   199603092 2019-08-27     45.9     A\n",
       "246      437656952   199603092 2019-08-02     55.7     B\n",
       "26      2223239646   199603092 2019-08-15     55.7     A\n",
       "..             ...         ...        ...      ...   ...\n",
       "187     2048878902  4256040402 2019-08-17     25.8     A\n",
       "114     1120327437  4256040402 2019-08-01     90.2     A\n",
       "60      1421016313  4256040402 2019-08-16    875.5     B\n",
       "662     1811671147  4266935830 2019-08-29   1220.2     A\n",
       "682     1216533772  4266935830 2019-08-29   1220.2     B\n",
       "\n",
       "[181 rows x 5 columns]"
      ]
     },
     "execution_count": 12,
     "metadata": {},
     "output_type": "execute_result"
    }
   ],
   "source": [
    "orders[orders['visitorId'].isin(intersection)].sort_values(by='visitorId')"
   ]
  },
  {
   "cell_type": "markdown",
   "metadata": {},
   "source": [
    "We have users that are in both groups. We should drop them beacause we not sure which group they are."
   ]
  },
  {
   "cell_type": "code",
   "execution_count": 13,
   "metadata": {
    "scrolled": false
   },
   "outputs": [
    {
     "data": {
      "text/html": [
       "<div>\n",
       "<style scoped>\n",
       "    .dataframe tbody tr th:only-of-type {\n",
       "        vertical-align: middle;\n",
       "    }\n",
       "\n",
       "    .dataframe tbody tr th {\n",
       "        vertical-align: top;\n",
       "    }\n",
       "\n",
       "    .dataframe thead th {\n",
       "        text-align: right;\n",
       "    }\n",
       "</style>\n",
       "<table border=\"1\" class=\"dataframe\">\n",
       "  <thead>\n",
       "    <tr style=\"text-align: right;\">\n",
       "      <th></th>\n",
       "      <th>transactionId</th>\n",
       "      <th>visitorId</th>\n",
       "      <th>date</th>\n",
       "      <th>revenue</th>\n",
       "      <th>group</th>\n",
       "    </tr>\n",
       "  </thead>\n",
       "  <tbody>\n",
       "    <tr>\n",
       "      <th>0</th>\n",
       "      <td>3667963787</td>\n",
       "      <td>3312258926</td>\n",
       "      <td>2019-08-15</td>\n",
       "      <td>30.4</td>\n",
       "      <td>B</td>\n",
       "    </tr>\n",
       "    <tr>\n",
       "      <th>1</th>\n",
       "      <td>2804400009</td>\n",
       "      <td>3642806036</td>\n",
       "      <td>2019-08-15</td>\n",
       "      <td>15.2</td>\n",
       "      <td>B</td>\n",
       "    </tr>\n",
       "    <tr>\n",
       "      <th>3</th>\n",
       "      <td>3797467345</td>\n",
       "      <td>1196621759</td>\n",
       "      <td>2019-08-15</td>\n",
       "      <td>155.1</td>\n",
       "      <td>B</td>\n",
       "    </tr>\n",
       "    <tr>\n",
       "      <th>4</th>\n",
       "      <td>2282983706</td>\n",
       "      <td>2322279887</td>\n",
       "      <td>2019-08-15</td>\n",
       "      <td>40.5</td>\n",
       "      <td>B</td>\n",
       "    </tr>\n",
       "    <tr>\n",
       "      <th>5</th>\n",
       "      <td>182168103</td>\n",
       "      <td>935554773</td>\n",
       "      <td>2019-08-15</td>\n",
       "      <td>35.0</td>\n",
       "      <td>B</td>\n",
       "    </tr>\n",
       "    <tr>\n",
       "      <th>...</th>\n",
       "      <td>...</td>\n",
       "      <td>...</td>\n",
       "      <td>...</td>\n",
       "      <td>...</td>\n",
       "      <td>...</td>\n",
       "    </tr>\n",
       "    <tr>\n",
       "      <th>1191</th>\n",
       "      <td>3592955527</td>\n",
       "      <td>608641596</td>\n",
       "      <td>2019-08-14</td>\n",
       "      <td>255.7</td>\n",
       "      <td>B</td>\n",
       "    </tr>\n",
       "    <tr>\n",
       "      <th>1192</th>\n",
       "      <td>2662137336</td>\n",
       "      <td>3733762160</td>\n",
       "      <td>2019-08-14</td>\n",
       "      <td>100.8</td>\n",
       "      <td>B</td>\n",
       "    </tr>\n",
       "    <tr>\n",
       "      <th>1193</th>\n",
       "      <td>2203539145</td>\n",
       "      <td>370388673</td>\n",
       "      <td>2019-08-14</td>\n",
       "      <td>50.1</td>\n",
       "      <td>A</td>\n",
       "    </tr>\n",
       "    <tr>\n",
       "      <th>1194</th>\n",
       "      <td>1807773912</td>\n",
       "      <td>573423106</td>\n",
       "      <td>2019-08-14</td>\n",
       "      <td>165.3</td>\n",
       "      <td>A</td>\n",
       "    </tr>\n",
       "    <tr>\n",
       "      <th>1196</th>\n",
       "      <td>3936777065</td>\n",
       "      <td>2108080724</td>\n",
       "      <td>2019-08-15</td>\n",
       "      <td>3120.1</td>\n",
       "      <td>B</td>\n",
       "    </tr>\n",
       "  </tbody>\n",
       "</table>\n",
       "<p>1016 rows × 5 columns</p>\n",
       "</div>"
      ],
      "text/plain": [
       "      transactionId   visitorId       date  revenue group\n",
       "0        3667963787  3312258926 2019-08-15     30.4     B\n",
       "1        2804400009  3642806036 2019-08-15     15.2     B\n",
       "3        3797467345  1196621759 2019-08-15    155.1     B\n",
       "4        2282983706  2322279887 2019-08-15     40.5     B\n",
       "5         182168103   935554773 2019-08-15     35.0     B\n",
       "...             ...         ...        ...      ...   ...\n",
       "1191     3592955527   608641596 2019-08-14    255.7     B\n",
       "1192     2662137336  3733762160 2019-08-14    100.8     B\n",
       "1193     2203539145   370388673 2019-08-14     50.1     A\n",
       "1194     1807773912   573423106 2019-08-14    165.3     A\n",
       "1196     3936777065  2108080724 2019-08-15   3120.1     B\n",
       "\n",
       "[1016 rows x 5 columns]"
      ]
     },
     "execution_count": 13,
     "metadata": {},
     "output_type": "execute_result"
    }
   ],
   "source": [
    "new_orders = orders[~orders['visitorId'].isin(intersection)]\n",
    "new_orders"
   ]
  },
  {
   "cell_type": "code",
   "execution_count": 14,
   "metadata": {
    "scrolled": true
   },
   "outputs": [
    {
     "name": "stdout",
     "output_type": "stream",
     "text": [
      "445  users in control group\n",
      "528  users in test group\n"
     ]
    }
   ],
   "source": [
    "A_group_count_new = new_orders[new_orders['group'] == 'A']['visitorId'].nunique()\n",
    "print(A_group_count_new, \" users in control group\")\n",
    "B_group_count_new = new_orders[new_orders['group'] == 'B']['visitorId'].nunique()\n",
    "print(B_group_count_new, \" users in test group\")"
   ]
  },
  {
   "cell_type": "markdown",
   "metadata": {},
   "source": [
    "### Visits df"
   ]
  },
  {
   "cell_type": "code",
   "execution_count": 15,
   "metadata": {},
   "outputs": [],
   "source": [
    "visits = pd.read_csv('/datasets/visits_us.csv')"
   ]
  },
  {
   "cell_type": "code",
   "execution_count": 16,
   "metadata": {},
   "outputs": [
    {
     "data": {
      "text/html": [
       "<div>\n",
       "<style scoped>\n",
       "    .dataframe tbody tr th:only-of-type {\n",
       "        vertical-align: middle;\n",
       "    }\n",
       "\n",
       "    .dataframe tbody tr th {\n",
       "        vertical-align: top;\n",
       "    }\n",
       "\n",
       "    .dataframe thead th {\n",
       "        text-align: right;\n",
       "    }\n",
       "</style>\n",
       "<table border=\"1\" class=\"dataframe\">\n",
       "  <thead>\n",
       "    <tr style=\"text-align: right;\">\n",
       "      <th></th>\n",
       "      <th>date</th>\n",
       "      <th>group</th>\n",
       "      <th>visits</th>\n",
       "    </tr>\n",
       "  </thead>\n",
       "  <tbody>\n",
       "    <tr>\n",
       "      <th>0</th>\n",
       "      <td>2019-08-01</td>\n",
       "      <td>A</td>\n",
       "      <td>719</td>\n",
       "    </tr>\n",
       "    <tr>\n",
       "      <th>1</th>\n",
       "      <td>2019-08-02</td>\n",
       "      <td>A</td>\n",
       "      <td>619</td>\n",
       "    </tr>\n",
       "    <tr>\n",
       "      <th>2</th>\n",
       "      <td>2019-08-03</td>\n",
       "      <td>A</td>\n",
       "      <td>507</td>\n",
       "    </tr>\n",
       "    <tr>\n",
       "      <th>3</th>\n",
       "      <td>2019-08-04</td>\n",
       "      <td>A</td>\n",
       "      <td>717</td>\n",
       "    </tr>\n",
       "    <tr>\n",
       "      <th>4</th>\n",
       "      <td>2019-08-05</td>\n",
       "      <td>A</td>\n",
       "      <td>756</td>\n",
       "    </tr>\n",
       "  </tbody>\n",
       "</table>\n",
       "</div>"
      ],
      "text/plain": [
       "         date group  visits\n",
       "0  2019-08-01     A     719\n",
       "1  2019-08-02     A     619\n",
       "2  2019-08-03     A     507\n",
       "3  2019-08-04     A     717\n",
       "4  2019-08-05     A     756"
      ]
     },
     "execution_count": 16,
     "metadata": {},
     "output_type": "execute_result"
    }
   ],
   "source": [
    "visits.head()"
   ]
  },
  {
   "cell_type": "code",
   "execution_count": 17,
   "metadata": {},
   "outputs": [],
   "source": [
    "visits['date'] = visits['date'].map(lambda x: dt.datetime.strptime(x, '%Y-%m-%d'))"
   ]
  },
  {
   "cell_type": "code",
   "execution_count": 18,
   "metadata": {},
   "outputs": [
    {
     "data": {
      "text/plain": [
       "count                      62\n",
       "unique                     31\n",
       "top       2019-08-27 00:00:00\n",
       "freq                        2\n",
       "first     2019-08-01 00:00:00\n",
       "last      2019-08-31 00:00:00\n",
       "Name: date, dtype: object"
      ]
     },
     "execution_count": 18,
     "metadata": {},
     "output_type": "execute_result"
    }
   ],
   "source": [
    "visits['date'].describe()"
   ]
  },
  {
   "cell_type": "markdown",
   "metadata": {},
   "source": [
    "Date columns are the same in both visits and orders datasets."
   ]
  },
  {
   "cell_type": "code",
   "execution_count": 19,
   "metadata": {},
   "outputs": [
    {
     "data": {
      "text/plain": [
       "False    62\n",
       "dtype: int64"
      ]
     },
     "execution_count": 19,
     "metadata": {},
     "output_type": "execute_result"
    }
   ],
   "source": [
    "visits.duplicated().value_counts()"
   ]
  },
  {
   "cell_type": "code",
   "execution_count": 20,
   "metadata": {},
   "outputs": [
    {
     "data": {
      "text/plain": [
       "date   group  visits\n",
       "False  False  False     62\n",
       "dtype: int64"
      ]
     },
     "execution_count": 20,
     "metadata": {},
     "output_type": "execute_result"
    }
   ],
   "source": [
    "visits.isna().value_counts()"
   ]
  },
  {
   "cell_type": "markdown",
   "metadata": {},
   "source": [
    "We have no duplicates or missing values, and the datetime values are in the correct format."
   ]
  },
  {
   "cell_type": "markdown",
   "metadata": {},
   "source": [
    "**Conclusion on Data Preprocessing:**\n",
    "\n",
    "We have three datasets at our disposal:\n",
    "\n",
    "**Hypotheses Dataset:**\n",
    "This dataset contains information regarding nine hypotheses that were subjected to testing. It includes the name of each hypothesis and its respective ratings for reach, impact, confidence, and effort, all rated on a scale from 1 to 10.\n",
    "\n",
    "**Orders Dataset:**\n",
    "The Orders dataset provides insights gained after conducting tests. It offers valuable data (Transaction ID, Visitor ID, Date of Transaction, Revenue and Group) that needs thorough analysis to draw meaningful conclusions.\n",
    "\n",
    "**Visits Dataset:** \n",
    "Similar to the Orders dataset, the Visits dataset furnishes additional information gathered post-testing (Date of Visit, group and Count of Visits per Day), which warrants careful examination to derive comprehensive insights.\n",
    "\n",
    "To ensure the accuracy of our A/B testing, we identified and removed users present in both control and test groups from our dataset. This step ensures unbiased results, allowing us to draw reliable conclusions from our analysis."
   ]
  },
  {
   "cell_type": "markdown",
   "metadata": {},
   "source": [
    "## Part 1. Prioritizing Hypotheses"
   ]
  },
  {
   "cell_type": "code",
   "execution_count": 21,
   "metadata": {},
   "outputs": [],
   "source": [
    "pd.set_option('max_colwidth', 100)"
   ]
  },
  {
   "cell_type": "code",
   "execution_count": 22,
   "metadata": {
    "scrolled": true
   },
   "outputs": [
    {
     "data": {
      "text/html": [
       "<div>\n",
       "<style scoped>\n",
       "    .dataframe tbody tr th:only-of-type {\n",
       "        vertical-align: middle;\n",
       "    }\n",
       "\n",
       "    .dataframe tbody tr th {\n",
       "        vertical-align: top;\n",
       "    }\n",
       "\n",
       "    .dataframe thead th {\n",
       "        text-align: right;\n",
       "    }\n",
       "</style>\n",
       "<table border=\"1\" class=\"dataframe\">\n",
       "  <thead>\n",
       "    <tr style=\"text-align: right;\">\n",
       "      <th></th>\n",
       "      <th>Hypothesis</th>\n",
       "      <th>Reach</th>\n",
       "      <th>Impact</th>\n",
       "      <th>Confidence</th>\n",
       "      <th>Effort</th>\n",
       "    </tr>\n",
       "  </thead>\n",
       "  <tbody>\n",
       "    <tr>\n",
       "      <th>0</th>\n",
       "      <td>Add two new channels for attracting traffic. This will bring 30% more users</td>\n",
       "      <td>3</td>\n",
       "      <td>10</td>\n",
       "      <td>8</td>\n",
       "      <td>6</td>\n",
       "    </tr>\n",
       "    <tr>\n",
       "      <th>1</th>\n",
       "      <td>Launch your own delivery service. This will shorten delivery time</td>\n",
       "      <td>2</td>\n",
       "      <td>5</td>\n",
       "      <td>4</td>\n",
       "      <td>10</td>\n",
       "    </tr>\n",
       "    <tr>\n",
       "      <th>2</th>\n",
       "      <td>Add product recommendation blocks to the store's site. This will increase conversion and average...</td>\n",
       "      <td>8</td>\n",
       "      <td>3</td>\n",
       "      <td>7</td>\n",
       "      <td>3</td>\n",
       "    </tr>\n",
       "    <tr>\n",
       "      <th>3</th>\n",
       "      <td>Change the category structure. This will increase conversion since users will find the products ...</td>\n",
       "      <td>8</td>\n",
       "      <td>3</td>\n",
       "      <td>3</td>\n",
       "      <td>8</td>\n",
       "    </tr>\n",
       "    <tr>\n",
       "      <th>4</th>\n",
       "      <td>Change the background color on the main page. This will increase user engagement</td>\n",
       "      <td>3</td>\n",
       "      <td>1</td>\n",
       "      <td>1</td>\n",
       "      <td>1</td>\n",
       "    </tr>\n",
       "    <tr>\n",
       "      <th>5</th>\n",
       "      <td>Add a customer review page. This will increase the number of orders</td>\n",
       "      <td>3</td>\n",
       "      <td>2</td>\n",
       "      <td>2</td>\n",
       "      <td>3</td>\n",
       "    </tr>\n",
       "    <tr>\n",
       "      <th>6</th>\n",
       "      <td>Show banners with current offers and sales on the main page. This will boost conversion</td>\n",
       "      <td>5</td>\n",
       "      <td>3</td>\n",
       "      <td>8</td>\n",
       "      <td>3</td>\n",
       "    </tr>\n",
       "    <tr>\n",
       "      <th>7</th>\n",
       "      <td>Add a subscription form to all the main pages. This will help you compile a mailing list</td>\n",
       "      <td>10</td>\n",
       "      <td>7</td>\n",
       "      <td>8</td>\n",
       "      <td>5</td>\n",
       "    </tr>\n",
       "    <tr>\n",
       "      <th>8</th>\n",
       "      <td>Launch a promotion that gives users discounts on their birthdays</td>\n",
       "      <td>1</td>\n",
       "      <td>9</td>\n",
       "      <td>9</td>\n",
       "      <td>5</td>\n",
       "    </tr>\n",
       "  </tbody>\n",
       "</table>\n",
       "</div>"
      ],
      "text/plain": [
       "                                                                                            Hypothesis  \\\n",
       "0                          Add two new channels for attracting traffic. This will bring 30% more users   \n",
       "1                                    Launch your own delivery service. This will shorten delivery time   \n",
       "2  Add product recommendation blocks to the store's site. This will increase conversion and average...   \n",
       "3  Change the category structure. This will increase conversion since users will find the products ...   \n",
       "4                     Change the background color on the main page. This will increase user engagement   \n",
       "5                                  Add a customer review page. This will increase the number of orders   \n",
       "6              Show banners with current offers and sales on the main page. This will boost conversion   \n",
       "7             Add a subscription form to all the main pages. This will help you compile a mailing list   \n",
       "8                                     Launch a promotion that gives users discounts on their birthdays   \n",
       "\n",
       "   Reach  Impact  Confidence  Effort  \n",
       "0      3      10           8       6  \n",
       "1      2       5           4      10  \n",
       "2      8       3           7       3  \n",
       "3      8       3           3       8  \n",
       "4      3       1           1       1  \n",
       "5      3       2           2       3  \n",
       "6      5       3           8       3  \n",
       "7     10       7           8       5  \n",
       "8      1       9           9       5  "
      ]
     },
     "execution_count": 22,
     "metadata": {},
     "output_type": "execute_result"
    }
   ],
   "source": [
    "hypo"
   ]
  },
  {
   "cell_type": "markdown",
   "metadata": {},
   "source": [
    "### ICE"
   ]
  },
  {
   "cell_type": "code",
   "execution_count": 23,
   "metadata": {},
   "outputs": [],
   "source": [
    "hypo['ICE'] = (hypo['Impact'] * hypo['Confidence']) / hypo['Effort']"
   ]
  },
  {
   "cell_type": "code",
   "execution_count": 24,
   "metadata": {},
   "outputs": [],
   "source": [
    "ice_hypo = hypo[['Hypothesis', 'ICE']].sort_values(by='ICE', ascending=False)"
   ]
  },
  {
   "cell_type": "code",
   "execution_count": 25,
   "metadata": {
    "scrolled": true
   },
   "outputs": [
    {
     "data": {
      "text/html": [
       "<div>\n",
       "<style scoped>\n",
       "    .dataframe tbody tr th:only-of-type {\n",
       "        vertical-align: middle;\n",
       "    }\n",
       "\n",
       "    .dataframe tbody tr th {\n",
       "        vertical-align: top;\n",
       "    }\n",
       "\n",
       "    .dataframe thead th {\n",
       "        text-align: right;\n",
       "    }\n",
       "</style>\n",
       "<table border=\"1\" class=\"dataframe\">\n",
       "  <thead>\n",
       "    <tr style=\"text-align: right;\">\n",
       "      <th></th>\n",
       "      <th>Hypothesis</th>\n",
       "      <th>ICE</th>\n",
       "    </tr>\n",
       "  </thead>\n",
       "  <tbody>\n",
       "    <tr>\n",
       "      <th>8</th>\n",
       "      <td>Launch a promotion that gives users discounts on their birthdays</td>\n",
       "      <td>16.200000</td>\n",
       "    </tr>\n",
       "    <tr>\n",
       "      <th>0</th>\n",
       "      <td>Add two new channels for attracting traffic. This will bring 30% more users</td>\n",
       "      <td>13.333333</td>\n",
       "    </tr>\n",
       "    <tr>\n",
       "      <th>7</th>\n",
       "      <td>Add a subscription form to all the main pages. This will help you compile a mailing list</td>\n",
       "      <td>11.200000</td>\n",
       "    </tr>\n",
       "    <tr>\n",
       "      <th>6</th>\n",
       "      <td>Show banners with current offers and sales on the main page. This will boost conversion</td>\n",
       "      <td>8.000000</td>\n",
       "    </tr>\n",
       "    <tr>\n",
       "      <th>2</th>\n",
       "      <td>Add product recommendation blocks to the store's site. This will increase conversion and average...</td>\n",
       "      <td>7.000000</td>\n",
       "    </tr>\n",
       "    <tr>\n",
       "      <th>1</th>\n",
       "      <td>Launch your own delivery service. This will shorten delivery time</td>\n",
       "      <td>2.000000</td>\n",
       "    </tr>\n",
       "    <tr>\n",
       "      <th>5</th>\n",
       "      <td>Add a customer review page. This will increase the number of orders</td>\n",
       "      <td>1.333333</td>\n",
       "    </tr>\n",
       "    <tr>\n",
       "      <th>3</th>\n",
       "      <td>Change the category structure. This will increase conversion since users will find the products ...</td>\n",
       "      <td>1.125000</td>\n",
       "    </tr>\n",
       "    <tr>\n",
       "      <th>4</th>\n",
       "      <td>Change the background color on the main page. This will increase user engagement</td>\n",
       "      <td>1.000000</td>\n",
       "    </tr>\n",
       "  </tbody>\n",
       "</table>\n",
       "</div>"
      ],
      "text/plain": [
       "                                                                                            Hypothesis  \\\n",
       "8                                     Launch a promotion that gives users discounts on their birthdays   \n",
       "0                          Add two new channels for attracting traffic. This will bring 30% more users   \n",
       "7             Add a subscription form to all the main pages. This will help you compile a mailing list   \n",
       "6              Show banners with current offers and sales on the main page. This will boost conversion   \n",
       "2  Add product recommendation blocks to the store's site. This will increase conversion and average...   \n",
       "1                                    Launch your own delivery service. This will shorten delivery time   \n",
       "5                                  Add a customer review page. This will increase the number of orders   \n",
       "3  Change the category structure. This will increase conversion since users will find the products ...   \n",
       "4                     Change the background color on the main page. This will increase user engagement   \n",
       "\n",
       "         ICE  \n",
       "8  16.200000  \n",
       "0  13.333333  \n",
       "7  11.200000  \n",
       "6   8.000000  \n",
       "2   7.000000  \n",
       "1   2.000000  \n",
       "5   1.333333  \n",
       "3   1.125000  \n",
       "4   1.000000  "
      ]
     },
     "execution_count": 25,
     "metadata": {},
     "output_type": "execute_result"
    }
   ],
   "source": [
    "ice_hypo"
   ]
  },
  {
   "cell_type": "markdown",
   "metadata": {},
   "source": [
    "Hypothesis number eight, suggesting the launch of a promotion offering discounts to users, and hypothesis number zero, proposing the addition of two new channels for attracting traffic, have the highest ICE scores. On the other hand, hypothesis number four has the lowest score. Therefore, hypotheses indexed as eight and zero are the top priorities that require attention."
   ]
  },
  {
   "cell_type": "markdown",
   "metadata": {},
   "source": [
    "For a more comprehensive understanding, we will also prioritize hypotheses based on the RICE framework."
   ]
  },
  {
   "cell_type": "markdown",
   "metadata": {},
   "source": [
    "### RICE"
   ]
  },
  {
   "cell_type": "code",
   "execution_count": 26,
   "metadata": {},
   "outputs": [],
   "source": [
    "hypo['RICE'] = (hypo['Reach'] * hypo['Impact'] * hypo['Confidence']) / hypo['Effort']"
   ]
  },
  {
   "cell_type": "code",
   "execution_count": 27,
   "metadata": {},
   "outputs": [],
   "source": [
    "rice_hypo = hypo[['Hypothesis', 'RICE']].sort_values(by='RICE', ascending=False)"
   ]
  },
  {
   "cell_type": "code",
   "execution_count": 28,
   "metadata": {
    "scrolled": false
   },
   "outputs": [
    {
     "data": {
      "text/html": [
       "<div>\n",
       "<style scoped>\n",
       "    .dataframe tbody tr th:only-of-type {\n",
       "        vertical-align: middle;\n",
       "    }\n",
       "\n",
       "    .dataframe tbody tr th {\n",
       "        vertical-align: top;\n",
       "    }\n",
       "\n",
       "    .dataframe thead th {\n",
       "        text-align: right;\n",
       "    }\n",
       "</style>\n",
       "<table border=\"1\" class=\"dataframe\">\n",
       "  <thead>\n",
       "    <tr style=\"text-align: right;\">\n",
       "      <th></th>\n",
       "      <th>Hypothesis</th>\n",
       "      <th>RICE</th>\n",
       "    </tr>\n",
       "  </thead>\n",
       "  <tbody>\n",
       "    <tr>\n",
       "      <th>7</th>\n",
       "      <td>Add a subscription form to all the main pages. This will help you compile a mailing list</td>\n",
       "      <td>112.0</td>\n",
       "    </tr>\n",
       "    <tr>\n",
       "      <th>2</th>\n",
       "      <td>Add product recommendation blocks to the store's site. This will increase conversion and average...</td>\n",
       "      <td>56.0</td>\n",
       "    </tr>\n",
       "    <tr>\n",
       "      <th>0</th>\n",
       "      <td>Add two new channels for attracting traffic. This will bring 30% more users</td>\n",
       "      <td>40.0</td>\n",
       "    </tr>\n",
       "    <tr>\n",
       "      <th>6</th>\n",
       "      <td>Show banners with current offers and sales on the main page. This will boost conversion</td>\n",
       "      <td>40.0</td>\n",
       "    </tr>\n",
       "    <tr>\n",
       "      <th>8</th>\n",
       "      <td>Launch a promotion that gives users discounts on their birthdays</td>\n",
       "      <td>16.2</td>\n",
       "    </tr>\n",
       "    <tr>\n",
       "      <th>3</th>\n",
       "      <td>Change the category structure. This will increase conversion since users will find the products ...</td>\n",
       "      <td>9.0</td>\n",
       "    </tr>\n",
       "    <tr>\n",
       "      <th>1</th>\n",
       "      <td>Launch your own delivery service. This will shorten delivery time</td>\n",
       "      <td>4.0</td>\n",
       "    </tr>\n",
       "    <tr>\n",
       "      <th>5</th>\n",
       "      <td>Add a customer review page. This will increase the number of orders</td>\n",
       "      <td>4.0</td>\n",
       "    </tr>\n",
       "    <tr>\n",
       "      <th>4</th>\n",
       "      <td>Change the background color on the main page. This will increase user engagement</td>\n",
       "      <td>3.0</td>\n",
       "    </tr>\n",
       "  </tbody>\n",
       "</table>\n",
       "</div>"
      ],
      "text/plain": [
       "                                                                                            Hypothesis  \\\n",
       "7             Add a subscription form to all the main pages. This will help you compile a mailing list   \n",
       "2  Add product recommendation blocks to the store's site. This will increase conversion and average...   \n",
       "0                          Add two new channels for attracting traffic. This will bring 30% more users   \n",
       "6              Show banners with current offers and sales on the main page. This will boost conversion   \n",
       "8                                     Launch a promotion that gives users discounts on their birthdays   \n",
       "3  Change the category structure. This will increase conversion since users will find the products ...   \n",
       "1                                    Launch your own delivery service. This will shorten delivery time   \n",
       "5                                  Add a customer review page. This will increase the number of orders   \n",
       "4                     Change the background color on the main page. This will increase user engagement   \n",
       "\n",
       "    RICE  \n",
       "7  112.0  \n",
       "2   56.0  \n",
       "0   40.0  \n",
       "6   40.0  \n",
       "8   16.2  \n",
       "3    9.0  \n",
       "1    4.0  \n",
       "5    4.0  \n",
       "4    3.0  "
      ]
     },
     "execution_count": 28,
     "metadata": {},
     "output_type": "execute_result"
    }
   ],
   "source": [
    "rice_hypo"
   ]
  },
  {
   "cell_type": "markdown",
   "metadata": {},
   "source": [
    "**CONCLUSION**\n",
    "\n",
    "Despite initially prioritizing hypotheses based on the ICE framework, the RICE framework reveals a different perspective, facilitating a clearer decision-making process. While hypotheses indexed as eight and zero were initially favored due to their high ICE scores, the RICE analysis highlights the seventh hypothesis as having the highest potential for reaching a broader customer base. Additionally, it boasts a high confidence score, indicating a higher likelihood of success, with a moderate effort score suggesting it requires reasonable resources for testing. Furthermore, the impact rating for the seventh hypothesis is also high, suggesting that the proposed changes will be impactful.\n",
    "\n",
    "After comparing the results from both ICE and RICE frameworks, it is determined that adding a subscription form to all main pages is likely to have a more positive impact on the conversion rate compared to other hypotheses. Conversely, both frameworks indicate that changing the background color on the main page is unlikely to yield significant improvements for the company.\n",
    "\n",
    "Therefore, the decision is made to prioritize the implementation of the subscription form, leveraging insights from both ICE and RICE frameworks to inform strategic decision-making."
   ]
  },
  {
   "cell_type": "markdown",
   "metadata": {},
   "source": [
    "## Part 2. A/B Test Analysis"
   ]
  },
  {
   "cell_type": "markdown",
   "metadata": {},
   "source": [
    "### Graph cumulative revenue by group"
   ]
  },
  {
   "cell_type": "markdown",
   "metadata": {},
   "source": [
    "To make our analysis more informative and comfortable I'll construct cumulative data tables for both orders and visits, applying the techniques we've covered in our course."
   ]
  },
  {
   "cell_type": "code",
   "execution_count": 29,
   "metadata": {
    "scrolled": true
   },
   "outputs": [
    {
     "data": {
      "text/html": [
       "<div>\n",
       "<style scoped>\n",
       "    .dataframe tbody tr th:only-of-type {\n",
       "        vertical-align: middle;\n",
       "    }\n",
       "\n",
       "    .dataframe tbody tr th {\n",
       "        vertical-align: top;\n",
       "    }\n",
       "\n",
       "    .dataframe thead th {\n",
       "        text-align: right;\n",
       "    }\n",
       "</style>\n",
       "<table border=\"1\" class=\"dataframe\">\n",
       "  <thead>\n",
       "    <tr style=\"text-align: right;\">\n",
       "      <th></th>\n",
       "      <th>transactionId</th>\n",
       "      <th>visitorId</th>\n",
       "      <th>date</th>\n",
       "      <th>revenue</th>\n",
       "      <th>group</th>\n",
       "    </tr>\n",
       "  </thead>\n",
       "  <tbody>\n",
       "    <tr>\n",
       "      <th>0</th>\n",
       "      <td>3667963787</td>\n",
       "      <td>3312258926</td>\n",
       "      <td>2019-08-15</td>\n",
       "      <td>30.4</td>\n",
       "      <td>B</td>\n",
       "    </tr>\n",
       "    <tr>\n",
       "      <th>1</th>\n",
       "      <td>2804400009</td>\n",
       "      <td>3642806036</td>\n",
       "      <td>2019-08-15</td>\n",
       "      <td>15.2</td>\n",
       "      <td>B</td>\n",
       "    </tr>\n",
       "    <tr>\n",
       "      <th>3</th>\n",
       "      <td>3797467345</td>\n",
       "      <td>1196621759</td>\n",
       "      <td>2019-08-15</td>\n",
       "      <td>155.1</td>\n",
       "      <td>B</td>\n",
       "    </tr>\n",
       "    <tr>\n",
       "      <th>4</th>\n",
       "      <td>2282983706</td>\n",
       "      <td>2322279887</td>\n",
       "      <td>2019-08-15</td>\n",
       "      <td>40.5</td>\n",
       "      <td>B</td>\n",
       "    </tr>\n",
       "    <tr>\n",
       "      <th>5</th>\n",
       "      <td>182168103</td>\n",
       "      <td>935554773</td>\n",
       "      <td>2019-08-15</td>\n",
       "      <td>35.0</td>\n",
       "      <td>B</td>\n",
       "    </tr>\n",
       "    <tr>\n",
       "      <th>...</th>\n",
       "      <td>...</td>\n",
       "      <td>...</td>\n",
       "      <td>...</td>\n",
       "      <td>...</td>\n",
       "      <td>...</td>\n",
       "    </tr>\n",
       "    <tr>\n",
       "      <th>1191</th>\n",
       "      <td>3592955527</td>\n",
       "      <td>608641596</td>\n",
       "      <td>2019-08-14</td>\n",
       "      <td>255.7</td>\n",
       "      <td>B</td>\n",
       "    </tr>\n",
       "    <tr>\n",
       "      <th>1192</th>\n",
       "      <td>2662137336</td>\n",
       "      <td>3733762160</td>\n",
       "      <td>2019-08-14</td>\n",
       "      <td>100.8</td>\n",
       "      <td>B</td>\n",
       "    </tr>\n",
       "    <tr>\n",
       "      <th>1193</th>\n",
       "      <td>2203539145</td>\n",
       "      <td>370388673</td>\n",
       "      <td>2019-08-14</td>\n",
       "      <td>50.1</td>\n",
       "      <td>A</td>\n",
       "    </tr>\n",
       "    <tr>\n",
       "      <th>1194</th>\n",
       "      <td>1807773912</td>\n",
       "      <td>573423106</td>\n",
       "      <td>2019-08-14</td>\n",
       "      <td>165.3</td>\n",
       "      <td>A</td>\n",
       "    </tr>\n",
       "    <tr>\n",
       "      <th>1196</th>\n",
       "      <td>3936777065</td>\n",
       "      <td>2108080724</td>\n",
       "      <td>2019-08-15</td>\n",
       "      <td>3120.1</td>\n",
       "      <td>B</td>\n",
       "    </tr>\n",
       "  </tbody>\n",
       "</table>\n",
       "<p>1016 rows × 5 columns</p>\n",
       "</div>"
      ],
      "text/plain": [
       "      transactionId   visitorId       date  revenue group\n",
       "0        3667963787  3312258926 2019-08-15     30.4     B\n",
       "1        2804400009  3642806036 2019-08-15     15.2     B\n",
       "3        3797467345  1196621759 2019-08-15    155.1     B\n",
       "4        2282983706  2322279887 2019-08-15     40.5     B\n",
       "5         182168103   935554773 2019-08-15     35.0     B\n",
       "...             ...         ...        ...      ...   ...\n",
       "1191     3592955527   608641596 2019-08-14    255.7     B\n",
       "1192     2662137336  3733762160 2019-08-14    100.8     B\n",
       "1193     2203539145   370388673 2019-08-14     50.1     A\n",
       "1194     1807773912   573423106 2019-08-14    165.3     A\n",
       "1196     3936777065  2108080724 2019-08-15   3120.1     B\n",
       "\n",
       "[1016 rows x 5 columns]"
      ]
     },
     "execution_count": 29,
     "metadata": {},
     "output_type": "execute_result"
    }
   ],
   "source": [
    "new_orders"
   ]
  },
  {
   "cell_type": "code",
   "execution_count": 30,
   "metadata": {
    "scrolled": true
   },
   "outputs": [
    {
     "data": {
      "text/html": [
       "<div>\n",
       "<style scoped>\n",
       "    .dataframe tbody tr th:only-of-type {\n",
       "        vertical-align: middle;\n",
       "    }\n",
       "\n",
       "    .dataframe tbody tr th {\n",
       "        vertical-align: top;\n",
       "    }\n",
       "\n",
       "    .dataframe thead th {\n",
       "        text-align: right;\n",
       "    }\n",
       "</style>\n",
       "<table border=\"1\" class=\"dataframe\">\n",
       "  <thead>\n",
       "    <tr style=\"text-align: right;\">\n",
       "      <th></th>\n",
       "      <th>date</th>\n",
       "      <th>group</th>\n",
       "      <th>visits</th>\n",
       "    </tr>\n",
       "  </thead>\n",
       "  <tbody>\n",
       "    <tr>\n",
       "      <th>0</th>\n",
       "      <td>2019-08-01</td>\n",
       "      <td>A</td>\n",
       "      <td>719</td>\n",
       "    </tr>\n",
       "    <tr>\n",
       "      <th>1</th>\n",
       "      <td>2019-08-02</td>\n",
       "      <td>A</td>\n",
       "      <td>619</td>\n",
       "    </tr>\n",
       "    <tr>\n",
       "      <th>2</th>\n",
       "      <td>2019-08-03</td>\n",
       "      <td>A</td>\n",
       "      <td>507</td>\n",
       "    </tr>\n",
       "    <tr>\n",
       "      <th>3</th>\n",
       "      <td>2019-08-04</td>\n",
       "      <td>A</td>\n",
       "      <td>717</td>\n",
       "    </tr>\n",
       "    <tr>\n",
       "      <th>4</th>\n",
       "      <td>2019-08-05</td>\n",
       "      <td>A</td>\n",
       "      <td>756</td>\n",
       "    </tr>\n",
       "    <tr>\n",
       "      <th>...</th>\n",
       "      <td>...</td>\n",
       "      <td>...</td>\n",
       "      <td>...</td>\n",
       "    </tr>\n",
       "    <tr>\n",
       "      <th>57</th>\n",
       "      <td>2019-08-27</td>\n",
       "      <td>B</td>\n",
       "      <td>720</td>\n",
       "    </tr>\n",
       "    <tr>\n",
       "      <th>58</th>\n",
       "      <td>2019-08-28</td>\n",
       "      <td>B</td>\n",
       "      <td>654</td>\n",
       "    </tr>\n",
       "    <tr>\n",
       "      <th>59</th>\n",
       "      <td>2019-08-29</td>\n",
       "      <td>B</td>\n",
       "      <td>531</td>\n",
       "    </tr>\n",
       "    <tr>\n",
       "      <th>60</th>\n",
       "      <td>2019-08-30</td>\n",
       "      <td>B</td>\n",
       "      <td>490</td>\n",
       "    </tr>\n",
       "    <tr>\n",
       "      <th>61</th>\n",
       "      <td>2019-08-31</td>\n",
       "      <td>B</td>\n",
       "      <td>718</td>\n",
       "    </tr>\n",
       "  </tbody>\n",
       "</table>\n",
       "<p>62 rows × 3 columns</p>\n",
       "</div>"
      ],
      "text/plain": [
       "         date group  visits\n",
       "0  2019-08-01     A     719\n",
       "1  2019-08-02     A     619\n",
       "2  2019-08-03     A     507\n",
       "3  2019-08-04     A     717\n",
       "4  2019-08-05     A     756\n",
       "..        ...   ...     ...\n",
       "57 2019-08-27     B     720\n",
       "58 2019-08-28     B     654\n",
       "59 2019-08-29     B     531\n",
       "60 2019-08-30     B     490\n",
       "61 2019-08-31     B     718\n",
       "\n",
       "[62 rows x 3 columns]"
      ]
     },
     "execution_count": 30,
     "metadata": {},
     "output_type": "execute_result"
    }
   ],
   "source": [
    "visits"
   ]
  },
  {
   "cell_type": "code",
   "execution_count": 31,
   "metadata": {},
   "outputs": [],
   "source": [
    "dates_groups = new_orders[['date', 'group']].drop_duplicates()"
   ]
  },
  {
   "cell_type": "code",
   "execution_count": 32,
   "metadata": {},
   "outputs": [],
   "source": [
    "orders_agg = dates_groups.apply(lambda x: new_orders[np.logical_and(new_orders['date'] <= x['date'],new_orders['group'] == x['group'] )].agg({'date':'max', 'group': 'max', 'transactionId' : pd.Series.nunique, 'visitorId' : pd.Series.nunique, 'revenue':'sum'}), axis=1).sort_values(by=['date','group'])"
   ]
  },
  {
   "cell_type": "code",
   "execution_count": 33,
   "metadata": {},
   "outputs": [],
   "source": [
    "visits_agg = dates_groups.apply(lambda x: visits[np.logical_and(visits['date'] <= x['date'], visits['group'] == x['group'])].agg({'date' : 'max', 'group' : 'max', 'visits' : 'sum'}), axis=1).sort_values(by=['date','group'])"
   ]
  },
  {
   "cell_type": "code",
   "execution_count": 34,
   "metadata": {},
   "outputs": [],
   "source": [
    "data = orders_agg.merge(visits_agg, left_on=['date', 'group'], right_on=['date', 'group'])\n",
    "data.columns = ['date', 'group', 'orders', 'buyers', 'revenue', 'visitors']"
   ]
  },
  {
   "cell_type": "code",
   "execution_count": 35,
   "metadata": {},
   "outputs": [
    {
     "data": {
      "text/html": [
       "<div>\n",
       "<style scoped>\n",
       "    .dataframe tbody tr th:only-of-type {\n",
       "        vertical-align: middle;\n",
       "    }\n",
       "\n",
       "    .dataframe tbody tr th {\n",
       "        vertical-align: top;\n",
       "    }\n",
       "\n",
       "    .dataframe thead th {\n",
       "        text-align: right;\n",
       "    }\n",
       "</style>\n",
       "<table border=\"1\" class=\"dataframe\">\n",
       "  <thead>\n",
       "    <tr style=\"text-align: right;\">\n",
       "      <th></th>\n",
       "      <th>date</th>\n",
       "      <th>group</th>\n",
       "      <th>orders</th>\n",
       "      <th>buyers</th>\n",
       "      <th>revenue</th>\n",
       "      <th>visitors</th>\n",
       "    </tr>\n",
       "  </thead>\n",
       "  <tbody>\n",
       "    <tr>\n",
       "      <th>0</th>\n",
       "      <td>2019-08-01</td>\n",
       "      <td>A</td>\n",
       "      <td>23</td>\n",
       "      <td>19</td>\n",
       "      <td>2266.6</td>\n",
       "      <td>719</td>\n",
       "    </tr>\n",
       "    <tr>\n",
       "      <th>1</th>\n",
       "      <td>2019-08-01</td>\n",
       "      <td>B</td>\n",
       "      <td>17</td>\n",
       "      <td>17</td>\n",
       "      <td>967.2</td>\n",
       "      <td>713</td>\n",
       "    </tr>\n",
       "    <tr>\n",
       "      <th>2</th>\n",
       "      <td>2019-08-02</td>\n",
       "      <td>A</td>\n",
       "      <td>42</td>\n",
       "      <td>36</td>\n",
       "      <td>3734.9</td>\n",
       "      <td>1338</td>\n",
       "    </tr>\n",
       "    <tr>\n",
       "      <th>3</th>\n",
       "      <td>2019-08-02</td>\n",
       "      <td>B</td>\n",
       "      <td>40</td>\n",
       "      <td>39</td>\n",
       "      <td>3535.3</td>\n",
       "      <td>1294</td>\n",
       "    </tr>\n",
       "    <tr>\n",
       "      <th>4</th>\n",
       "      <td>2019-08-03</td>\n",
       "      <td>A</td>\n",
       "      <td>66</td>\n",
       "      <td>60</td>\n",
       "      <td>5550.1</td>\n",
       "      <td>1845</td>\n",
       "    </tr>\n",
       "    <tr>\n",
       "      <th>...</th>\n",
       "      <td>...</td>\n",
       "      <td>...</td>\n",
       "      <td>...</td>\n",
       "      <td>...</td>\n",
       "      <td>...</td>\n",
       "      <td>...</td>\n",
       "    </tr>\n",
       "    <tr>\n",
       "      <th>57</th>\n",
       "      <td>2019-08-29</td>\n",
       "      <td>B</td>\n",
       "      <td>510</td>\n",
       "      <td>490</td>\n",
       "      <td>74576.7</td>\n",
       "      <td>17708</td>\n",
       "    </tr>\n",
       "    <tr>\n",
       "      <th>58</th>\n",
       "      <td>2019-08-30</td>\n",
       "      <td>A</td>\n",
       "      <td>460</td>\n",
       "      <td>437</td>\n",
       "      <td>52363.7</td>\n",
       "      <td>18037</td>\n",
       "    </tr>\n",
       "    <tr>\n",
       "      <th>59</th>\n",
       "      <td>2019-08-30</td>\n",
       "      <td>B</td>\n",
       "      <td>531</td>\n",
       "      <td>511</td>\n",
       "      <td>77863.5</td>\n",
       "      <td>18198</td>\n",
       "    </tr>\n",
       "    <tr>\n",
       "      <th>60</th>\n",
       "      <td>2019-08-31</td>\n",
       "      <td>A</td>\n",
       "      <td>468</td>\n",
       "      <td>445</td>\n",
       "      <td>53212.0</td>\n",
       "      <td>18736</td>\n",
       "    </tr>\n",
       "    <tr>\n",
       "      <th>61</th>\n",
       "      <td>2019-08-31</td>\n",
       "      <td>B</td>\n",
       "      <td>548</td>\n",
       "      <td>528</td>\n",
       "      <td>79651.2</td>\n",
       "      <td>18916</td>\n",
       "    </tr>\n",
       "  </tbody>\n",
       "</table>\n",
       "<p>62 rows × 6 columns</p>\n",
       "</div>"
      ],
      "text/plain": [
       "         date group  orders  buyers  revenue  visitors\n",
       "0  2019-08-01     A      23      19   2266.6       719\n",
       "1  2019-08-01     B      17      17    967.2       713\n",
       "2  2019-08-02     A      42      36   3734.9      1338\n",
       "3  2019-08-02     B      40      39   3535.3      1294\n",
       "4  2019-08-03     A      66      60   5550.1      1845\n",
       "..        ...   ...     ...     ...      ...       ...\n",
       "57 2019-08-29     B     510     490  74576.7     17708\n",
       "58 2019-08-30     A     460     437  52363.7     18037\n",
       "59 2019-08-30     B     531     511  77863.5     18198\n",
       "60 2019-08-31     A     468     445  53212.0     18736\n",
       "61 2019-08-31     B     548     528  79651.2     18916\n",
       "\n",
       "[62 rows x 6 columns]"
      ]
     },
     "execution_count": 35,
     "metadata": {},
     "output_type": "execute_result"
    }
   ],
   "source": [
    "data"
   ]
  },
  {
   "cell_type": "code",
   "execution_count": 36,
   "metadata": {},
   "outputs": [],
   "source": [
    "A = data[data['group']=='A'][['date','revenue', 'orders', 'visitors']]\n",
    "B = data[data['group']=='B'][['date','revenue', 'orders', 'visitors']]"
   ]
  },
  {
   "cell_type": "code",
   "execution_count": 37,
   "metadata": {},
   "outputs": [
    {
     "data": {
      "text/html": [
       "<div>\n",
       "<style scoped>\n",
       "    .dataframe tbody tr th:only-of-type {\n",
       "        vertical-align: middle;\n",
       "    }\n",
       "\n",
       "    .dataframe tbody tr th {\n",
       "        vertical-align: top;\n",
       "    }\n",
       "\n",
       "    .dataframe thead th {\n",
       "        text-align: right;\n",
       "    }\n",
       "</style>\n",
       "<table border=\"1\" class=\"dataframe\">\n",
       "  <thead>\n",
       "    <tr style=\"text-align: right;\">\n",
       "      <th></th>\n",
       "      <th>date</th>\n",
       "      <th>revenue</th>\n",
       "      <th>orders</th>\n",
       "      <th>visitors</th>\n",
       "    </tr>\n",
       "  </thead>\n",
       "  <tbody>\n",
       "    <tr>\n",
       "      <th>0</th>\n",
       "      <td>2019-08-01</td>\n",
       "      <td>2266.6</td>\n",
       "      <td>23</td>\n",
       "      <td>719</td>\n",
       "    </tr>\n",
       "    <tr>\n",
       "      <th>2</th>\n",
       "      <td>2019-08-02</td>\n",
       "      <td>3734.9</td>\n",
       "      <td>42</td>\n",
       "      <td>1338</td>\n",
       "    </tr>\n",
       "    <tr>\n",
       "      <th>4</th>\n",
       "      <td>2019-08-03</td>\n",
       "      <td>5550.1</td>\n",
       "      <td>66</td>\n",
       "      <td>1845</td>\n",
       "    </tr>\n",
       "    <tr>\n",
       "      <th>6</th>\n",
       "      <td>2019-08-04</td>\n",
       "      <td>6225.6</td>\n",
       "      <td>77</td>\n",
       "      <td>2562</td>\n",
       "    </tr>\n",
       "    <tr>\n",
       "      <th>8</th>\n",
       "      <td>2019-08-05</td>\n",
       "      <td>7623.6</td>\n",
       "      <td>99</td>\n",
       "      <td>3318</td>\n",
       "    </tr>\n",
       "    <tr>\n",
       "      <th>10</th>\n",
       "      <td>2019-08-06</td>\n",
       "      <td>8292.0</td>\n",
       "      <td>114</td>\n",
       "      <td>3985</td>\n",
       "    </tr>\n",
       "    <tr>\n",
       "      <th>12</th>\n",
       "      <td>2019-08-07</td>\n",
       "      <td>10234.0</td>\n",
       "      <td>130</td>\n",
       "      <td>4629</td>\n",
       "    </tr>\n",
       "    <tr>\n",
       "      <th>14</th>\n",
       "      <td>2019-08-08</td>\n",
       "      <td>11638.8</td>\n",
       "      <td>144</td>\n",
       "      <td>5239</td>\n",
       "    </tr>\n",
       "    <tr>\n",
       "      <th>16</th>\n",
       "      <td>2019-08-09</td>\n",
       "      <td>13734.0</td>\n",
       "      <td>155</td>\n",
       "      <td>5856</td>\n",
       "    </tr>\n",
       "    <tr>\n",
       "      <th>18</th>\n",
       "      <td>2019-08-10</td>\n",
       "      <td>16121.5</td>\n",
       "      <td>170</td>\n",
       "      <td>6262</td>\n",
       "    </tr>\n",
       "    <tr>\n",
       "      <th>20</th>\n",
       "      <td>2019-08-11</td>\n",
       "      <td>17084.9</td>\n",
       "      <td>181</td>\n",
       "      <td>6980</td>\n",
       "    </tr>\n",
       "    <tr>\n",
       "      <th>22</th>\n",
       "      <td>2019-08-12</td>\n",
       "      <td>20533.7</td>\n",
       "      <td>200</td>\n",
       "      <td>7575</td>\n",
       "    </tr>\n",
       "    <tr>\n",
       "      <th>24</th>\n",
       "      <td>2019-08-13</td>\n",
       "      <td>24630.6</td>\n",
       "      <td>214</td>\n",
       "      <td>8323</td>\n",
       "    </tr>\n",
       "    <tr>\n",
       "      <th>26</th>\n",
       "      <td>2019-08-14</td>\n",
       "      <td>25347.2</td>\n",
       "      <td>231</td>\n",
       "      <td>9058</td>\n",
       "    </tr>\n",
       "    <tr>\n",
       "      <th>28</th>\n",
       "      <td>2019-08-15</td>\n",
       "      <td>26622.5</td>\n",
       "      <td>241</td>\n",
       "      <td>9686</td>\n",
       "    </tr>\n",
       "    <tr>\n",
       "      <th>30</th>\n",
       "      <td>2019-08-16</td>\n",
       "      <td>28221.6</td>\n",
       "      <td>259</td>\n",
       "      <td>10047</td>\n",
       "    </tr>\n",
       "    <tr>\n",
       "      <th>32</th>\n",
       "      <td>2019-08-17</td>\n",
       "      <td>28770.1</td>\n",
       "      <td>265</td>\n",
       "      <td>10459</td>\n",
       "    </tr>\n",
       "    <tr>\n",
       "      <th>34</th>\n",
       "      <td>2019-08-18</td>\n",
       "      <td>29735.7</td>\n",
       "      <td>278</td>\n",
       "      <td>11127</td>\n",
       "    </tr>\n",
       "    <tr>\n",
       "      <th>36</th>\n",
       "      <td>2019-08-19</td>\n",
       "      <td>32389.3</td>\n",
       "      <td>299</td>\n",
       "      <td>11629</td>\n",
       "    </tr>\n",
       "    <tr>\n",
       "      <th>38</th>\n",
       "      <td>2019-08-20</td>\n",
       "      <td>33325.3</td>\n",
       "      <td>309</td>\n",
       "      <td>12204</td>\n",
       "    </tr>\n",
       "    <tr>\n",
       "      <th>40</th>\n",
       "      <td>2019-08-21</td>\n",
       "      <td>36004.2</td>\n",
       "      <td>329</td>\n",
       "      <td>12850</td>\n",
       "    </tr>\n",
       "    <tr>\n",
       "      <th>42</th>\n",
       "      <td>2019-08-22</td>\n",
       "      <td>37455.1</td>\n",
       "      <td>339</td>\n",
       "      <td>13459</td>\n",
       "    </tr>\n",
       "    <tr>\n",
       "      <th>44</th>\n",
       "      <td>2019-08-23</td>\n",
       "      <td>38409.2</td>\n",
       "      <td>359</td>\n",
       "      <td>13927</td>\n",
       "    </tr>\n",
       "    <tr>\n",
       "      <th>46</th>\n",
       "      <td>2019-08-24</td>\n",
       "      <td>40321.3</td>\n",
       "      <td>372</td>\n",
       "      <td>14322</td>\n",
       "    </tr>\n",
       "    <tr>\n",
       "      <th>48</th>\n",
       "      <td>2019-08-25</td>\n",
       "      <td>41139.5</td>\n",
       "      <td>380</td>\n",
       "      <td>14943</td>\n",
       "    </tr>\n",
       "    <tr>\n",
       "      <th>50</th>\n",
       "      <td>2019-08-26</td>\n",
       "      <td>43604.3</td>\n",
       "      <td>396</td>\n",
       "      <td>15665</td>\n",
       "    </tr>\n",
       "    <tr>\n",
       "      <th>52</th>\n",
       "      <td>2019-08-27</td>\n",
       "      <td>46539.0</td>\n",
       "      <td>419</td>\n",
       "      <td>16376</td>\n",
       "    </tr>\n",
       "    <tr>\n",
       "      <th>54</th>\n",
       "      <td>2019-08-28</td>\n",
       "      <td>48065.9</td>\n",
       "      <td>434</td>\n",
       "      <td>16970</td>\n",
       "    </tr>\n",
       "    <tr>\n",
       "      <th>56</th>\n",
       "      <td>2019-08-29</td>\n",
       "      <td>51134.8</td>\n",
       "      <td>451</td>\n",
       "      <td>17547</td>\n",
       "    </tr>\n",
       "    <tr>\n",
       "      <th>58</th>\n",
       "      <td>2019-08-30</td>\n",
       "      <td>52363.7</td>\n",
       "      <td>460</td>\n",
       "      <td>18037</td>\n",
       "    </tr>\n",
       "    <tr>\n",
       "      <th>60</th>\n",
       "      <td>2019-08-31</td>\n",
       "      <td>53212.0</td>\n",
       "      <td>468</td>\n",
       "      <td>18736</td>\n",
       "    </tr>\n",
       "  </tbody>\n",
       "</table>\n",
       "</div>"
      ],
      "text/plain": [
       "         date  revenue  orders  visitors\n",
       "0  2019-08-01   2266.6      23       719\n",
       "2  2019-08-02   3734.9      42      1338\n",
       "4  2019-08-03   5550.1      66      1845\n",
       "6  2019-08-04   6225.6      77      2562\n",
       "8  2019-08-05   7623.6      99      3318\n",
       "10 2019-08-06   8292.0     114      3985\n",
       "12 2019-08-07  10234.0     130      4629\n",
       "14 2019-08-08  11638.8     144      5239\n",
       "16 2019-08-09  13734.0     155      5856\n",
       "18 2019-08-10  16121.5     170      6262\n",
       "20 2019-08-11  17084.9     181      6980\n",
       "22 2019-08-12  20533.7     200      7575\n",
       "24 2019-08-13  24630.6     214      8323\n",
       "26 2019-08-14  25347.2     231      9058\n",
       "28 2019-08-15  26622.5     241      9686\n",
       "30 2019-08-16  28221.6     259     10047\n",
       "32 2019-08-17  28770.1     265     10459\n",
       "34 2019-08-18  29735.7     278     11127\n",
       "36 2019-08-19  32389.3     299     11629\n",
       "38 2019-08-20  33325.3     309     12204\n",
       "40 2019-08-21  36004.2     329     12850\n",
       "42 2019-08-22  37455.1     339     13459\n",
       "44 2019-08-23  38409.2     359     13927\n",
       "46 2019-08-24  40321.3     372     14322\n",
       "48 2019-08-25  41139.5     380     14943\n",
       "50 2019-08-26  43604.3     396     15665\n",
       "52 2019-08-27  46539.0     419     16376\n",
       "54 2019-08-28  48065.9     434     16970\n",
       "56 2019-08-29  51134.8     451     17547\n",
       "58 2019-08-30  52363.7     460     18037\n",
       "60 2019-08-31  53212.0     468     18736"
      ]
     },
     "execution_count": 37,
     "metadata": {},
     "output_type": "execute_result"
    }
   ],
   "source": [
    "A"
   ]
  },
  {
   "cell_type": "code",
   "execution_count": 38,
   "metadata": {},
   "outputs": [
    {
     "data": {
      "text/html": [
       "<div>\n",
       "<style scoped>\n",
       "    .dataframe tbody tr th:only-of-type {\n",
       "        vertical-align: middle;\n",
       "    }\n",
       "\n",
       "    .dataframe tbody tr th {\n",
       "        vertical-align: top;\n",
       "    }\n",
       "\n",
       "    .dataframe thead th {\n",
       "        text-align: right;\n",
       "    }\n",
       "</style>\n",
       "<table border=\"1\" class=\"dataframe\">\n",
       "  <thead>\n",
       "    <tr style=\"text-align: right;\">\n",
       "      <th></th>\n",
       "      <th>date</th>\n",
       "      <th>revenue</th>\n",
       "      <th>orders</th>\n",
       "      <th>visitors</th>\n",
       "    </tr>\n",
       "  </thead>\n",
       "  <tbody>\n",
       "    <tr>\n",
       "      <th>1</th>\n",
       "      <td>2019-08-01</td>\n",
       "      <td>967.2</td>\n",
       "      <td>17</td>\n",
       "      <td>713</td>\n",
       "    </tr>\n",
       "    <tr>\n",
       "      <th>3</th>\n",
       "      <td>2019-08-02</td>\n",
       "      <td>3535.3</td>\n",
       "      <td>40</td>\n",
       "      <td>1294</td>\n",
       "    </tr>\n",
       "    <tr>\n",
       "      <th>5</th>\n",
       "      <td>2019-08-03</td>\n",
       "      <td>4606.9</td>\n",
       "      <td>54</td>\n",
       "      <td>1803</td>\n",
       "    </tr>\n",
       "    <tr>\n",
       "      <th>7</th>\n",
       "      <td>2019-08-04</td>\n",
       "      <td>6138.5</td>\n",
       "      <td>68</td>\n",
       "      <td>2573</td>\n",
       "    </tr>\n",
       "    <tr>\n",
       "      <th>9</th>\n",
       "      <td>2019-08-05</td>\n",
       "      <td>7587.8</td>\n",
       "      <td>89</td>\n",
       "      <td>3280</td>\n",
       "    </tr>\n",
       "    <tr>\n",
       "      <th>11</th>\n",
       "      <td>2019-08-06</td>\n",
       "      <td>10957.1</td>\n",
       "      <td>112</td>\n",
       "      <td>3935</td>\n",
       "    </tr>\n",
       "    <tr>\n",
       "      <th>13</th>\n",
       "      <td>2019-08-07</td>\n",
       "      <td>14392.7</td>\n",
       "      <td>135</td>\n",
       "      <td>4644</td>\n",
       "    </tr>\n",
       "    <tr>\n",
       "      <th>15</th>\n",
       "      <td>2019-08-08</td>\n",
       "      <td>16772.6</td>\n",
       "      <td>157</td>\n",
       "      <td>5298</td>\n",
       "    </tr>\n",
       "    <tr>\n",
       "      <th>17</th>\n",
       "      <td>2019-08-09</td>\n",
       "      <td>18428.8</td>\n",
       "      <td>176</td>\n",
       "      <td>5908</td>\n",
       "    </tr>\n",
       "    <tr>\n",
       "      <th>19</th>\n",
       "      <td>2019-08-10</td>\n",
       "      <td>20103.6</td>\n",
       "      <td>198</td>\n",
       "      <td>6277</td>\n",
       "    </tr>\n",
       "    <tr>\n",
       "      <th>21</th>\n",
       "      <td>2019-08-11</td>\n",
       "      <td>20959.0</td>\n",
       "      <td>210</td>\n",
       "      <td>6998</td>\n",
       "    </tr>\n",
       "    <tr>\n",
       "      <th>23</th>\n",
       "      <td>2019-08-12</td>\n",
       "      <td>22616.8</td>\n",
       "      <td>229</td>\n",
       "      <td>7541</td>\n",
       "    </tr>\n",
       "    <tr>\n",
       "      <th>25</th>\n",
       "      <td>2019-08-13</td>\n",
       "      <td>24491.3</td>\n",
       "      <td>249</td>\n",
       "      <td>8310</td>\n",
       "    </tr>\n",
       "    <tr>\n",
       "      <th>27</th>\n",
       "      <td>2019-08-14</td>\n",
       "      <td>26183.7</td>\n",
       "      <td>263</td>\n",
       "      <td>9056</td>\n",
       "    </tr>\n",
       "    <tr>\n",
       "      <th>29</th>\n",
       "      <td>2019-08-15</td>\n",
       "      <td>31033.2</td>\n",
       "      <td>289</td>\n",
       "      <td>9600</td>\n",
       "    </tr>\n",
       "    <tr>\n",
       "      <th>31</th>\n",
       "      <td>2019-08-16</td>\n",
       "      <td>32840.2</td>\n",
       "      <td>307</td>\n",
       "      <td>10013</td>\n",
       "    </tr>\n",
       "    <tr>\n",
       "      <th>33</th>\n",
       "      <td>2019-08-17</td>\n",
       "      <td>34116.2</td>\n",
       "      <td>320</td>\n",
       "      <td>10434</td>\n",
       "    </tr>\n",
       "    <tr>\n",
       "      <th>35</th>\n",
       "      <td>2019-08-18</td>\n",
       "      <td>34684.7</td>\n",
       "      <td>327</td>\n",
       "      <td>11171</td>\n",
       "    </tr>\n",
       "    <tr>\n",
       "      <th>37</th>\n",
       "      <td>2019-08-19</td>\n",
       "      <td>56749.6</td>\n",
       "      <td>348</td>\n",
       "      <td>11658</td>\n",
       "    </tr>\n",
       "    <tr>\n",
       "      <th>39</th>\n",
       "      <td>2019-08-20</td>\n",
       "      <td>59074.2</td>\n",
       "      <td>368</td>\n",
       "      <td>12218</td>\n",
       "    </tr>\n",
       "    <tr>\n",
       "      <th>41</th>\n",
       "      <td>2019-08-21</td>\n",
       "      <td>61274.4</td>\n",
       "      <td>380</td>\n",
       "      <td>12874</td>\n",
       "    </tr>\n",
       "    <tr>\n",
       "      <th>43</th>\n",
       "      <td>2019-08-22</td>\n",
       "      <td>63503.9</td>\n",
       "      <td>401</td>\n",
       "      <td>13524</td>\n",
       "    </tr>\n",
       "    <tr>\n",
       "      <th>45</th>\n",
       "      <td>2019-08-23</td>\n",
       "      <td>64732.8</td>\n",
       "      <td>414</td>\n",
       "      <td>14070</td>\n",
       "    </tr>\n",
       "    <tr>\n",
       "      <th>47</th>\n",
       "      <td>2019-08-24</td>\n",
       "      <td>66138.5</td>\n",
       "      <td>428</td>\n",
       "      <td>14448</td>\n",
       "    </tr>\n",
       "    <tr>\n",
       "      <th>49</th>\n",
       "      <td>2019-08-25</td>\n",
       "      <td>67393.8</td>\n",
       "      <td>440</td>\n",
       "      <td>15127</td>\n",
       "    </tr>\n",
       "    <tr>\n",
       "      <th>51</th>\n",
       "      <td>2019-08-26</td>\n",
       "      <td>70138.1</td>\n",
       "      <td>462</td>\n",
       "      <td>15803</td>\n",
       "    </tr>\n",
       "    <tr>\n",
       "      <th>53</th>\n",
       "      <td>2019-08-27</td>\n",
       "      <td>71885.0</td>\n",
       "      <td>473</td>\n",
       "      <td>16523</td>\n",
       "    </tr>\n",
       "    <tr>\n",
       "      <th>55</th>\n",
       "      <td>2019-08-28</td>\n",
       "      <td>72895.5</td>\n",
       "      <td>495</td>\n",
       "      <td>17177</td>\n",
       "    </tr>\n",
       "    <tr>\n",
       "      <th>57</th>\n",
       "      <td>2019-08-29</td>\n",
       "      <td>74576.7</td>\n",
       "      <td>510</td>\n",
       "      <td>17708</td>\n",
       "    </tr>\n",
       "    <tr>\n",
       "      <th>59</th>\n",
       "      <td>2019-08-30</td>\n",
       "      <td>77863.5</td>\n",
       "      <td>531</td>\n",
       "      <td>18198</td>\n",
       "    </tr>\n",
       "    <tr>\n",
       "      <th>61</th>\n",
       "      <td>2019-08-31</td>\n",
       "      <td>79651.2</td>\n",
       "      <td>548</td>\n",
       "      <td>18916</td>\n",
       "    </tr>\n",
       "  </tbody>\n",
       "</table>\n",
       "</div>"
      ],
      "text/plain": [
       "         date  revenue  orders  visitors\n",
       "1  2019-08-01    967.2      17       713\n",
       "3  2019-08-02   3535.3      40      1294\n",
       "5  2019-08-03   4606.9      54      1803\n",
       "7  2019-08-04   6138.5      68      2573\n",
       "9  2019-08-05   7587.8      89      3280\n",
       "11 2019-08-06  10957.1     112      3935\n",
       "13 2019-08-07  14392.7     135      4644\n",
       "15 2019-08-08  16772.6     157      5298\n",
       "17 2019-08-09  18428.8     176      5908\n",
       "19 2019-08-10  20103.6     198      6277\n",
       "21 2019-08-11  20959.0     210      6998\n",
       "23 2019-08-12  22616.8     229      7541\n",
       "25 2019-08-13  24491.3     249      8310\n",
       "27 2019-08-14  26183.7     263      9056\n",
       "29 2019-08-15  31033.2     289      9600\n",
       "31 2019-08-16  32840.2     307     10013\n",
       "33 2019-08-17  34116.2     320     10434\n",
       "35 2019-08-18  34684.7     327     11171\n",
       "37 2019-08-19  56749.6     348     11658\n",
       "39 2019-08-20  59074.2     368     12218\n",
       "41 2019-08-21  61274.4     380     12874\n",
       "43 2019-08-22  63503.9     401     13524\n",
       "45 2019-08-23  64732.8     414     14070\n",
       "47 2019-08-24  66138.5     428     14448\n",
       "49 2019-08-25  67393.8     440     15127\n",
       "51 2019-08-26  70138.1     462     15803\n",
       "53 2019-08-27  71885.0     473     16523\n",
       "55 2019-08-28  72895.5     495     17177\n",
       "57 2019-08-29  74576.7     510     17708\n",
       "59 2019-08-30  77863.5     531     18198\n",
       "61 2019-08-31  79651.2     548     18916"
      ]
     },
     "execution_count": 38,
     "metadata": {},
     "output_type": "execute_result"
    }
   ],
   "source": [
    "B"
   ]
  },
  {
   "cell_type": "markdown",
   "metadata": {},
   "source": [
    "Now I'll build the graph cumulative revenue by group"
   ]
  },
  {
   "cell_type": "code",
   "execution_count": 39,
   "metadata": {},
   "outputs": [
    {
     "data": {
      "text/plain": [
       "<matplotlib.legend.Legend at 0x7f471c12fd90>"
      ]
     },
     "execution_count": 39,
     "metadata": {},
     "output_type": "execute_result"
    },
    {
     "data": {
      "image/png": "[encoded data removed]",
      "text/plain": [
       "<Figure size 1500x600 with 1 Axes>"
      ]
     },
     "metadata": {},
     "output_type": "display_data"
    }
   ],
   "source": [
    "plt.rcParams[\"figure.figsize\"] = (15,6)\n",
    "plt.plot(A['date'], A['revenue'], label='Control')\n",
    "plt.plot(B['date'], B['revenue'], label='Test')\n",
    "plt.title('Cumulative Revenue by Group')\n",
    "plt.xlabel('Date')\n",
    "plt.ylabel('Cumulative Revenue')\n",
    "plt.legend()"
   ]
  },
  {
   "cell_type": "markdown",
   "metadata": {},
   "source": [
    "Based on the graph, we observe a consistent increase in revenue over time for both groups. Additionally, there are instances where the revenue for group B surpasses that of group A, indicating the potential success of the modified version of the service. To validate these observations, we will employ additional analytical methods."
   ]
  },
  {
   "cell_type": "markdown",
   "metadata": {},
   "source": [
    "### Graph cumulative average order size by group."
   ]
  },
  {
   "cell_type": "code",
   "execution_count": 40,
   "metadata": {},
   "outputs": [],
   "source": [
    "A['cum_avg_order'] = A['revenue']/A['orders']\n",
    "B['cum_avg_order'] = B['revenue']/B['orders']"
   ]
  },
  {
   "cell_type": "code",
   "execution_count": 41,
   "metadata": {},
   "outputs": [
    {
     "data": {
      "text/plain": [
       "<matplotlib.legend.Legend at 0x7f4719773e50>"
      ]
     },
     "execution_count": 41,
     "metadata": {},
     "output_type": "execute_result"
    },
    {
     "data": {
      "image/png": "[encoded data removed]",
      "text/plain": [
       "<Figure size 1500x600 with 1 Axes>"
      ]
     },
     "metadata": {},
     "output_type": "display_data"
    }
   ],
   "source": [
    "plt.rcParams[\"figure.figsize\"] = (15,6)\n",
    "plt.plot(A['date'], A['cum_avg_order'], label='A')\n",
    "plt.plot(B['date'], B['cum_avg_order'], label='B')\n",
    "plt.title('Cumulative Average Order Size by Group')\n",
    "plt.xlabel('Date')\n",
    "plt.ylabel('Cumulative Average Order Size')\n",
    "plt.legend()"
   ]
  },
  {
   "cell_type": "markdown",
   "metadata": {},
   "source": [
    "Indeed, the graph illustrates specific instances where the average order size in group B experiences increase, but not a lot. This observation strengthens our conclusion drawn from the initial graph, indicating the success of the modified service, but we need to analyse this more because I don't see here notable difference between A and B group."
   ]
  },
  {
   "cell_type": "markdown",
   "metadata": {},
   "source": [
    "### Relative difference in cumulative average order size for group B compared with group A"
   ]
  },
  {
   "cell_type": "code",
   "execution_count": 42,
   "metadata": {},
   "outputs": [],
   "source": [
    "AB = A.merge(B, on='date', suffixes=('_a', '_b'))"
   ]
  },
  {
   "cell_type": "code",
   "execution_count": 43,
   "metadata": {
    "scrolled": false
   },
   "outputs": [
    {
     "data": {
      "text/html": [
       "<div>\n",
       "<style scoped>\n",
       "    .dataframe tbody tr th:only-of-type {\n",
       "        vertical-align: middle;\n",
       "    }\n",
       "\n",
       "    .dataframe tbody tr th {\n",
       "        vertical-align: top;\n",
       "    }\n",
       "\n",
       "    .dataframe thead th {\n",
       "        text-align: right;\n",
       "    }\n",
       "</style>\n",
       "<table border=\"1\" class=\"dataframe\">\n",
       "  <thead>\n",
       "    <tr style=\"text-align: right;\">\n",
       "      <th></th>\n",
       "      <th>date</th>\n",
       "      <th>revenue_a</th>\n",
       "      <th>orders_a</th>\n",
       "      <th>visitors_a</th>\n",
       "      <th>cum_avg_order_a</th>\n",
       "      <th>revenue_b</th>\n",
       "      <th>orders_b</th>\n",
       "      <th>visitors_b</th>\n",
       "      <th>cum_avg_order_b</th>\n",
       "    </tr>\n",
       "  </thead>\n",
       "  <tbody>\n",
       "    <tr>\n",
       "      <th>0</th>\n",
       "      <td>2019-08-01</td>\n",
       "      <td>2266.6</td>\n",
       "      <td>23</td>\n",
       "      <td>719</td>\n",
       "      <td>98.547826</td>\n",
       "      <td>967.2</td>\n",
       "      <td>17</td>\n",
       "      <td>713</td>\n",
       "      <td>56.894118</td>\n",
       "    </tr>\n",
       "    <tr>\n",
       "      <th>1</th>\n",
       "      <td>2019-08-02</td>\n",
       "      <td>3734.9</td>\n",
       "      <td>42</td>\n",
       "      <td>1338</td>\n",
       "      <td>88.926190</td>\n",
       "      <td>3535.3</td>\n",
       "      <td>40</td>\n",
       "      <td>1294</td>\n",
       "      <td>88.382500</td>\n",
       "    </tr>\n",
       "    <tr>\n",
       "      <th>2</th>\n",
       "      <td>2019-08-03</td>\n",
       "      <td>5550.1</td>\n",
       "      <td>66</td>\n",
       "      <td>1845</td>\n",
       "      <td>84.092424</td>\n",
       "      <td>4606.9</td>\n",
       "      <td>54</td>\n",
       "      <td>1803</td>\n",
       "      <td>85.312963</td>\n",
       "    </tr>\n",
       "    <tr>\n",
       "      <th>3</th>\n",
       "      <td>2019-08-04</td>\n",
       "      <td>6225.6</td>\n",
       "      <td>77</td>\n",
       "      <td>2562</td>\n",
       "      <td>80.851948</td>\n",
       "      <td>6138.5</td>\n",
       "      <td>68</td>\n",
       "      <td>2573</td>\n",
       "      <td>90.272059</td>\n",
       "    </tr>\n",
       "    <tr>\n",
       "      <th>4</th>\n",
       "      <td>2019-08-05</td>\n",
       "      <td>7623.6</td>\n",
       "      <td>99</td>\n",
       "      <td>3318</td>\n",
       "      <td>77.006061</td>\n",
       "      <td>7587.8</td>\n",
       "      <td>89</td>\n",
       "      <td>3280</td>\n",
       "      <td>85.256180</td>\n",
       "    </tr>\n",
       "  </tbody>\n",
       "</table>\n",
       "</div>"
      ],
      "text/plain": [
       "        date  revenue_a  orders_a  visitors_a  cum_avg_order_a  revenue_b  \\\n",
       "0 2019-08-01     2266.6        23         719        98.547826      967.2   \n",
       "1 2019-08-02     3734.9        42        1338        88.926190     3535.3   \n",
       "2 2019-08-03     5550.1        66        1845        84.092424     4606.9   \n",
       "3 2019-08-04     6225.6        77        2562        80.851948     6138.5   \n",
       "4 2019-08-05     7623.6        99        3318        77.006061     7587.8   \n",
       "\n",
       "   orders_b  visitors_b  cum_avg_order_b  \n",
       "0        17         713        56.894118  \n",
       "1        40        1294        88.382500  \n",
       "2        54        1803        85.312963  \n",
       "3        68        2573        90.272059  \n",
       "4        89        3280        85.256180  "
      ]
     },
     "execution_count": 43,
     "metadata": {},
     "output_type": "execute_result"
    }
   ],
   "source": [
    "AB.head()"
   ]
  },
  {
   "cell_type": "code",
   "execution_count": 44,
   "metadata": {},
   "outputs": [],
   "source": [
    "AB['cum_avg_ord_dif'] = (AB['cum_avg_order_b'] / AB['cum_avg_order_a']) - 1"
   ]
  },
  {
   "cell_type": "code",
   "execution_count": 45,
   "metadata": {},
   "outputs": [
    {
     "data": {
      "image/png": "[encoded data removed]",
      "text/plain": [
       "<Figure size 1500x600 with 1 Axes>"
      ]
     },
     "metadata": {},
     "output_type": "display_data"
    }
   ],
   "source": [
    "plt.rcParams[\"figure.figsize\"] = (15,6)\n",
    "plt.plot(AB['date'], AB['cum_avg_ord_dif'])\n",
    "plt.title('Relative Difference in Cumulative Average Order Size for Group B Compared with Group A')\n",
    "plt.xlabel('Date')\n",
    "plt.ylabel('Relative Difference')\n",
    "plt.show()"
   ]
  },
  {
   "cell_type": "markdown",
   "metadata": {},
   "source": [
    "If the Relative Difference is 0, it indicates that there is no difference between the Cumulative Average Order Sizes for Group A and Group B.\n",
    "\n",
    "If the Relative Difference is less than 0, it suggests that the Cumulative Average Order Size for Group B is smaller than that of Group A."
   ]
  },
  {
   "cell_type": "markdown",
   "metadata": {},
   "source": [
    "At the beginning of the test, group A has greater cumulative average order sizes. However, as we progress through the graph, we notice fluctuations in the cumulative average order size of group B compared to group A. After August 17, 2019, we observe a notable increase in the Cumulative Average Order Sizes for Group B compared to Group A. These fluctuations suggest that the changes in the service being tested on group B may be influencing customer behavior, albeit the impact is not entirely clear. To gain further clarity, conducting additional testing would be advisable."
   ]
  },
  {
   "cell_type": "markdown",
   "metadata": {},
   "source": [
    "### Each group's conversion rate as the ratio of orders to the number of visits for each day."
   ]
  },
  {
   "cell_type": "code",
   "execution_count": 46,
   "metadata": {},
   "outputs": [
    {
     "data": {
      "text/html": [
       "<div>\n",
       "<style scoped>\n",
       "    .dataframe tbody tr th:only-of-type {\n",
       "        vertical-align: middle;\n",
       "    }\n",
       "\n",
       "    .dataframe tbody tr th {\n",
       "        vertical-align: top;\n",
       "    }\n",
       "\n",
       "    .dataframe thead th {\n",
       "        text-align: right;\n",
       "    }\n",
       "</style>\n",
       "<table border=\"1\" class=\"dataframe\">\n",
       "  <thead>\n",
       "    <tr style=\"text-align: right;\">\n",
       "      <th></th>\n",
       "      <th>date</th>\n",
       "      <th>revenue_a</th>\n",
       "      <th>orders_a</th>\n",
       "      <th>visitors_a</th>\n",
       "      <th>cum_avg_order_a</th>\n",
       "      <th>revenue_b</th>\n",
       "      <th>orders_b</th>\n",
       "      <th>visitors_b</th>\n",
       "      <th>cum_avg_order_b</th>\n",
       "      <th>cum_avg_ord_dif</th>\n",
       "    </tr>\n",
       "  </thead>\n",
       "  <tbody>\n",
       "    <tr>\n",
       "      <th>0</th>\n",
       "      <td>2019-08-01</td>\n",
       "      <td>2266.6</td>\n",
       "      <td>23</td>\n",
       "      <td>719</td>\n",
       "      <td>98.547826</td>\n",
       "      <td>967.2</td>\n",
       "      <td>17</td>\n",
       "      <td>713</td>\n",
       "      <td>56.894118</td>\n",
       "      <td>-0.422675</td>\n",
       "    </tr>\n",
       "    <tr>\n",
       "      <th>1</th>\n",
       "      <td>2019-08-02</td>\n",
       "      <td>3734.9</td>\n",
       "      <td>42</td>\n",
       "      <td>1338</td>\n",
       "      <td>88.926190</td>\n",
       "      <td>3535.3</td>\n",
       "      <td>40</td>\n",
       "      <td>1294</td>\n",
       "      <td>88.382500</td>\n",
       "      <td>-0.006114</td>\n",
       "    </tr>\n",
       "    <tr>\n",
       "      <th>2</th>\n",
       "      <td>2019-08-03</td>\n",
       "      <td>5550.1</td>\n",
       "      <td>66</td>\n",
       "      <td>1845</td>\n",
       "      <td>84.092424</td>\n",
       "      <td>4606.9</td>\n",
       "      <td>54</td>\n",
       "      <td>1803</td>\n",
       "      <td>85.312963</td>\n",
       "      <td>0.014514</td>\n",
       "    </tr>\n",
       "    <tr>\n",
       "      <th>3</th>\n",
       "      <td>2019-08-04</td>\n",
       "      <td>6225.6</td>\n",
       "      <td>77</td>\n",
       "      <td>2562</td>\n",
       "      <td>80.851948</td>\n",
       "      <td>6138.5</td>\n",
       "      <td>68</td>\n",
       "      <td>2573</td>\n",
       "      <td>90.272059</td>\n",
       "      <td>0.116511</td>\n",
       "    </tr>\n",
       "    <tr>\n",
       "      <th>4</th>\n",
       "      <td>2019-08-05</td>\n",
       "      <td>7623.6</td>\n",
       "      <td>99</td>\n",
       "      <td>3318</td>\n",
       "      <td>77.006061</td>\n",
       "      <td>7587.8</td>\n",
       "      <td>89</td>\n",
       "      <td>3280</td>\n",
       "      <td>85.256180</td>\n",
       "      <td>0.107136</td>\n",
       "    </tr>\n",
       "  </tbody>\n",
       "</table>\n",
       "</div>"
      ],
      "text/plain": [
       "        date  revenue_a  orders_a  visitors_a  cum_avg_order_a  revenue_b  \\\n",
       "0 2019-08-01     2266.6        23         719        98.547826      967.2   \n",
       "1 2019-08-02     3734.9        42        1338        88.926190     3535.3   \n",
       "2 2019-08-03     5550.1        66        1845        84.092424     4606.9   \n",
       "3 2019-08-04     6225.6        77        2562        80.851948     6138.5   \n",
       "4 2019-08-05     7623.6        99        3318        77.006061     7587.8   \n",
       "\n",
       "   orders_b  visitors_b  cum_avg_order_b  cum_avg_ord_dif  \n",
       "0        17         713        56.894118        -0.422675  \n",
       "1        40        1294        88.382500        -0.006114  \n",
       "2        54        1803        85.312963         0.014514  \n",
       "3        68        2573        90.272059         0.116511  \n",
       "4        89        3280        85.256180         0.107136  "
      ]
     },
     "execution_count": 46,
     "metadata": {},
     "output_type": "execute_result"
    }
   ],
   "source": [
    "AB.head()"
   ]
  },
  {
   "cell_type": "code",
   "execution_count": 47,
   "metadata": {},
   "outputs": [],
   "source": [
    "AB['conversion_a'] = AB['orders_a']/AB['visitors_a']\n",
    "AB['conversion_b'] = AB['orders_b']/AB['visitors_b']"
   ]
  },
  {
   "cell_type": "code",
   "execution_count": 48,
   "metadata": {
    "scrolled": false
   },
   "outputs": [
    {
     "data": {
      "text/html": [
       "<div>\n",
       "<style scoped>\n",
       "    .dataframe tbody tr th:only-of-type {\n",
       "        vertical-align: middle;\n",
       "    }\n",
       "\n",
       "    .dataframe tbody tr th {\n",
       "        vertical-align: top;\n",
       "    }\n",
       "\n",
       "    .dataframe thead th {\n",
       "        text-align: right;\n",
       "    }\n",
       "</style>\n",
       "<table border=\"1\" class=\"dataframe\">\n",
       "  <thead>\n",
       "    <tr style=\"text-align: right;\">\n",
       "      <th></th>\n",
       "      <th>date</th>\n",
       "      <th>revenue_a</th>\n",
       "      <th>orders_a</th>\n",
       "      <th>visitors_a</th>\n",
       "      <th>cum_avg_order_a</th>\n",
       "      <th>revenue_b</th>\n",
       "      <th>orders_b</th>\n",
       "      <th>visitors_b</th>\n",
       "      <th>cum_avg_order_b</th>\n",
       "      <th>cum_avg_ord_dif</th>\n",
       "      <th>conversion_a</th>\n",
       "      <th>conversion_b</th>\n",
       "    </tr>\n",
       "  </thead>\n",
       "  <tbody>\n",
       "    <tr>\n",
       "      <th>0</th>\n",
       "      <td>2019-08-01</td>\n",
       "      <td>2266.6</td>\n",
       "      <td>23</td>\n",
       "      <td>719</td>\n",
       "      <td>98.547826</td>\n",
       "      <td>967.2</td>\n",
       "      <td>17</td>\n",
       "      <td>713</td>\n",
       "      <td>56.894118</td>\n",
       "      <td>-0.422675</td>\n",
       "      <td>0.031989</td>\n",
       "      <td>0.023843</td>\n",
       "    </tr>\n",
       "    <tr>\n",
       "      <th>1</th>\n",
       "      <td>2019-08-02</td>\n",
       "      <td>3734.9</td>\n",
       "      <td>42</td>\n",
       "      <td>1338</td>\n",
       "      <td>88.926190</td>\n",
       "      <td>3535.3</td>\n",
       "      <td>40</td>\n",
       "      <td>1294</td>\n",
       "      <td>88.382500</td>\n",
       "      <td>-0.006114</td>\n",
       "      <td>0.031390</td>\n",
       "      <td>0.030912</td>\n",
       "    </tr>\n",
       "    <tr>\n",
       "      <th>2</th>\n",
       "      <td>2019-08-03</td>\n",
       "      <td>5550.1</td>\n",
       "      <td>66</td>\n",
       "      <td>1845</td>\n",
       "      <td>84.092424</td>\n",
       "      <td>4606.9</td>\n",
       "      <td>54</td>\n",
       "      <td>1803</td>\n",
       "      <td>85.312963</td>\n",
       "      <td>0.014514</td>\n",
       "      <td>0.035772</td>\n",
       "      <td>0.029950</td>\n",
       "    </tr>\n",
       "    <tr>\n",
       "      <th>3</th>\n",
       "      <td>2019-08-04</td>\n",
       "      <td>6225.6</td>\n",
       "      <td>77</td>\n",
       "      <td>2562</td>\n",
       "      <td>80.851948</td>\n",
       "      <td>6138.5</td>\n",
       "      <td>68</td>\n",
       "      <td>2573</td>\n",
       "      <td>90.272059</td>\n",
       "      <td>0.116511</td>\n",
       "      <td>0.030055</td>\n",
       "      <td>0.026428</td>\n",
       "    </tr>\n",
       "    <tr>\n",
       "      <th>4</th>\n",
       "      <td>2019-08-05</td>\n",
       "      <td>7623.6</td>\n",
       "      <td>99</td>\n",
       "      <td>3318</td>\n",
       "      <td>77.006061</td>\n",
       "      <td>7587.8</td>\n",
       "      <td>89</td>\n",
       "      <td>3280</td>\n",
       "      <td>85.256180</td>\n",
       "      <td>0.107136</td>\n",
       "      <td>0.029837</td>\n",
       "      <td>0.027134</td>\n",
       "    </tr>\n",
       "    <tr>\n",
       "      <th>5</th>\n",
       "      <td>2019-08-06</td>\n",
       "      <td>8292.0</td>\n",
       "      <td>114</td>\n",
       "      <td>3985</td>\n",
       "      <td>72.736842</td>\n",
       "      <td>10957.1</td>\n",
       "      <td>112</td>\n",
       "      <td>3935</td>\n",
       "      <td>97.831250</td>\n",
       "      <td>0.345003</td>\n",
       "      <td>0.028607</td>\n",
       "      <td>0.028463</td>\n",
       "    </tr>\n",
       "    <tr>\n",
       "      <th>6</th>\n",
       "      <td>2019-08-07</td>\n",
       "      <td>10234.0</td>\n",
       "      <td>130</td>\n",
       "      <td>4629</td>\n",
       "      <td>78.723077</td>\n",
       "      <td>14392.7</td>\n",
       "      <td>135</td>\n",
       "      <td>4644</td>\n",
       "      <td>106.612593</td>\n",
       "      <td>0.354274</td>\n",
       "      <td>0.028084</td>\n",
       "      <td>0.029070</td>\n",
       "    </tr>\n",
       "    <tr>\n",
       "      <th>7</th>\n",
       "      <td>2019-08-08</td>\n",
       "      <td>11638.8</td>\n",
       "      <td>144</td>\n",
       "      <td>5239</td>\n",
       "      <td>80.825000</td>\n",
       "      <td>16772.6</td>\n",
       "      <td>157</td>\n",
       "      <td>5298</td>\n",
       "      <td>106.831847</td>\n",
       "      <td>0.321767</td>\n",
       "      <td>0.027486</td>\n",
       "      <td>0.029634</td>\n",
       "    </tr>\n",
       "    <tr>\n",
       "      <th>8</th>\n",
       "      <td>2019-08-09</td>\n",
       "      <td>13734.0</td>\n",
       "      <td>155</td>\n",
       "      <td>5856</td>\n",
       "      <td>88.606452</td>\n",
       "      <td>18428.8</td>\n",
       "      <td>176</td>\n",
       "      <td>5908</td>\n",
       "      <td>104.709091</td>\n",
       "      <td>0.181732</td>\n",
       "      <td>0.026469</td>\n",
       "      <td>0.029790</td>\n",
       "    </tr>\n",
       "    <tr>\n",
       "      <th>9</th>\n",
       "      <td>2019-08-10</td>\n",
       "      <td>16121.5</td>\n",
       "      <td>170</td>\n",
       "      <td>6262</td>\n",
       "      <td>94.832353</td>\n",
       "      <td>20103.6</td>\n",
       "      <td>198</td>\n",
       "      <td>6277</td>\n",
       "      <td>101.533333</td>\n",
       "      <td>0.070661</td>\n",
       "      <td>0.027148</td>\n",
       "      <td>0.031544</td>\n",
       "    </tr>\n",
       "    <tr>\n",
       "      <th>10</th>\n",
       "      <td>2019-08-11</td>\n",
       "      <td>17084.9</td>\n",
       "      <td>181</td>\n",
       "      <td>6980</td>\n",
       "      <td>94.391713</td>\n",
       "      <td>20959.0</td>\n",
       "      <td>210</td>\n",
       "      <td>6998</td>\n",
       "      <td>99.804762</td>\n",
       "      <td>0.057347</td>\n",
       "      <td>0.025931</td>\n",
       "      <td>0.030009</td>\n",
       "    </tr>\n",
       "    <tr>\n",
       "      <th>11</th>\n",
       "      <td>2019-08-12</td>\n",
       "      <td>20533.7</td>\n",
       "      <td>200</td>\n",
       "      <td>7575</td>\n",
       "      <td>102.668500</td>\n",
       "      <td>22616.8</td>\n",
       "      <td>229</td>\n",
       "      <td>7541</td>\n",
       "      <td>98.763319</td>\n",
       "      <td>-0.038037</td>\n",
       "      <td>0.026403</td>\n",
       "      <td>0.030367</td>\n",
       "    </tr>\n",
       "    <tr>\n",
       "      <th>12</th>\n",
       "      <td>2019-08-13</td>\n",
       "      <td>24630.6</td>\n",
       "      <td>214</td>\n",
       "      <td>8323</td>\n",
       "      <td>115.096262</td>\n",
       "      <td>24491.3</td>\n",
       "      <td>249</td>\n",
       "      <td>8310</td>\n",
       "      <td>98.358635</td>\n",
       "      <td>-0.145423</td>\n",
       "      <td>0.025712</td>\n",
       "      <td>0.029964</td>\n",
       "    </tr>\n",
       "    <tr>\n",
       "      <th>13</th>\n",
       "      <td>2019-08-14</td>\n",
       "      <td>25347.2</td>\n",
       "      <td>231</td>\n",
       "      <td>9058</td>\n",
       "      <td>109.728139</td>\n",
       "      <td>26183.7</td>\n",
       "      <td>263</td>\n",
       "      <td>9056</td>\n",
       "      <td>99.557795</td>\n",
       "      <td>-0.092687</td>\n",
       "      <td>0.025502</td>\n",
       "      <td>0.029042</td>\n",
       "    </tr>\n",
       "    <tr>\n",
       "      <th>14</th>\n",
       "      <td>2019-08-15</td>\n",
       "      <td>26622.5</td>\n",
       "      <td>241</td>\n",
       "      <td>9686</td>\n",
       "      <td>110.466805</td>\n",
       "      <td>31033.2</td>\n",
       "      <td>289</td>\n",
       "      <td>9600</td>\n",
       "      <td>107.381315</td>\n",
       "      <td>-0.027931</td>\n",
       "      <td>0.024881</td>\n",
       "      <td>0.030104</td>\n",
       "    </tr>\n",
       "    <tr>\n",
       "      <th>15</th>\n",
       "      <td>2019-08-16</td>\n",
       "      <td>28221.6</td>\n",
       "      <td>259</td>\n",
       "      <td>10047</td>\n",
       "      <td>108.963707</td>\n",
       "      <td>32840.2</td>\n",
       "      <td>307</td>\n",
       "      <td>10013</td>\n",
       "      <td>106.971336</td>\n",
       "      <td>-0.018285</td>\n",
       "      <td>0.025779</td>\n",
       "      <td>0.030660</td>\n",
       "    </tr>\n",
       "    <tr>\n",
       "      <th>16</th>\n",
       "      <td>2019-08-17</td>\n",
       "      <td>28770.1</td>\n",
       "      <td>265</td>\n",
       "      <td>10459</td>\n",
       "      <td>108.566415</td>\n",
       "      <td>34116.2</td>\n",
       "      <td>320</td>\n",
       "      <td>10434</td>\n",
       "      <td>106.613125</td>\n",
       "      <td>-0.017992</td>\n",
       "      <td>0.025337</td>\n",
       "      <td>0.030669</td>\n",
       "    </tr>\n",
       "    <tr>\n",
       "      <th>17</th>\n",
       "      <td>2019-08-18</td>\n",
       "      <td>29735.7</td>\n",
       "      <td>278</td>\n",
       "      <td>11127</td>\n",
       "      <td>106.962950</td>\n",
       "      <td>34684.7</td>\n",
       "      <td>327</td>\n",
       "      <td>11171</td>\n",
       "      <td>106.069419</td>\n",
       "      <td>-0.008354</td>\n",
       "      <td>0.024984</td>\n",
       "      <td>0.029272</td>\n",
       "    </tr>\n",
       "    <tr>\n",
       "      <th>18</th>\n",
       "      <td>2019-08-19</td>\n",
       "      <td>32389.3</td>\n",
       "      <td>299</td>\n",
       "      <td>11629</td>\n",
       "      <td>108.325418</td>\n",
       "      <td>56749.6</td>\n",
       "      <td>348</td>\n",
       "      <td>11658</td>\n",
       "      <td>163.073563</td>\n",
       "      <td>0.505404</td>\n",
       "      <td>0.025712</td>\n",
       "      <td>0.029851</td>\n",
       "    </tr>\n",
       "    <tr>\n",
       "      <th>19</th>\n",
       "      <td>2019-08-20</td>\n",
       "      <td>33325.3</td>\n",
       "      <td>309</td>\n",
       "      <td>12204</td>\n",
       "      <td>107.848867</td>\n",
       "      <td>59074.2</td>\n",
       "      <td>368</td>\n",
       "      <td>12218</td>\n",
       "      <td>160.527717</td>\n",
       "      <td>0.488451</td>\n",
       "      <td>0.025320</td>\n",
       "      <td>0.030119</td>\n",
       "    </tr>\n",
       "    <tr>\n",
       "      <th>20</th>\n",
       "      <td>2019-08-21</td>\n",
       "      <td>36004.2</td>\n",
       "      <td>329</td>\n",
       "      <td>12850</td>\n",
       "      <td>109.435258</td>\n",
       "      <td>61274.4</td>\n",
       "      <td>380</td>\n",
       "      <td>12874</td>\n",
       "      <td>161.248421</td>\n",
       "      <td>0.473459</td>\n",
       "      <td>0.025603</td>\n",
       "      <td>0.029517</td>\n",
       "    </tr>\n",
       "    <tr>\n",
       "      <th>21</th>\n",
       "      <td>2019-08-22</td>\n",
       "      <td>37455.1</td>\n",
       "      <td>339</td>\n",
       "      <td>13459</td>\n",
       "      <td>110.487021</td>\n",
       "      <td>63503.9</td>\n",
       "      <td>401</td>\n",
       "      <td>13524</td>\n",
       "      <td>158.363840</td>\n",
       "      <td>0.433325</td>\n",
       "      <td>0.025188</td>\n",
       "      <td>0.029651</td>\n",
       "    </tr>\n",
       "    <tr>\n",
       "      <th>22</th>\n",
       "      <td>2019-08-23</td>\n",
       "      <td>38409.2</td>\n",
       "      <td>359</td>\n",
       "      <td>13927</td>\n",
       "      <td>106.989415</td>\n",
       "      <td>64732.8</td>\n",
       "      <td>414</td>\n",
       "      <td>14070</td>\n",
       "      <td>156.359420</td>\n",
       "      <td>0.461448</td>\n",
       "      <td>0.025777</td>\n",
       "      <td>0.029424</td>\n",
       "    </tr>\n",
       "    <tr>\n",
       "      <th>23</th>\n",
       "      <td>2019-08-24</td>\n",
       "      <td>40321.3</td>\n",
       "      <td>372</td>\n",
       "      <td>14322</td>\n",
       "      <td>108.390591</td>\n",
       "      <td>66138.5</td>\n",
       "      <td>428</td>\n",
       "      <td>14448</td>\n",
       "      <td>154.529206</td>\n",
       "      <td>0.425670</td>\n",
       "      <td>0.025974</td>\n",
       "      <td>0.029623</td>\n",
       "    </tr>\n",
       "    <tr>\n",
       "      <th>24</th>\n",
       "      <td>2019-08-25</td>\n",
       "      <td>41139.5</td>\n",
       "      <td>380</td>\n",
       "      <td>14943</td>\n",
       "      <td>108.261842</td>\n",
       "      <td>67393.8</td>\n",
       "      <td>440</td>\n",
       "      <td>15127</td>\n",
       "      <td>153.167727</td>\n",
       "      <td>0.414790</td>\n",
       "      <td>0.025430</td>\n",
       "      <td>0.029087</td>\n",
       "    </tr>\n",
       "    <tr>\n",
       "      <th>25</th>\n",
       "      <td>2019-08-26</td>\n",
       "      <td>43604.3</td>\n",
       "      <td>396</td>\n",
       "      <td>15665</td>\n",
       "      <td>110.111869</td>\n",
       "      <td>70138.1</td>\n",
       "      <td>462</td>\n",
       "      <td>15803</td>\n",
       "      <td>151.814069</td>\n",
       "      <td>0.378726</td>\n",
       "      <td>0.025279</td>\n",
       "      <td>0.029235</td>\n",
       "    </tr>\n",
       "    <tr>\n",
       "      <th>26</th>\n",
       "      <td>2019-08-27</td>\n",
       "      <td>46539.0</td>\n",
       "      <td>419</td>\n",
       "      <td>16376</td>\n",
       "      <td>111.071599</td>\n",
       "      <td>71885.0</td>\n",
       "      <td>473</td>\n",
       "      <td>16523</td>\n",
       "      <td>151.976744</td>\n",
       "      <td>0.368277</td>\n",
       "      <td>0.025586</td>\n",
       "      <td>0.028627</td>\n",
       "    </tr>\n",
       "    <tr>\n",
       "      <th>27</th>\n",
       "      <td>2019-08-28</td>\n",
       "      <td>48065.9</td>\n",
       "      <td>434</td>\n",
       "      <td>16970</td>\n",
       "      <td>110.750922</td>\n",
       "      <td>72895.5</td>\n",
       "      <td>495</td>\n",
       "      <td>17177</td>\n",
       "      <td>147.263636</td>\n",
       "      <td>0.329683</td>\n",
       "      <td>0.025575</td>\n",
       "      <td>0.028818</td>\n",
       "    </tr>\n",
       "    <tr>\n",
       "      <th>28</th>\n",
       "      <td>2019-08-29</td>\n",
       "      <td>51134.8</td>\n",
       "      <td>451</td>\n",
       "      <td>17547</td>\n",
       "      <td>113.380931</td>\n",
       "      <td>74576.7</td>\n",
       "      <td>510</td>\n",
       "      <td>17708</td>\n",
       "      <td>146.228824</td>\n",
       "      <td>0.289713</td>\n",
       "      <td>0.025702</td>\n",
       "      <td>0.028801</td>\n",
       "    </tr>\n",
       "    <tr>\n",
       "      <th>29</th>\n",
       "      <td>2019-08-30</td>\n",
       "      <td>52363.7</td>\n",
       "      <td>460</td>\n",
       "      <td>18037</td>\n",
       "      <td>113.834130</td>\n",
       "      <td>77863.5</td>\n",
       "      <td>531</td>\n",
       "      <td>18198</td>\n",
       "      <td>146.635593</td>\n",
       "      <td>0.288151</td>\n",
       "      <td>0.025503</td>\n",
       "      <td>0.029179</td>\n",
       "    </tr>\n",
       "    <tr>\n",
       "      <th>30</th>\n",
       "      <td>2019-08-31</td>\n",
       "      <td>53212.0</td>\n",
       "      <td>468</td>\n",
       "      <td>18736</td>\n",
       "      <td>113.700855</td>\n",
       "      <td>79651.2</td>\n",
       "      <td>548</td>\n",
       "      <td>18916</td>\n",
       "      <td>145.348905</td>\n",
       "      <td>0.278345</td>\n",
       "      <td>0.024979</td>\n",
       "      <td>0.028970</td>\n",
       "    </tr>\n",
       "  </tbody>\n",
       "</table>\n",
       "</div>"
      ],
      "text/plain": [
       "         date  revenue_a  orders_a  visitors_a  cum_avg_order_a  revenue_b  \\\n",
       "0  2019-08-01     2266.6        23         719        98.547826      967.2   \n",
       "1  2019-08-02     3734.9        42        1338        88.926190     3535.3   \n",
       "2  2019-08-03     5550.1        66        1845        84.092424     4606.9   \n",
       "3  2019-08-04     6225.6        77        2562        80.851948     6138.5   \n",
       "4  2019-08-05     7623.6        99        3318        77.006061     7587.8   \n",
       "5  2019-08-06     8292.0       114        3985        72.736842    10957.1   \n",
       "6  2019-08-07    10234.0       130        4629        78.723077    14392.7   \n",
       "7  2019-08-08    11638.8       144        5239        80.825000    16772.6   \n",
       "8  2019-08-09    13734.0       155        5856        88.606452    18428.8   \n",
       "9  2019-08-10    16121.5       170        6262        94.832353    20103.6   \n",
       "10 2019-08-11    17084.9       181        6980        94.391713    20959.0   \n",
       "11 2019-08-12    20533.7       200        7575       102.668500    22616.8   \n",
       "12 2019-08-13    24630.6       214        8323       115.096262    24491.3   \n",
       "13 2019-08-14    25347.2       231        9058       109.728139    26183.7   \n",
       "14 2019-08-15    26622.5       241        9686       110.466805    31033.2   \n",
       "15 2019-08-16    28221.6       259       10047       108.963707    32840.2   \n",
       "16 2019-08-17    28770.1       265       10459       108.566415    34116.2   \n",
       "17 2019-08-18    29735.7       278       11127       106.962950    34684.7   \n",
       "18 2019-08-19    32389.3       299       11629       108.325418    56749.6   \n",
       "19 2019-08-20    33325.3       309       12204       107.848867    59074.2   \n",
       "20 2019-08-21    36004.2       329       12850       109.435258    61274.4   \n",
       "21 2019-08-22    37455.1       339       13459       110.487021    63503.9   \n",
       "22 2019-08-23    38409.2       359       13927       106.989415    64732.8   \n",
       "23 2019-08-24    40321.3       372       14322       108.390591    66138.5   \n",
       "24 2019-08-25    41139.5       380       14943       108.261842    67393.8   \n",
       "25 2019-08-26    43604.3       396       15665       110.111869    70138.1   \n",
       "26 2019-08-27    46539.0       419       16376       111.071599    71885.0   \n",
       "27 2019-08-28    48065.9       434       16970       110.750922    72895.5   \n",
       "28 2019-08-29    51134.8       451       17547       113.380931    74576.7   \n",
       "29 2019-08-30    52363.7       460       18037       113.834130    77863.5   \n",
       "30 2019-08-31    53212.0       468       18736       113.700855    79651.2   \n",
       "\n",
       "    orders_b  visitors_b  cum_avg_order_b  cum_avg_ord_dif  conversion_a  \\\n",
       "0         17         713        56.894118        -0.422675      0.031989   \n",
       "1         40        1294        88.382500        -0.006114      0.031390   \n",
       "2         54        1803        85.312963         0.014514      0.035772   \n",
       "3         68        2573        90.272059         0.116511      0.030055   \n",
       "4         89        3280        85.256180         0.107136      0.029837   \n",
       "5        112        3935        97.831250         0.345003      0.028607   \n",
       "6        135        4644       106.612593         0.354274      0.028084   \n",
       "7        157        5298       106.831847         0.321767      0.027486   \n",
       "8        176        5908       104.709091         0.181732      0.026469   \n",
       "9        198        6277       101.533333         0.070661      0.027148   \n",
       "10       210        6998        99.804762         0.057347      0.025931   \n",
       "11       229        7541        98.763319        -0.038037      0.026403   \n",
       "12       249        8310        98.358635        -0.145423      0.025712   \n",
       "13       263        9056        99.557795        -0.092687      0.025502   \n",
       "14       289        9600       107.381315        -0.027931      0.024881   \n",
       "15       307       10013       106.971336        -0.018285      0.025779   \n",
       "16       320       10434       106.613125        -0.017992      0.025337   \n",
       "17       327       11171       106.069419        -0.008354      0.024984   \n",
       "18       348       11658       163.073563         0.505404      0.025712   \n",
       "19       368       12218       160.527717         0.488451      0.025320   \n",
       "20       380       12874       161.248421         0.473459      0.025603   \n",
       "21       401       13524       158.363840         0.433325      0.025188   \n",
       "22       414       14070       156.359420         0.461448      0.025777   \n",
       "23       428       14448       154.529206         0.425670      0.025974   \n",
       "24       440       15127       153.167727         0.414790      0.025430   \n",
       "25       462       15803       151.814069         0.378726      0.025279   \n",
       "26       473       16523       151.976744         0.368277      0.025586   \n",
       "27       495       17177       147.263636         0.329683      0.025575   \n",
       "28       510       17708       146.228824         0.289713      0.025702   \n",
       "29       531       18198       146.635593         0.288151      0.025503   \n",
       "30       548       18916       145.348905         0.278345      0.024979   \n",
       "\n",
       "    conversion_b  \n",
       "0       0.023843  \n",
       "1       0.030912  \n",
       "2       0.029950  \n",
       "3       0.026428  \n",
       "4       0.027134  \n",
       "5       0.028463  \n",
       "6       0.029070  \n",
       "7       0.029634  \n",
       "8       0.029790  \n",
       "9       0.031544  \n",
       "10      0.030009  \n",
       "11      0.030367  \n",
       "12      0.029964  \n",
       "13      0.029042  \n",
       "14      0.030104  \n",
       "15      0.030660  \n",
       "16      0.030669  \n",
       "17      0.029272  \n",
       "18      0.029851  \n",
       "19      0.030119  \n",
       "20      0.029517  \n",
       "21      0.029651  \n",
       "22      0.029424  \n",
       "23      0.029623  \n",
       "24      0.029087  \n",
       "25      0.029235  \n",
       "26      0.028627  \n",
       "27      0.028818  \n",
       "28      0.028801  \n",
       "29      0.029179  \n",
       "30      0.028970  "
      ]
     },
     "execution_count": 48,
     "metadata": {},
     "output_type": "execute_result"
    }
   ],
   "source": [
    "AB"
   ]
  },
  {
   "cell_type": "code",
   "execution_count": 49,
   "metadata": {},
   "outputs": [
    {
     "data": {
      "text/plain": [
       "<matplotlib.legend.Legend at 0x7f471a030fd0>"
      ]
     },
     "execution_count": 49,
     "metadata": {},
     "output_type": "execute_result"
    },
    {
     "data": {
      "image/png": "[encoded data removed]",
      "text/plain": [
       "<Figure size 1500x600 with 1 Axes>"
      ]
     },
     "metadata": {},
     "output_type": "display_data"
    }
   ],
   "source": [
    "plt.rcParams[\"figure.figsize\"] = (15,6)\n",
    "plt.plot(AB['date'], AB['conversion_a'], label='Control')\n",
    "plt.plot(AB['date'], AB['conversion_b'], label='Test')\n",
    "plt.title('Conversion of Control and Test groups')\n",
    "plt.xlabel('Date')\n",
    "plt.ylabel('Conversion Rate')\n",
    "plt.legend()"
   ]
  },
  {
   "cell_type": "markdown",
   "metadata": {},
   "source": [
    "Based on the graph, we observe that in the beginning conversion rate of A group is higher but after that conversion rate of test group increases and keep higher till the end of the graph and conversion rate of control group decreases. It may tell us that applied business strategy is profitable"
   ]
  },
  {
   "cell_type": "code",
   "execution_count": 50,
   "metadata": {},
   "outputs": [
    {
     "data": {
      "text/plain": [
       "0.02585769760495693"
      ]
     },
     "execution_count": 50,
     "metadata": {},
     "output_type": "execute_result"
    }
   ],
   "source": [
    "# overall conversion of control group\n",
    "AB['orders_a'].sum()/AB['visitors_a'].sum()"
   ]
  },
  {
   "cell_type": "code",
   "execution_count": 51,
   "metadata": {},
   "outputs": [
    {
     "data": {
      "text/plain": [
       "0.02943091972438227"
      ]
     },
     "execution_count": 51,
     "metadata": {},
     "output_type": "execute_result"
    }
   ],
   "source": [
    "# overall concersion of test group \n",
    "AB['orders_b'].sum()/AB['visitors_b'].sum()"
   ]
  },
  {
   "cell_type": "markdown",
   "metadata": {},
   "source": [
    "The difference between groups in overall conversion is really not notable."
   ]
  },
  {
   "cell_type": "markdown",
   "metadata": {},
   "source": [
    "### Number of orders per user"
   ]
  },
  {
   "cell_type": "code",
   "execution_count": 52,
   "metadata": {
    "scrolled": true
   },
   "outputs": [
    {
     "data": {
      "text/html": [
       "<div>\n",
       "<style scoped>\n",
       "    .dataframe tbody tr th:only-of-type {\n",
       "        vertical-align: middle;\n",
       "    }\n",
       "\n",
       "    .dataframe tbody tr th {\n",
       "        vertical-align: top;\n",
       "    }\n",
       "\n",
       "    .dataframe thead th {\n",
       "        text-align: right;\n",
       "    }\n",
       "</style>\n",
       "<table border=\"1\" class=\"dataframe\">\n",
       "  <thead>\n",
       "    <tr style=\"text-align: right;\">\n",
       "      <th></th>\n",
       "      <th>transactionId</th>\n",
       "      <th>visitorId</th>\n",
       "      <th>date</th>\n",
       "      <th>revenue</th>\n",
       "      <th>group</th>\n",
       "    </tr>\n",
       "  </thead>\n",
       "  <tbody>\n",
       "    <tr>\n",
       "      <th>0</th>\n",
       "      <td>3667963787</td>\n",
       "      <td>3312258926</td>\n",
       "      <td>2019-08-15</td>\n",
       "      <td>30.4</td>\n",
       "      <td>B</td>\n",
       "    </tr>\n",
       "    <tr>\n",
       "      <th>1</th>\n",
       "      <td>2804400009</td>\n",
       "      <td>3642806036</td>\n",
       "      <td>2019-08-15</td>\n",
       "      <td>15.2</td>\n",
       "      <td>B</td>\n",
       "    </tr>\n",
       "    <tr>\n",
       "      <th>3</th>\n",
       "      <td>3797467345</td>\n",
       "      <td>1196621759</td>\n",
       "      <td>2019-08-15</td>\n",
       "      <td>155.1</td>\n",
       "      <td>B</td>\n",
       "    </tr>\n",
       "    <tr>\n",
       "      <th>4</th>\n",
       "      <td>2282983706</td>\n",
       "      <td>2322279887</td>\n",
       "      <td>2019-08-15</td>\n",
       "      <td>40.5</td>\n",
       "      <td>B</td>\n",
       "    </tr>\n",
       "    <tr>\n",
       "      <th>5</th>\n",
       "      <td>182168103</td>\n",
       "      <td>935554773</td>\n",
       "      <td>2019-08-15</td>\n",
       "      <td>35.0</td>\n",
       "      <td>B</td>\n",
       "    </tr>\n",
       "  </tbody>\n",
       "</table>\n",
       "</div>"
      ],
      "text/plain": [
       "   transactionId   visitorId       date  revenue group\n",
       "0     3667963787  3312258926 2019-08-15     30.4     B\n",
       "1     2804400009  3642806036 2019-08-15     15.2     B\n",
       "3     3797467345  1196621759 2019-08-15    155.1     B\n",
       "4     2282983706  2322279887 2019-08-15     40.5     B\n",
       "5      182168103   935554773 2019-08-15     35.0     B"
      ]
     },
     "execution_count": 52,
     "metadata": {},
     "output_type": "execute_result"
    }
   ],
   "source": [
    "new_orders.head()"
   ]
  },
  {
   "cell_type": "code",
   "execution_count": 53,
   "metadata": {},
   "outputs": [],
   "source": [
    "order_per_user_A = new_orders[new_orders['group']=='A'].groupby('visitorId').agg({'transactionId':'nunique'}).sort_values(by='transactionId', ascending=False).reset_index()"
   ]
  },
  {
   "cell_type": "code",
   "execution_count": 54,
   "metadata": {},
   "outputs": [
    {
     "data": {
      "text/html": [
       "<div>\n",
       "<style scoped>\n",
       "    .dataframe tbody tr th:only-of-type {\n",
       "        vertical-align: middle;\n",
       "    }\n",
       "\n",
       "    .dataframe tbody tr th {\n",
       "        vertical-align: top;\n",
       "    }\n",
       "\n",
       "    .dataframe thead th {\n",
       "        text-align: right;\n",
       "    }\n",
       "</style>\n",
       "<table border=\"1\" class=\"dataframe\">\n",
       "  <thead>\n",
       "    <tr style=\"text-align: right;\">\n",
       "      <th></th>\n",
       "      <th>visitorId</th>\n",
       "      <th>transactionId</th>\n",
       "    </tr>\n",
       "  </thead>\n",
       "  <tbody>\n",
       "    <tr>\n",
       "      <th>0</th>\n",
       "      <td>611059232</td>\n",
       "      <td>3</td>\n",
       "    </tr>\n",
       "    <tr>\n",
       "      <th>1</th>\n",
       "      <td>2108163459</td>\n",
       "      <td>3</td>\n",
       "    </tr>\n",
       "    <tr>\n",
       "      <th>2</th>\n",
       "      <td>2988190573</td>\n",
       "      <td>3</td>\n",
       "    </tr>\n",
       "    <tr>\n",
       "      <th>3</th>\n",
       "      <td>3908431265</td>\n",
       "      <td>3</td>\n",
       "    </tr>\n",
       "    <tr>\n",
       "      <th>4</th>\n",
       "      <td>3967698036</td>\n",
       "      <td>3</td>\n",
       "    </tr>\n",
       "    <tr>\n",
       "      <th>...</th>\n",
       "      <td>...</td>\n",
       "      <td>...</td>\n",
       "    </tr>\n",
       "    <tr>\n",
       "      <th>440</th>\n",
       "      <td>1402025725</td>\n",
       "      <td>1</td>\n",
       "    </tr>\n",
       "    <tr>\n",
       "      <th>441</th>\n",
       "      <td>1398592185</td>\n",
       "      <td>1</td>\n",
       "    </tr>\n",
       "    <tr>\n",
       "      <th>442</th>\n",
       "      <td>1388079388</td>\n",
       "      <td>1</td>\n",
       "    </tr>\n",
       "    <tr>\n",
       "      <th>443</th>\n",
       "      <td>1378148355</td>\n",
       "      <td>1</td>\n",
       "    </tr>\n",
       "    <tr>\n",
       "      <th>444</th>\n",
       "      <td>4278982564</td>\n",
       "      <td>1</td>\n",
       "    </tr>\n",
       "  </tbody>\n",
       "</table>\n",
       "<p>445 rows × 2 columns</p>\n",
       "</div>"
      ],
      "text/plain": [
       "      visitorId  transactionId\n",
       "0     611059232              3\n",
       "1    2108163459              3\n",
       "2    2988190573              3\n",
       "3    3908431265              3\n",
       "4    3967698036              3\n",
       "..          ...            ...\n",
       "440  1402025725              1\n",
       "441  1398592185              1\n",
       "442  1388079388              1\n",
       "443  1378148355              1\n",
       "444  4278982564              1\n",
       "\n",
       "[445 rows x 2 columns]"
      ]
     },
     "execution_count": 54,
     "metadata": {},
     "output_type": "execute_result"
    }
   ],
   "source": [
    "order_per_user_A"
   ]
  },
  {
   "cell_type": "code",
   "execution_count": 55,
   "metadata": {},
   "outputs": [],
   "source": [
    "order_per_user_B = new_orders[new_orders['group']=='B'].groupby('visitorId').agg({'transactionId':'nunique'}).sort_values(by='transactionId', ascending=False).reset_index()"
   ]
  },
  {
   "cell_type": "code",
   "execution_count": 56,
   "metadata": {},
   "outputs": [
    {
     "data": {
      "text/html": [
       "<div>\n",
       "<style scoped>\n",
       "    .dataframe tbody tr th:only-of-type {\n",
       "        vertical-align: middle;\n",
       "    }\n",
       "\n",
       "    .dataframe tbody tr th {\n",
       "        vertical-align: top;\n",
       "    }\n",
       "\n",
       "    .dataframe thead th {\n",
       "        text-align: right;\n",
       "    }\n",
       "</style>\n",
       "<table border=\"1\" class=\"dataframe\">\n",
       "  <thead>\n",
       "    <tr style=\"text-align: right;\">\n",
       "      <th></th>\n",
       "      <th>visitorId</th>\n",
       "      <th>transactionId</th>\n",
       "    </tr>\n",
       "  </thead>\n",
       "  <tbody>\n",
       "    <tr>\n",
       "      <th>0</th>\n",
       "      <td>2742574263</td>\n",
       "      <td>3</td>\n",
       "    </tr>\n",
       "    <tr>\n",
       "      <th>1</th>\n",
       "      <td>249864742</td>\n",
       "      <td>3</td>\n",
       "    </tr>\n",
       "    <tr>\n",
       "      <th>2</th>\n",
       "      <td>3935952912</td>\n",
       "      <td>2</td>\n",
       "    </tr>\n",
       "    <tr>\n",
       "      <th>3</th>\n",
       "      <td>2025197455</td>\n",
       "      <td>2</td>\n",
       "    </tr>\n",
       "    <tr>\n",
       "      <th>4</th>\n",
       "      <td>3332057097</td>\n",
       "      <td>2</td>\n",
       "    </tr>\n",
       "    <tr>\n",
       "      <th>...</th>\n",
       "      <td>...</td>\n",
       "      <td>...</td>\n",
       "    </tr>\n",
       "    <tr>\n",
       "      <th>523</th>\n",
       "      <td>1388838483</td>\n",
       "      <td>1</td>\n",
       "    </tr>\n",
       "    <tr>\n",
       "      <th>524</th>\n",
       "      <td>1387624577</td>\n",
       "      <td>1</td>\n",
       "    </tr>\n",
       "    <tr>\n",
       "      <th>525</th>\n",
       "      <td>1379151787</td>\n",
       "      <td>1</td>\n",
       "    </tr>\n",
       "    <tr>\n",
       "      <th>526</th>\n",
       "      <td>1377447894</td>\n",
       "      <td>1</td>\n",
       "    </tr>\n",
       "    <tr>\n",
       "      <th>527</th>\n",
       "      <td>4283872382</td>\n",
       "      <td>1</td>\n",
       "    </tr>\n",
       "  </tbody>\n",
       "</table>\n",
       "<p>528 rows × 2 columns</p>\n",
       "</div>"
      ],
      "text/plain": [
       "      visitorId  transactionId\n",
       "0    2742574263              3\n",
       "1     249864742              3\n",
       "2    3935952912              2\n",
       "3    2025197455              2\n",
       "4    3332057097              2\n",
       "..          ...            ...\n",
       "523  1388838483              1\n",
       "524  1387624577              1\n",
       "525  1379151787              1\n",
       "526  1377447894              1\n",
       "527  4283872382              1\n",
       "\n",
       "[528 rows x 2 columns]"
      ]
     },
     "execution_count": 56,
     "metadata": {},
     "output_type": "execute_result"
    }
   ],
   "source": [
    "order_per_user_B"
   ]
  },
  {
   "cell_type": "code",
   "execution_count": 57,
   "metadata": {
    "scrolled": false
   },
   "outputs": [
    {
     "data": {
      "text/plain": [
       "<matplotlib.legend.Legend at 0x7f4719fc4bb0>"
      ]
     },
     "execution_count": 57,
     "metadata": {},
     "output_type": "execute_result"
    },
    {
     "data": {
      "image/png": "[encoded data removed]",
      "text/plain": [
       "<Figure size 1500x600 with 1 Axes>"
      ]
     },
     "metadata": {},
     "output_type": "display_data"
    }
   ],
   "source": [
    "plt.scatter(order_per_user_A['visitorId'], order_per_user_A['transactionId'], label='Control')\n",
    "plt.scatter(order_per_user_B['visitorId'], order_per_user_B['transactionId'], label='Test')\n",
    "plt.title('Number of Orders per User')\n",
    "plt.xlabel('Users')\n",
    "plt.ylabel('Number of Orders per User')\n",
    "plt.legend()"
   ]
  },
  {
   "cell_type": "markdown",
   "metadata": {},
   "source": [
    "Each dot in scatterplot is individual user."
   ]
  },
  {
   "cell_type": "markdown",
   "metadata": {},
   "source": [
    "The scatterplot illustrates that there is no noticeable difference in the number of orders per user between the two groups."
   ]
  },
  {
   "cell_type": "markdown",
   "metadata": {},
   "source": [
    "### Anomalies in the count of orders per user"
   ]
  },
  {
   "cell_type": "code",
   "execution_count": 58,
   "metadata": {},
   "outputs": [
    {
     "data": {
      "text/plain": [
       "array([1.  , 2.56])"
      ]
     },
     "execution_count": 58,
     "metadata": {},
     "output_type": "execute_result"
    }
   ],
   "source": [
    "orders_anomaly_A = np.percentile(order_per_user_A['transactionId'], [95,99])\n",
    "orders_anomaly_A"
   ]
  },
  {
   "cell_type": "code",
   "execution_count": 59,
   "metadata": {},
   "outputs": [
    {
     "data": {
      "text/plain": [
       "array([1., 2.])"
      ]
     },
     "execution_count": 59,
     "metadata": {},
     "output_type": "execute_result"
    }
   ],
   "source": [
    "orders_anomaly_B = np.percentile(order_per_user_B['transactionId'], [95,99])\n",
    "orders_anomaly_B"
   ]
  },
  {
   "cell_type": "markdown",
   "metadata": {},
   "source": [
    "Based on our calculations, we can conclude that the average user tends to make only a single purchase within costumer's lifetime. Instances where users place two or more orders are anomalies observed in both groups. Looks like the store sells something that average human buys only once. Maybe, wedding rings? ;)"
   ]
  },
  {
   "cell_type": "markdown",
   "metadata": {},
   "source": [
    "### Order prices"
   ]
  },
  {
   "cell_type": "code",
   "execution_count": 60,
   "metadata": {},
   "outputs": [
    {
     "data": {
      "text/html": [
       "<div>\n",
       "<style scoped>\n",
       "    .dataframe tbody tr th:only-of-type {\n",
       "        vertical-align: middle;\n",
       "    }\n",
       "\n",
       "    .dataframe tbody tr th {\n",
       "        vertical-align: top;\n",
       "    }\n",
       "\n",
       "    .dataframe thead th {\n",
       "        text-align: right;\n",
       "    }\n",
       "</style>\n",
       "<table border=\"1\" class=\"dataframe\">\n",
       "  <thead>\n",
       "    <tr style=\"text-align: right;\">\n",
       "      <th></th>\n",
       "      <th>transactionId</th>\n",
       "      <th>visitorId</th>\n",
       "      <th>date</th>\n",
       "      <th>revenue</th>\n",
       "      <th>group</th>\n",
       "    </tr>\n",
       "  </thead>\n",
       "  <tbody>\n",
       "    <tr>\n",
       "      <th>0</th>\n",
       "      <td>3667963787</td>\n",
       "      <td>3312258926</td>\n",
       "      <td>2019-08-15</td>\n",
       "      <td>30.4</td>\n",
       "      <td>B</td>\n",
       "    </tr>\n",
       "    <tr>\n",
       "      <th>1</th>\n",
       "      <td>2804400009</td>\n",
       "      <td>3642806036</td>\n",
       "      <td>2019-08-15</td>\n",
       "      <td>15.2</td>\n",
       "      <td>B</td>\n",
       "    </tr>\n",
       "    <tr>\n",
       "      <th>3</th>\n",
       "      <td>3797467345</td>\n",
       "      <td>1196621759</td>\n",
       "      <td>2019-08-15</td>\n",
       "      <td>155.1</td>\n",
       "      <td>B</td>\n",
       "    </tr>\n",
       "    <tr>\n",
       "      <th>4</th>\n",
       "      <td>2282983706</td>\n",
       "      <td>2322279887</td>\n",
       "      <td>2019-08-15</td>\n",
       "      <td>40.5</td>\n",
       "      <td>B</td>\n",
       "    </tr>\n",
       "    <tr>\n",
       "      <th>5</th>\n",
       "      <td>182168103</td>\n",
       "      <td>935554773</td>\n",
       "      <td>2019-08-15</td>\n",
       "      <td>35.0</td>\n",
       "      <td>B</td>\n",
       "    </tr>\n",
       "  </tbody>\n",
       "</table>\n",
       "</div>"
      ],
      "text/plain": [
       "   transactionId   visitorId       date  revenue group\n",
       "0     3667963787  3312258926 2019-08-15     30.4     B\n",
       "1     2804400009  3642806036 2019-08-15     15.2     B\n",
       "3     3797467345  1196621759 2019-08-15    155.1     B\n",
       "4     2282983706  2322279887 2019-08-15     40.5     B\n",
       "5      182168103   935554773 2019-08-15     35.0     B"
      ]
     },
     "execution_count": 60,
     "metadata": {},
     "output_type": "execute_result"
    }
   ],
   "source": [
    "new_orders.head()"
   ]
  },
  {
   "cell_type": "code",
   "execution_count": 61,
   "metadata": {},
   "outputs": [],
   "source": [
    "order_prices_A = new_orders[new_orders['group']=='A'].sort_values(by='revenue', ascending=False)"
   ]
  },
  {
   "cell_type": "code",
   "execution_count": 62,
   "metadata": {},
   "outputs": [],
   "source": [
    "order_prices_B = new_orders[new_orders['group']=='B'].sort_values(by='revenue', ascending=False)"
   ]
  },
  {
   "cell_type": "code",
   "execution_count": 63,
   "metadata": {
    "scrolled": false
   },
   "outputs": [
    {
     "data": {
      "text/plain": [
       "<matplotlib.legend.Legend at 0x7f4719f58ee0>"
      ]
     },
     "execution_count": 63,
     "metadata": {},
     "output_type": "execute_result"
    },
    {
     "data": {
      "image/png": "[encoded data removed]",
      "text/plain": [
       "<Figure size 1500x600 with 1 Axes>"
      ]
     },
     "metadata": {},
     "output_type": "display_data"
    }
   ],
   "source": [
    "plt.scatter(order_prices_A['transactionId'], order_prices_A['revenue'], label='Control')\n",
    "plt.scatter(order_prices_B['transactionId'], order_prices_B['revenue'], label='Test')\n",
    "plt.title('Order Prices')\n",
    "plt.xlabel('Orders')\n",
    "plt.ylabel('Prices')\n",
    "plt.legend()"
   ]
  },
  {
   "cell_type": "markdown",
   "metadata": {},
   "source": [
    "Each dot in scatterplot is individual order."
   ]
  },
  {
   "cell_type": "markdown",
   "metadata": {},
   "source": [
    "While there appears to be no significant difference in order prices between the two groups, with the majority of purchases falling below 1000 according to the graph, it's noteworthy that a few orders from group B stand out with sums around 2500 and 20000. These instances could potentially be anomalies. Let's conduct further analysis to investigate these outliers and determine their impact on our findings."
   ]
  },
  {
   "cell_type": "markdown",
   "metadata": {},
   "source": [
    "let's limit the Y axis to see more detailed scatterplot."
   ]
  },
  {
   "cell_type": "code",
   "execution_count": 64,
   "metadata": {
    "scrolled": false
   },
   "outputs": [
    {
     "data": {
      "text/plain": [
       "<matplotlib.legend.Legend at 0x7f4719ecabe0>"
      ]
     },
     "execution_count": 64,
     "metadata": {},
     "output_type": "execute_result"
    },
    {
     "data": {
      "image/png": "[encoded data removed]",
      "text/plain": [
       "<Figure size 1500x600 with 1 Axes>"
      ]
     },
     "metadata": {},
     "output_type": "display_data"
    }
   ],
   "source": [
    "plt.scatter(order_prices_A['transactionId'], order_prices_A['revenue'], label='Control')\n",
    "plt.scatter(order_prices_B['transactionId'], order_prices_B['revenue'], label='Test')\n",
    "plt.title('Order Prices')\n",
    "plt.xlabel('Orders')\n",
    "plt.ylabel('Prices')\n",
    "plt.ylim(0, 2500)\n",
    "plt.legend()"
   ]
  },
  {
   "cell_type": "markdown",
   "metadata": {},
   "source": [
    "I don't observe a notable difference in order size between the A and B groups. Here, we can see in more detail that the average order size ranges up to 500."
   ]
  },
  {
   "cell_type": "markdown",
   "metadata": {},
   "source": [
    "### Anomalies in the order prices"
   ]
  },
  {
   "cell_type": "code",
   "execution_count": 65,
   "metadata": {},
   "outputs": [
    {
     "data": {
      "text/plain": [
       "array([385.63 , 863.201])"
      ]
     },
     "execution_count": 65,
     "metadata": {},
     "output_type": "execute_result"
    }
   ],
   "source": [
    "prices_anomaly_A = np.percentile(order_prices_A['revenue'], [95,99])\n",
    "prices_anomaly_A"
   ]
  },
  {
   "cell_type": "code",
   "execution_count": 66,
   "metadata": {},
   "outputs": [
    {
     "data": {
      "text/plain": [
       "array([425.795, 763.865])"
      ]
     },
     "execution_count": 66,
     "metadata": {},
     "output_type": "execute_result"
    }
   ],
   "source": [
    "prices_anomaly_B = np.percentile(order_prices_B['revenue'], [95,99])\n",
    "prices_anomaly_B"
   ]
  },
  {
   "cell_type": "markdown",
   "metadata": {},
   "source": [
    "The anomalies we observed in the graph may not have been detected using the percentile method because they likely fall below the first percentile threshold. Let's try to found them like this:"
   ]
  },
  {
   "cell_type": "code",
   "execution_count": 67,
   "metadata": {},
   "outputs": [
    {
     "data": {
      "text/plain": [
       "array([1022.4835 , 1250.3014 , 1408.25014])"
      ]
     },
     "execution_count": 67,
     "metadata": {},
     "output_type": "execute_result"
    }
   ],
   "source": [
    "prices_anomaly_A = np.percentile(order_prices_A['revenue'], [99.5, 99.9, 99.99])\n",
    "prices_anomaly_A"
   ]
  },
  {
   "cell_type": "code",
   "execution_count": 68,
   "metadata": {},
   "outputs": [
    {
     "data": {
      "text/plain": [
       "array([ 1019.697  , 10730.6359 , 19001.42359])"
      ]
     },
     "execution_count": 68,
     "metadata": {},
     "output_type": "execute_result"
    }
   ],
   "source": [
    "prices_anomaly_B = np.percentile(order_prices_B['revenue'], [99.5, 99.9, 99.99])\n",
    "prices_anomaly_B"
   ]
  },
  {
   "cell_type": "markdown",
   "metadata": {},
   "source": [
    "We got them! So rare that don't even affect on the analysis.\n",
    "\n",
    "But it is important to pay attention that anomalies from group B are bigger than anomalies from group A."
   ]
  },
  {
   "cell_type": "markdown",
   "metadata": {},
   "source": [
    "###  Statistical significance of the difference in conversion (in raw data)"
   ]
  },
  {
   "cell_type": "code",
   "execution_count": 69,
   "metadata": {
    "scrolled": true
   },
   "outputs": [
    {
     "data": {
      "text/html": [
       "<div>\n",
       "<style scoped>\n",
       "    .dataframe tbody tr th:only-of-type {\n",
       "        vertical-align: middle;\n",
       "    }\n",
       "\n",
       "    .dataframe tbody tr th {\n",
       "        vertical-align: top;\n",
       "    }\n",
       "\n",
       "    .dataframe thead th {\n",
       "        text-align: right;\n",
       "    }\n",
       "</style>\n",
       "<table border=\"1\" class=\"dataframe\">\n",
       "  <thead>\n",
       "    <tr style=\"text-align: right;\">\n",
       "      <th></th>\n",
       "      <th>transactionId</th>\n",
       "      <th>visitorId</th>\n",
       "      <th>date</th>\n",
       "      <th>revenue</th>\n",
       "      <th>group</th>\n",
       "    </tr>\n",
       "  </thead>\n",
       "  <tbody>\n",
       "    <tr>\n",
       "      <th>0</th>\n",
       "      <td>3667963787</td>\n",
       "      <td>3312258926</td>\n",
       "      <td>2019-08-15</td>\n",
       "      <td>30.4</td>\n",
       "      <td>B</td>\n",
       "    </tr>\n",
       "    <tr>\n",
       "      <th>1</th>\n",
       "      <td>2804400009</td>\n",
       "      <td>3642806036</td>\n",
       "      <td>2019-08-15</td>\n",
       "      <td>15.2</td>\n",
       "      <td>B</td>\n",
       "    </tr>\n",
       "    <tr>\n",
       "      <th>2</th>\n",
       "      <td>2961555356</td>\n",
       "      <td>4069496402</td>\n",
       "      <td>2019-08-15</td>\n",
       "      <td>10.2</td>\n",
       "      <td>A</td>\n",
       "    </tr>\n",
       "    <tr>\n",
       "      <th>3</th>\n",
       "      <td>3797467345</td>\n",
       "      <td>1196621759</td>\n",
       "      <td>2019-08-15</td>\n",
       "      <td>155.1</td>\n",
       "      <td>B</td>\n",
       "    </tr>\n",
       "    <tr>\n",
       "      <th>4</th>\n",
       "      <td>2282983706</td>\n",
       "      <td>2322279887</td>\n",
       "      <td>2019-08-15</td>\n",
       "      <td>40.5</td>\n",
       "      <td>B</td>\n",
       "    </tr>\n",
       "    <tr>\n",
       "      <th>...</th>\n",
       "      <td>...</td>\n",
       "      <td>...</td>\n",
       "      <td>...</td>\n",
       "      <td>...</td>\n",
       "      <td>...</td>\n",
       "    </tr>\n",
       "    <tr>\n",
       "      <th>1192</th>\n",
       "      <td>2662137336</td>\n",
       "      <td>3733762160</td>\n",
       "      <td>2019-08-14</td>\n",
       "      <td>100.8</td>\n",
       "      <td>B</td>\n",
       "    </tr>\n",
       "    <tr>\n",
       "      <th>1193</th>\n",
       "      <td>2203539145</td>\n",
       "      <td>370388673</td>\n",
       "      <td>2019-08-14</td>\n",
       "      <td>50.1</td>\n",
       "      <td>A</td>\n",
       "    </tr>\n",
       "    <tr>\n",
       "      <th>1194</th>\n",
       "      <td>1807773912</td>\n",
       "      <td>573423106</td>\n",
       "      <td>2019-08-14</td>\n",
       "      <td>165.3</td>\n",
       "      <td>A</td>\n",
       "    </tr>\n",
       "    <tr>\n",
       "      <th>1195</th>\n",
       "      <td>1947021204</td>\n",
       "      <td>1614305549</td>\n",
       "      <td>2019-08-14</td>\n",
       "      <td>5.5</td>\n",
       "      <td>A</td>\n",
       "    </tr>\n",
       "    <tr>\n",
       "      <th>1196</th>\n",
       "      <td>3936777065</td>\n",
       "      <td>2108080724</td>\n",
       "      <td>2019-08-15</td>\n",
       "      <td>3120.1</td>\n",
       "      <td>B</td>\n",
       "    </tr>\n",
       "  </tbody>\n",
       "</table>\n",
       "<p>1197 rows × 5 columns</p>\n",
       "</div>"
      ],
      "text/plain": [
       "      transactionId   visitorId       date  revenue group\n",
       "0        3667963787  3312258926 2019-08-15     30.4     B\n",
       "1        2804400009  3642806036 2019-08-15     15.2     B\n",
       "2        2961555356  4069496402 2019-08-15     10.2     A\n",
       "3        3797467345  1196621759 2019-08-15    155.1     B\n",
       "4        2282983706  2322279887 2019-08-15     40.5     B\n",
       "...             ...         ...        ...      ...   ...\n",
       "1192     2662137336  3733762160 2019-08-14    100.8     B\n",
       "1193     2203539145   370388673 2019-08-14     50.1     A\n",
       "1194     1807773912   573423106 2019-08-14    165.3     A\n",
       "1195     1947021204  1614305549 2019-08-14      5.5     A\n",
       "1196     3936777065  2108080724 2019-08-15   3120.1     B\n",
       "\n",
       "[1197 rows x 5 columns]"
      ]
     },
     "execution_count": 69,
     "metadata": {},
     "output_type": "execute_result"
    }
   ],
   "source": [
    "orders"
   ]
  },
  {
   "cell_type": "code",
   "execution_count": 70,
   "metadata": {
    "scrolled": false
   },
   "outputs": [
    {
     "data": {
      "text/html": [
       "<div>\n",
       "<style scoped>\n",
       "    .dataframe tbody tr th:only-of-type {\n",
       "        vertical-align: middle;\n",
       "    }\n",
       "\n",
       "    .dataframe tbody tr th {\n",
       "        vertical-align: top;\n",
       "    }\n",
       "\n",
       "    .dataframe thead th {\n",
       "        text-align: right;\n",
       "    }\n",
       "</style>\n",
       "<table border=\"1\" class=\"dataframe\">\n",
       "  <thead>\n",
       "    <tr style=\"text-align: right;\">\n",
       "      <th></th>\n",
       "      <th>date</th>\n",
       "      <th>group</th>\n",
       "      <th>visits</th>\n",
       "    </tr>\n",
       "  </thead>\n",
       "  <tbody>\n",
       "    <tr>\n",
       "      <th>0</th>\n",
       "      <td>2019-08-01</td>\n",
       "      <td>A</td>\n",
       "      <td>719</td>\n",
       "    </tr>\n",
       "    <tr>\n",
       "      <th>1</th>\n",
       "      <td>2019-08-02</td>\n",
       "      <td>A</td>\n",
       "      <td>619</td>\n",
       "    </tr>\n",
       "    <tr>\n",
       "      <th>2</th>\n",
       "      <td>2019-08-03</td>\n",
       "      <td>A</td>\n",
       "      <td>507</td>\n",
       "    </tr>\n",
       "    <tr>\n",
       "      <th>3</th>\n",
       "      <td>2019-08-04</td>\n",
       "      <td>A</td>\n",
       "      <td>717</td>\n",
       "    </tr>\n",
       "    <tr>\n",
       "      <th>4</th>\n",
       "      <td>2019-08-05</td>\n",
       "      <td>A</td>\n",
       "      <td>756</td>\n",
       "    </tr>\n",
       "  </tbody>\n",
       "</table>\n",
       "</div>"
      ],
      "text/plain": [
       "        date group  visits\n",
       "0 2019-08-01     A     719\n",
       "1 2019-08-02     A     619\n",
       "2 2019-08-03     A     507\n",
       "3 2019-08-04     A     717\n",
       "4 2019-08-05     A     756"
      ]
     },
     "execution_count": 70,
     "metadata": {},
     "output_type": "execute_result"
    }
   ],
   "source": [
    "visits.head()"
   ]
  },
  {
   "cell_type": "code",
   "execution_count": 71,
   "metadata": {},
   "outputs": [],
   "source": [
    "# merging both df by date and group\n",
    "orders_visits_merged = orders.merge(visits, on=['date', 'group'])"
   ]
  },
  {
   "cell_type": "code",
   "execution_count": 72,
   "metadata": {
    "scrolled": false
   },
   "outputs": [
    {
     "data": {
      "text/html": [
       "<div>\n",
       "<style scoped>\n",
       "    .dataframe tbody tr th:only-of-type {\n",
       "        vertical-align: middle;\n",
       "    }\n",
       "\n",
       "    .dataframe tbody tr th {\n",
       "        vertical-align: top;\n",
       "    }\n",
       "\n",
       "    .dataframe thead th {\n",
       "        text-align: right;\n",
       "    }\n",
       "</style>\n",
       "<table border=\"1\" class=\"dataframe\">\n",
       "  <thead>\n",
       "    <tr style=\"text-align: right;\">\n",
       "      <th></th>\n",
       "      <th>transactionId</th>\n",
       "      <th>visitorId</th>\n",
       "      <th>date</th>\n",
       "      <th>revenue</th>\n",
       "      <th>group</th>\n",
       "      <th>visits</th>\n",
       "    </tr>\n",
       "  </thead>\n",
       "  <tbody>\n",
       "    <tr>\n",
       "      <th>0</th>\n",
       "      <td>3667963787</td>\n",
       "      <td>3312258926</td>\n",
       "      <td>2019-08-15</td>\n",
       "      <td>30.4</td>\n",
       "      <td>B</td>\n",
       "      <td>544</td>\n",
       "    </tr>\n",
       "    <tr>\n",
       "      <th>1</th>\n",
       "      <td>2804400009</td>\n",
       "      <td>3642806036</td>\n",
       "      <td>2019-08-15</td>\n",
       "      <td>15.2</td>\n",
       "      <td>B</td>\n",
       "      <td>544</td>\n",
       "    </tr>\n",
       "    <tr>\n",
       "      <th>2</th>\n",
       "      <td>3797467345</td>\n",
       "      <td>1196621759</td>\n",
       "      <td>2019-08-15</td>\n",
       "      <td>155.1</td>\n",
       "      <td>B</td>\n",
       "      <td>544</td>\n",
       "    </tr>\n",
       "    <tr>\n",
       "      <th>3</th>\n",
       "      <td>2282983706</td>\n",
       "      <td>2322279887</td>\n",
       "      <td>2019-08-15</td>\n",
       "      <td>40.5</td>\n",
       "      <td>B</td>\n",
       "      <td>544</td>\n",
       "    </tr>\n",
       "    <tr>\n",
       "      <th>4</th>\n",
       "      <td>182168103</td>\n",
       "      <td>935554773</td>\n",
       "      <td>2019-08-15</td>\n",
       "      <td>35.0</td>\n",
       "      <td>B</td>\n",
       "      <td>544</td>\n",
       "    </tr>\n",
       "    <tr>\n",
       "      <th>...</th>\n",
       "      <td>...</td>\n",
       "      <td>...</td>\n",
       "      <td>...</td>\n",
       "      <td>...</td>\n",
       "      <td>...</td>\n",
       "      <td>...</td>\n",
       "    </tr>\n",
       "    <tr>\n",
       "      <th>1192</th>\n",
       "      <td>2274188238</td>\n",
       "      <td>132143192</td>\n",
       "      <td>2019-08-14</td>\n",
       "      <td>15.5</td>\n",
       "      <td>A</td>\n",
       "      <td>735</td>\n",
       "    </tr>\n",
       "    <tr>\n",
       "      <th>1193</th>\n",
       "      <td>1692103379</td>\n",
       "      <td>1022829655</td>\n",
       "      <td>2019-08-14</td>\n",
       "      <td>5.7</td>\n",
       "      <td>A</td>\n",
       "      <td>735</td>\n",
       "    </tr>\n",
       "    <tr>\n",
       "      <th>1194</th>\n",
       "      <td>2203539145</td>\n",
       "      <td>370388673</td>\n",
       "      <td>2019-08-14</td>\n",
       "      <td>50.1</td>\n",
       "      <td>A</td>\n",
       "      <td>735</td>\n",
       "    </tr>\n",
       "    <tr>\n",
       "      <th>1195</th>\n",
       "      <td>1807773912</td>\n",
       "      <td>573423106</td>\n",
       "      <td>2019-08-14</td>\n",
       "      <td>165.3</td>\n",
       "      <td>A</td>\n",
       "      <td>735</td>\n",
       "    </tr>\n",
       "    <tr>\n",
       "      <th>1196</th>\n",
       "      <td>1947021204</td>\n",
       "      <td>1614305549</td>\n",
       "      <td>2019-08-14</td>\n",
       "      <td>5.5</td>\n",
       "      <td>A</td>\n",
       "      <td>735</td>\n",
       "    </tr>\n",
       "  </tbody>\n",
       "</table>\n",
       "<p>1197 rows × 6 columns</p>\n",
       "</div>"
      ],
      "text/plain": [
       "      transactionId   visitorId       date  revenue group  visits\n",
       "0        3667963787  3312258926 2019-08-15     30.4     B     544\n",
       "1        2804400009  3642806036 2019-08-15     15.2     B     544\n",
       "2        3797467345  1196621759 2019-08-15    155.1     B     544\n",
       "3        2282983706  2322279887 2019-08-15     40.5     B     544\n",
       "4         182168103   935554773 2019-08-15     35.0     B     544\n",
       "...             ...         ...        ...      ...   ...     ...\n",
       "1192     2274188238   132143192 2019-08-14     15.5     A     735\n",
       "1193     1692103379  1022829655 2019-08-14      5.7     A     735\n",
       "1194     2203539145   370388673 2019-08-14     50.1     A     735\n",
       "1195     1807773912   573423106 2019-08-14    165.3     A     735\n",
       "1196     1947021204  1614305549 2019-08-14      5.5     A     735\n",
       "\n",
       "[1197 rows x 6 columns]"
      ]
     },
     "execution_count": 72,
     "metadata": {},
     "output_type": "execute_result"
    }
   ],
   "source": [
    "orders_visits_merged"
   ]
  },
  {
   "cell_type": "code",
   "execution_count": 73,
   "metadata": {},
   "outputs": [],
   "source": [
    "# grouping new df in order to get unique visitors IDs by group and visits \n",
    "orders_visits_merged = orders_visits_merged.groupby(['group', 'visits', 'visitorId'], as_index=False).agg({'transactionId': pd.Series.nunique})"
   ]
  },
  {
   "cell_type": "code",
   "execution_count": 74,
   "metadata": {},
   "outputs": [
    {
     "data": {
      "text/html": [
       "<div>\n",
       "<style scoped>\n",
       "    .dataframe tbody tr th:only-of-type {\n",
       "        vertical-align: middle;\n",
       "    }\n",
       "\n",
       "    .dataframe tbody tr th {\n",
       "        vertical-align: top;\n",
       "    }\n",
       "\n",
       "    .dataframe thead th {\n",
       "        text-align: right;\n",
       "    }\n",
       "</style>\n",
       "<table border=\"1\" class=\"dataframe\">\n",
       "  <thead>\n",
       "    <tr style=\"text-align: right;\">\n",
       "      <th></th>\n",
       "      <th>group</th>\n",
       "      <th>visits</th>\n",
       "      <th>visitorId</th>\n",
       "      <th>transactionId</th>\n",
       "    </tr>\n",
       "  </thead>\n",
       "  <tbody>\n",
       "    <tr>\n",
       "      <th>0</th>\n",
       "      <td>A</td>\n",
       "      <td>361</td>\n",
       "      <td>343208965</td>\n",
       "      <td>1</td>\n",
       "    </tr>\n",
       "    <tr>\n",
       "      <th>1</th>\n",
       "      <td>A</td>\n",
       "      <td>361</td>\n",
       "      <td>787824685</td>\n",
       "      <td>1</td>\n",
       "    </tr>\n",
       "    <tr>\n",
       "      <th>2</th>\n",
       "      <td>A</td>\n",
       "      <td>361</td>\n",
       "      <td>1110543778</td>\n",
       "      <td>1</td>\n",
       "    </tr>\n",
       "    <tr>\n",
       "      <th>3</th>\n",
       "      <td>A</td>\n",
       "      <td>361</td>\n",
       "      <td>1460891116</td>\n",
       "      <td>1</td>\n",
       "    </tr>\n",
       "    <tr>\n",
       "      <th>4</th>\n",
       "      <td>A</td>\n",
       "      <td>361</td>\n",
       "      <td>1471496742</td>\n",
       "      <td>1</td>\n",
       "    </tr>\n",
       "    <tr>\n",
       "      <th>...</th>\n",
       "      <td>...</td>\n",
       "      <td>...</td>\n",
       "      <td>...</td>\n",
       "      <td>...</td>\n",
       "    </tr>\n",
       "    <tr>\n",
       "      <th>1165</th>\n",
       "      <td>B</td>\n",
       "      <td>770</td>\n",
       "      <td>3636663279</td>\n",
       "      <td>1</td>\n",
       "    </tr>\n",
       "    <tr>\n",
       "      <th>1166</th>\n",
       "      <td>B</td>\n",
       "      <td>770</td>\n",
       "      <td>3891541246</td>\n",
       "      <td>1</td>\n",
       "    </tr>\n",
       "    <tr>\n",
       "      <th>1167</th>\n",
       "      <td>B</td>\n",
       "      <td>770</td>\n",
       "      <td>3972127743</td>\n",
       "      <td>1</td>\n",
       "    </tr>\n",
       "    <tr>\n",
       "      <th>1168</th>\n",
       "      <td>B</td>\n",
       "      <td>770</td>\n",
       "      <td>4251087345</td>\n",
       "      <td>1</td>\n",
       "    </tr>\n",
       "    <tr>\n",
       "      <th>1169</th>\n",
       "      <td>B</td>\n",
       "      <td>770</td>\n",
       "      <td>4279090005</td>\n",
       "      <td>1</td>\n",
       "    </tr>\n",
       "  </tbody>\n",
       "</table>\n",
       "<p>1170 rows × 4 columns</p>\n",
       "</div>"
      ],
      "text/plain": [
       "     group  visits   visitorId  transactionId\n",
       "0        A     361   343208965              1\n",
       "1        A     361   787824685              1\n",
       "2        A     361  1110543778              1\n",
       "3        A     361  1460891116              1\n",
       "4        A     361  1471496742              1\n",
       "...    ...     ...         ...            ...\n",
       "1165     B     770  3636663279              1\n",
       "1166     B     770  3891541246              1\n",
       "1167     B     770  3972127743              1\n",
       "1168     B     770  4251087345              1\n",
       "1169     B     770  4279090005              1\n",
       "\n",
       "[1170 rows x 4 columns]"
      ]
     },
     "execution_count": 74,
     "metadata": {},
     "output_type": "execute_result"
    }
   ],
   "source": [
    "orders_visits_merged"
   ]
  },
  {
   "cell_type": "code",
   "execution_count": 75,
   "metadata": {
    "scrolled": false
   },
   "outputs": [
    {
     "data": {
      "text/html": [
       "<div>\n",
       "<style scoped>\n",
       "    .dataframe tbody tr th:only-of-type {\n",
       "        vertical-align: middle;\n",
       "    }\n",
       "\n",
       "    .dataframe tbody tr th {\n",
       "        vertical-align: top;\n",
       "    }\n",
       "\n",
       "    .dataframe thead th {\n",
       "        text-align: right;\n",
       "    }\n",
       "</style>\n",
       "<table border=\"1\" class=\"dataframe\">\n",
       "  <thead>\n",
       "    <tr style=\"text-align: right;\">\n",
       "      <th></th>\n",
       "      <th>group</th>\n",
       "      <th>visits</th>\n",
       "      <th>visitorId</th>\n",
       "    </tr>\n",
       "  </thead>\n",
       "  <tbody>\n",
       "    <tr>\n",
       "      <th>0</th>\n",
       "      <td>A</td>\n",
       "      <td>361</td>\n",
       "      <td>18</td>\n",
       "    </tr>\n",
       "    <tr>\n",
       "      <th>1</th>\n",
       "      <td>A</td>\n",
       "      <td>395</td>\n",
       "      <td>15</td>\n",
       "    </tr>\n",
       "    <tr>\n",
       "      <th>2</th>\n",
       "      <td>A</td>\n",
       "      <td>406</td>\n",
       "      <td>16</td>\n",
       "    </tr>\n",
       "    <tr>\n",
       "      <th>3</th>\n",
       "      <td>A</td>\n",
       "      <td>412</td>\n",
       "      <td>9</td>\n",
       "    </tr>\n",
       "    <tr>\n",
       "      <th>4</th>\n",
       "      <td>A</td>\n",
       "      <td>468</td>\n",
       "      <td>25</td>\n",
       "    </tr>\n",
       "    <tr>\n",
       "      <th>...</th>\n",
       "      <td>...</td>\n",
       "      <td>...</td>\n",
       "      <td>...</td>\n",
       "    </tr>\n",
       "    <tr>\n",
       "      <th>56</th>\n",
       "      <td>B</td>\n",
       "      <td>721</td>\n",
       "      <td>13</td>\n",
       "    </tr>\n",
       "    <tr>\n",
       "      <th>57</th>\n",
       "      <td>B</td>\n",
       "      <td>737</td>\n",
       "      <td>9</td>\n",
       "    </tr>\n",
       "    <tr>\n",
       "      <th>58</th>\n",
       "      <td>B</td>\n",
       "      <td>746</td>\n",
       "      <td>22</td>\n",
       "    </tr>\n",
       "    <tr>\n",
       "      <th>59</th>\n",
       "      <td>B</td>\n",
       "      <td>769</td>\n",
       "      <td>21</td>\n",
       "    </tr>\n",
       "    <tr>\n",
       "      <th>60</th>\n",
       "      <td>B</td>\n",
       "      <td>770</td>\n",
       "      <td>16</td>\n",
       "    </tr>\n",
       "  </tbody>\n",
       "</table>\n",
       "<p>61 rows × 3 columns</p>\n",
       "</div>"
      ],
      "text/plain": [
       "   group  visits  visitorId\n",
       "0      A     361         18\n",
       "1      A     395         15\n",
       "2      A     406         16\n",
       "3      A     412          9\n",
       "4      A     468         25\n",
       "..   ...     ...        ...\n",
       "56     B     721         13\n",
       "57     B     737          9\n",
       "58     B     746         22\n",
       "59     B     769         21\n",
       "60     B     770         16\n",
       "\n",
       "[61 rows x 3 columns]"
      ]
     },
     "execution_count": 75,
     "metadata": {},
     "output_type": "execute_result"
    }
   ],
   "source": [
    "# aggregating df by number of unique visitors in order to find conversion rate \n",
    "orders_visits_merged.groupby(['group','visits']).agg({'visitorId':'nunique'}).reset_index()"
   ]
  },
  {
   "cell_type": "code",
   "execution_count": 76,
   "metadata": {},
   "outputs": [],
   "source": [
    "# splitting the data by group \n",
    "orders_visits_merged_A = orders_visits_merged[orders_visits_merged['group']=='A'].groupby('visits').agg({'visitorId':'nunique'}).reset_index()\n",
    "orders_visits_merged_B = orders_visits_merged[orders_visits_merged['group']=='B'].groupby('visits').agg({'visitorId':'nunique'}).reset_index()"
   ]
  },
  {
   "cell_type": "code",
   "execution_count": 77,
   "metadata": {
    "scrolled": true
   },
   "outputs": [
    {
     "data": {
      "text/html": [
       "<div>\n",
       "<style scoped>\n",
       "    .dataframe tbody tr th:only-of-type {\n",
       "        vertical-align: middle;\n",
       "    }\n",
       "\n",
       "    .dataframe tbody tr th {\n",
       "        vertical-align: top;\n",
       "    }\n",
       "\n",
       "    .dataframe thead th {\n",
       "        text-align: right;\n",
       "    }\n",
       "</style>\n",
       "<table border=\"1\" class=\"dataframe\">\n",
       "  <thead>\n",
       "    <tr style=\"text-align: right;\">\n",
       "      <th></th>\n",
       "      <th>visits</th>\n",
       "      <th>visitorId</th>\n",
       "    </tr>\n",
       "  </thead>\n",
       "  <tbody>\n",
       "    <tr>\n",
       "      <th>0</th>\n",
       "      <td>361</td>\n",
       "      <td>18</td>\n",
       "    </tr>\n",
       "    <tr>\n",
       "      <th>1</th>\n",
       "      <td>395</td>\n",
       "      <td>15</td>\n",
       "    </tr>\n",
       "    <tr>\n",
       "      <th>2</th>\n",
       "      <td>406</td>\n",
       "      <td>16</td>\n",
       "    </tr>\n",
       "    <tr>\n",
       "      <th>3</th>\n",
       "      <td>412</td>\n",
       "      <td>9</td>\n",
       "    </tr>\n",
       "    <tr>\n",
       "      <th>4</th>\n",
       "      <td>468</td>\n",
       "      <td>25</td>\n",
       "    </tr>\n",
       "  </tbody>\n",
       "</table>\n",
       "</div>"
      ],
      "text/plain": [
       "   visits  visitorId\n",
       "0     361         18\n",
       "1     395         15\n",
       "2     406         16\n",
       "3     412          9\n",
       "4     468         25"
      ]
     },
     "execution_count": 77,
     "metadata": {},
     "output_type": "execute_result"
    }
   ],
   "source": [
    "orders_visits_merged_A.head()"
   ]
  },
  {
   "cell_type": "code",
   "execution_count": 78,
   "metadata": {
    "scrolled": true
   },
   "outputs": [
    {
     "data": {
      "text/html": [
       "<div>\n",
       "<style scoped>\n",
       "    .dataframe tbody tr th:only-of-type {\n",
       "        vertical-align: middle;\n",
       "    }\n",
       "\n",
       "    .dataframe tbody tr th {\n",
       "        vertical-align: top;\n",
       "    }\n",
       "\n",
       "    .dataframe thead th {\n",
       "        text-align: right;\n",
       "    }\n",
       "</style>\n",
       "<table border=\"1\" class=\"dataframe\">\n",
       "  <thead>\n",
       "    <tr style=\"text-align: right;\">\n",
       "      <th></th>\n",
       "      <th>visits</th>\n",
       "      <th>visitorId</th>\n",
       "    </tr>\n",
       "  </thead>\n",
       "  <tbody>\n",
       "    <tr>\n",
       "      <th>0</th>\n",
       "      <td>369</td>\n",
       "      <td>23</td>\n",
       "    </tr>\n",
       "    <tr>\n",
       "      <th>1</th>\n",
       "      <td>378</td>\n",
       "      <td>16</td>\n",
       "    </tr>\n",
       "    <tr>\n",
       "      <th>2</th>\n",
       "      <td>413</td>\n",
       "      <td>20</td>\n",
       "    </tr>\n",
       "    <tr>\n",
       "      <th>3</th>\n",
       "      <td>421</td>\n",
       "      <td>14</td>\n",
       "    </tr>\n",
       "    <tr>\n",
       "      <th>4</th>\n",
       "      <td>487</td>\n",
       "      <td>20</td>\n",
       "    </tr>\n",
       "  </tbody>\n",
       "</table>\n",
       "</div>"
      ],
      "text/plain": [
       "   visits  visitorId\n",
       "0     369         23\n",
       "1     378         16\n",
       "2     413         20\n",
       "3     421         14\n",
       "4     487         20"
      ]
     },
     "execution_count": 78,
     "metadata": {},
     "output_type": "execute_result"
    }
   ],
   "source": [
    "orders_visits_merged_B.head()"
   ]
  },
  {
   "cell_type": "code",
   "execution_count": 79,
   "metadata": {
    "scrolled": false
   },
   "outputs": [
    {
     "data": {
      "text/html": [
       "<div>\n",
       "<style scoped>\n",
       "    .dataframe tbody tr th:only-of-type {\n",
       "        vertical-align: middle;\n",
       "    }\n",
       "\n",
       "    .dataframe tbody tr th {\n",
       "        vertical-align: top;\n",
       "    }\n",
       "\n",
       "    .dataframe thead th {\n",
       "        text-align: right;\n",
       "    }\n",
       "</style>\n",
       "<table border=\"1\" class=\"dataframe\">\n",
       "  <thead>\n",
       "    <tr style=\"text-align: right;\">\n",
       "      <th></th>\n",
       "      <th>visitorId</th>\n",
       "      <th>transactionId</th>\n",
       "    </tr>\n",
       "  </thead>\n",
       "  <tbody>\n",
       "    <tr>\n",
       "      <th>0</th>\n",
       "      <td>8300375</td>\n",
       "      <td>1</td>\n",
       "    </tr>\n",
       "    <tr>\n",
       "      <th>1</th>\n",
       "      <td>11685486</td>\n",
       "      <td>1</td>\n",
       "    </tr>\n",
       "    <tr>\n",
       "      <th>2</th>\n",
       "      <td>54447517</td>\n",
       "      <td>1</td>\n",
       "    </tr>\n",
       "    <tr>\n",
       "      <th>3</th>\n",
       "      <td>66685450</td>\n",
       "      <td>1</td>\n",
       "    </tr>\n",
       "    <tr>\n",
       "      <th>4</th>\n",
       "      <td>78758296</td>\n",
       "      <td>1</td>\n",
       "    </tr>\n",
       "    <tr>\n",
       "      <th>...</th>\n",
       "      <td>...</td>\n",
       "      <td>...</td>\n",
       "    </tr>\n",
       "    <tr>\n",
       "      <th>498</th>\n",
       "      <td>4243832526</td>\n",
       "      <td>1</td>\n",
       "    </tr>\n",
       "    <tr>\n",
       "      <th>499</th>\n",
       "      <td>4256040402</td>\n",
       "      <td>7</td>\n",
       "    </tr>\n",
       "    <tr>\n",
       "      <th>500</th>\n",
       "      <td>4259830713</td>\n",
       "      <td>1</td>\n",
       "    </tr>\n",
       "    <tr>\n",
       "      <th>501</th>\n",
       "      <td>4266935830</td>\n",
       "      <td>1</td>\n",
       "    </tr>\n",
       "    <tr>\n",
       "      <th>502</th>\n",
       "      <td>4278982564</td>\n",
       "      <td>1</td>\n",
       "    </tr>\n",
       "  </tbody>\n",
       "</table>\n",
       "<p>503 rows × 2 columns</p>\n",
       "</div>"
      ],
      "text/plain": [
       "      visitorId  transactionId\n",
       "0       8300375              1\n",
       "1      11685486              1\n",
       "2      54447517              1\n",
       "3      66685450              1\n",
       "4      78758296              1\n",
       "..          ...            ...\n",
       "498  4243832526              1\n",
       "499  4256040402              7\n",
       "500  4259830713              1\n",
       "501  4266935830              1\n",
       "502  4278982564              1\n",
       "\n",
       "[503 rows x 2 columns]"
      ]
     },
     "execution_count": 79,
     "metadata": {},
     "output_type": "execute_result"
    }
   ],
   "source": [
    "# Reviewer's code\n",
    "\n",
    "reviewer_code = orders[orders['group']=='A'].groupby('visitorId', as_index=False).agg({'transactionId' : pd.Series.nunique})\n",
    "reviewer_code"
   ]
  },
  {
   "cell_type": "code",
   "execution_count": 80,
   "metadata": {},
   "outputs": [
    {
     "data": {
      "text/plain": [
       "Series([], dtype: int64)"
      ]
     },
     "execution_count": 80,
     "metadata": {},
     "output_type": "execute_result"
    }
   ],
   "source": [
    "reviewer_code[reviewer_code['transactionId'] == 0].value_counts()"
   ]
  },
  {
   "cell_type": "code",
   "execution_count": 81,
   "metadata": {},
   "outputs": [
    {
     "data": {
      "text/plain": [
       "visitorId        0\n",
       "transactionId    0\n",
       "dtype: int64"
      ]
     },
     "execution_count": 81,
     "metadata": {},
     "output_type": "execute_result"
    }
   ],
   "source": [
    "reviewer_code[reviewer_code['visitorId'].isna()].count()"
   ]
  },
  {
   "cell_type": "code",
   "execution_count": 82,
   "metadata": {},
   "outputs": [
    {
     "name": "stdout",
     "output_type": "stream",
     "text": [
      "Control group trials: 18736\n",
      "Control group successes: 543\n"
     ]
    }
   ],
   "source": [
    "# Calculating the total number of trials (visits) in the control group (Group A)\n",
    "A_trials = orders_visits_merged_A['visits'].sum()\n",
    "print(\"Control group trials:\", A_trials)\n",
    "\n",
    "# Calculating the total number of successes (number of user IDs that placed an order) in the control group (Group A)\n",
    "A_successes = orders_visits_merged_A['visitorId'].sum()\n",
    "print(\"Control group successes:\", A_successes)"
   ]
  },
  {
   "cell_type": "code",
   "execution_count": 83,
   "metadata": {
    "scrolled": true
   },
   "outputs": [
    {
     "name": "stdout",
     "output_type": "stream",
     "text": [
      "Test group trials: 18262\n",
      "Test group successes: 627\n"
     ]
    }
   ],
   "source": [
    "# Calculating the total number of trials (visits) in the test group (Group B)\n",
    "B_trials = orders_visits_merged_B['visits'].sum()\n",
    "print(\"Test group trials:\", B_trials)\n",
    "\n",
    "# Calculating the total number of successes (number of user IDs that placed an order) in the test group (Group B)\n",
    "B_successes = orders_visits_merged_B['visitorId'].sum()\n",
    "print(\"Test group successes:\", B_successes)"
   ]
  },
  {
   "cell_type": "markdown",
   "metadata": {},
   "source": [
    "In this statistical test we test statistical significance of the difference in conversion. As a parameters we will assign count of visits and count of orders by control and test groups. That is the actual proportions in the populations we're comparing (In this order: orders population A, visits population A, orders population B, visits population B). In the test we will get z-value that is the number of standard deviations a data point is from the mean of a dataset. If z-value is zero that mean that proportions were equal. If z-value is positive that indicates that the data point is above the mean. A negative z-value indicates that it's below the mean. But our goal is to test H0 or H1 hypotheses based on p-value (statistical difference of our proportions or in our case difference in conversions of control and test groups).\n",
    "\n",
    "About hypotheses we test:\n",
    "\n",
    "* H0 hypothesis (p-value greater than significance level) in our case mean that there is no statistical difference between proportions (between conversion rates of A and B groups).\n",
    "\n",
    "* H1 hypothesis (p-value less than significance level) or in other words alternative hypothesis in our case mean that there is significant difference between proportions (between conversion rates of A and B groups).\n",
    "\n",
    "In our A/B testing, we are interested in rejecting the null hypothesis (H0) in favor of the alternative hypothesis (H1) if we observe a statistically significant difference between the groups. This would indicate that the change introduced in the experimental group has had a measurable impact."
   ]
  },
  {
   "cell_type": "code",
   "execution_count": 84,
   "metadata": {},
   "outputs": [],
   "source": [
    "# Creating function for testing the Hypothesis that Proportions Are Equal and finding p-value after that.\n",
    "\n",
    "# check_hypothesis function with trials and successes of control and test groups as parameters and alpha (significance level) 0.05 \n",
    "def check_hypothesis(successes1, trials1, successes2, trials2, alpha=0.05):\n",
    "    \n",
    "    # Proportion of success in the first group (conversion rate in control group)\n",
    "    p1 = successes1/trials1\n",
    "    \n",
    "    # proportion for success in the second group (conversion rate in test group)\n",
    "    p2 = successes2/trials2\n",
    "    \n",
    "    # Combined proportion of conversion rates of two groups \n",
    "    p_combined = (successes1 + successes2) / (trials1 + trials2)\n",
    "    \n",
    "    # Difference in proportions\n",
    "    difference = p1 - p2\n",
    "    \n",
    "    # calculating the statistic in standard deviations of the standard normal distribution (statistical formula)\n",
    "    z_value = difference / math.sqrt(p_combined * (1-p_combined) * (1/trials1 + 1/trials2))\n",
    "    \n",
    "    # setting up the standard normal distribution (mean 0, standard deviation 1)\n",
    "    distr = st.norm(0,1)\n",
    "    \n",
    "    # Calculate p-value (getting the absolute value of the statistic using the abs() method)\n",
    "    # Double the result because the result can be negative if the test is two-sided\n",
    "    p_value = (1 - distr.cdf(abs(z_value))) * 2\n",
    "    \n",
    "    # Printing the result in the necessary formar depending on the result of calculations\n",
    "    print(\"z-value: \", z_value)\n",
    "    print(\"p-value: \", p_value)\n",
    "    if p_value<0.05:\n",
    "        # If p_value less then significance level that means that there is strong evidence against the H0 hypothesis.\n",
    "        # And we confirm H1 hypothesis that mean that there is significant difference between groups. \n",
    "        print(\"Reject H0. There is a significant difference between the proportions\")\n",
    "        \n",
    "    else:\n",
    "        # Else (p value greater than significance level) we can not reject H0 hypothesis and we don't have evidence in significant difference.\n",
    "        print(\"FTR H0. There is no reason to consider the proportions different\")"
   ]
  },
  {
   "cell_type": "markdown",
   "metadata": {},
   "source": [
    "The same function we will use when we will work with filtered data."
   ]
  },
  {
   "cell_type": "code",
   "execution_count": 85,
   "metadata": {
    "scrolled": true
   },
   "outputs": [
    {
     "name": "stdout",
     "output_type": "stream",
     "text": [
      "z-value:  -2.9410980617466436\n",
      "p-value:  0.003270509800141097\n",
      "Reject H0. There is a significant difference between the proportions\n"
     ]
    }
   ],
   "source": [
    "# running the function with our A/B datasets parameters \n",
    "check_hypothesis(A_successes, A_trials, B_successes, B_trials, alpha=0.05)"
   ]
  },
  {
   "cell_type": "markdown",
   "metadata": {},
   "source": [
    "Due to the results of the statistical test we can say that significance of the difference in conversion is really notable because statistical significance (0.0032) is lower than significance level (0.05 in our case). That mean that we rejected the null hypothesis (H0) in favor of the alternative hypothesis (H1) and possibility that the users come from the same population is less than 1% and we can say that the test performed very clear and any deviation in the test is not accidental. "
   ]
  },
  {
   "cell_type": "markdown",
   "metadata": {},
   "source": [
    "### Statistical significance of the difference in average order size (raw data)"
   ]
  },
  {
   "cell_type": "code",
   "execution_count": 86,
   "metadata": {},
   "outputs": [
    {
     "data": {
      "text/html": [
       "<div>\n",
       "<style scoped>\n",
       "    .dataframe tbody tr th:only-of-type {\n",
       "        vertical-align: middle;\n",
       "    }\n",
       "\n",
       "    .dataframe tbody tr th {\n",
       "        vertical-align: top;\n",
       "    }\n",
       "\n",
       "    .dataframe thead th {\n",
       "        text-align: right;\n",
       "    }\n",
       "</style>\n",
       "<table border=\"1\" class=\"dataframe\">\n",
       "  <thead>\n",
       "    <tr style=\"text-align: right;\">\n",
       "      <th></th>\n",
       "      <th>transactionId</th>\n",
       "      <th>visitorId</th>\n",
       "      <th>date</th>\n",
       "      <th>revenue</th>\n",
       "      <th>group</th>\n",
       "    </tr>\n",
       "  </thead>\n",
       "  <tbody>\n",
       "    <tr>\n",
       "      <th>0</th>\n",
       "      <td>3667963787</td>\n",
       "      <td>3312258926</td>\n",
       "      <td>2019-08-15</td>\n",
       "      <td>30.4</td>\n",
       "      <td>B</td>\n",
       "    </tr>\n",
       "    <tr>\n",
       "      <th>1</th>\n",
       "      <td>2804400009</td>\n",
       "      <td>3642806036</td>\n",
       "      <td>2019-08-15</td>\n",
       "      <td>15.2</td>\n",
       "      <td>B</td>\n",
       "    </tr>\n",
       "    <tr>\n",
       "      <th>2</th>\n",
       "      <td>2961555356</td>\n",
       "      <td>4069496402</td>\n",
       "      <td>2019-08-15</td>\n",
       "      <td>10.2</td>\n",
       "      <td>A</td>\n",
       "    </tr>\n",
       "    <tr>\n",
       "      <th>3</th>\n",
       "      <td>3797467345</td>\n",
       "      <td>1196621759</td>\n",
       "      <td>2019-08-15</td>\n",
       "      <td>155.1</td>\n",
       "      <td>B</td>\n",
       "    </tr>\n",
       "    <tr>\n",
       "      <th>4</th>\n",
       "      <td>2282983706</td>\n",
       "      <td>2322279887</td>\n",
       "      <td>2019-08-15</td>\n",
       "      <td>40.5</td>\n",
       "      <td>B</td>\n",
       "    </tr>\n",
       "  </tbody>\n",
       "</table>\n",
       "</div>"
      ],
      "text/plain": [
       "   transactionId   visitorId       date  revenue group\n",
       "0     3667963787  3312258926 2019-08-15     30.4     B\n",
       "1     2804400009  3642806036 2019-08-15     15.2     B\n",
       "2     2961555356  4069496402 2019-08-15     10.2     A\n",
       "3     3797467345  1196621759 2019-08-15    155.1     B\n",
       "4     2282983706  2322279887 2019-08-15     40.5     B"
      ]
     },
     "execution_count": 86,
     "metadata": {},
     "output_type": "execute_result"
    }
   ],
   "source": [
    "orders.head()"
   ]
  },
  {
   "cell_type": "code",
   "execution_count": 87,
   "metadata": {},
   "outputs": [],
   "source": [
    "# slicing the df by groups\n",
    "orders_A = orders[orders['group'] == 'A']\n",
    "orders_B = orders[orders['group'] == 'B']"
   ]
  },
  {
   "cell_type": "code",
   "execution_count": 88,
   "metadata": {},
   "outputs": [],
   "source": [
    "# aggregating the df by count of transactions and sum of revenue in order to calculate average order size \n",
    "orders_A_daily = orders_A.groupby('date').agg({'transactionId':'count','revenue':'sum'}).reset_index()\n",
    "orders_B_daily = orders_B.groupby('date').agg({'transactionId':'count','revenue':'sum'}).reset_index()"
   ]
  },
  {
   "cell_type": "code",
   "execution_count": 89,
   "metadata": {},
   "outputs": [],
   "source": [
    "# calculating avg order size\n",
    "orders_A_daily['avg_order_size_A'] = orders_A_daily['revenue'] / orders_A_daily['transactionId']\n",
    "orders_B_daily['avg_order_size_B'] = orders_B_daily['revenue'] / orders_B_daily['transactionId']"
   ]
  },
  {
   "cell_type": "code",
   "execution_count": 90,
   "metadata": {},
   "outputs": [],
   "source": [
    "# merging A and B group on date column \n",
    "orders_AB_daily = orders_A_daily.merge(orders_B_daily, on='date', suffixes=('_a', '_b'))"
   ]
  },
  {
   "cell_type": "code",
   "execution_count": 91,
   "metadata": {
    "scrolled": false
   },
   "outputs": [
    {
     "data": {
      "text/html": [
       "<div>\n",
       "<style scoped>\n",
       "    .dataframe tbody tr th:only-of-type {\n",
       "        vertical-align: middle;\n",
       "    }\n",
       "\n",
       "    .dataframe tbody tr th {\n",
       "        vertical-align: top;\n",
       "    }\n",
       "\n",
       "    .dataframe thead th {\n",
       "        text-align: right;\n",
       "    }\n",
       "</style>\n",
       "<table border=\"1\" class=\"dataframe\">\n",
       "  <thead>\n",
       "    <tr style=\"text-align: right;\">\n",
       "      <th></th>\n",
       "      <th>date</th>\n",
       "      <th>transactionId_a</th>\n",
       "      <th>revenue_a</th>\n",
       "      <th>avg_order_size_A</th>\n",
       "      <th>transactionId_b</th>\n",
       "      <th>revenue_b</th>\n",
       "      <th>avg_order_size_B</th>\n",
       "    </tr>\n",
       "  </thead>\n",
       "  <tbody>\n",
       "    <tr>\n",
       "      <th>0</th>\n",
       "      <td>2019-08-01</td>\n",
       "      <td>24</td>\n",
       "      <td>2356.8</td>\n",
       "      <td>98.200000</td>\n",
       "      <td>21</td>\n",
       "      <td>1620.0</td>\n",
       "      <td>77.142857</td>\n",
       "    </tr>\n",
       "    <tr>\n",
       "      <th>1</th>\n",
       "      <td>2019-08-02</td>\n",
       "      <td>20</td>\n",
       "      <td>1503.5</td>\n",
       "      <td>75.175000</td>\n",
       "      <td>24</td>\n",
       "      <td>2623.8</td>\n",
       "      <td>109.325000</td>\n",
       "    </tr>\n",
       "    <tr>\n",
       "      <th>2</th>\n",
       "      <td>2019-08-03</td>\n",
       "      <td>24</td>\n",
       "      <td>1815.2</td>\n",
       "      <td>75.633333</td>\n",
       "      <td>16</td>\n",
       "      <td>1806.8</td>\n",
       "      <td>112.925000</td>\n",
       "    </tr>\n",
       "    <tr>\n",
       "      <th>3</th>\n",
       "      <td>2019-08-04</td>\n",
       "      <td>16</td>\n",
       "      <td>1146.6</td>\n",
       "      <td>71.662500</td>\n",
       "      <td>17</td>\n",
       "      <td>1717.3</td>\n",
       "      <td>101.017647</td>\n",
       "    </tr>\n",
       "    <tr>\n",
       "      <th>4</th>\n",
       "      <td>2019-08-05</td>\n",
       "      <td>25</td>\n",
       "      <td>1988.1</td>\n",
       "      <td>79.524000</td>\n",
       "      <td>23</td>\n",
       "      <td>1495.0</td>\n",
       "      <td>65.000000</td>\n",
       "    </tr>\n",
       "    <tr>\n",
       "      <th>5</th>\n",
       "      <td>2019-08-06</td>\n",
       "      <td>18</td>\n",
       "      <td>789.8</td>\n",
       "      <td>43.877778</td>\n",
       "      <td>28</td>\n",
       "      <td>3806.4</td>\n",
       "      <td>135.942857</td>\n",
       "    </tr>\n",
       "    <tr>\n",
       "      <th>6</th>\n",
       "      <td>2019-08-07</td>\n",
       "      <td>18</td>\n",
       "      <td>2242.9</td>\n",
       "      <td>124.605556</td>\n",
       "      <td>24</td>\n",
       "      <td>3531.5</td>\n",
       "      <td>147.145833</td>\n",
       "    </tr>\n",
       "    <tr>\n",
       "      <th>7</th>\n",
       "      <td>2019-08-08</td>\n",
       "      <td>16</td>\n",
       "      <td>1530.4</td>\n",
       "      <td>95.650000</td>\n",
       "      <td>27</td>\n",
       "      <td>3487.8</td>\n",
       "      <td>129.177778</td>\n",
       "    </tr>\n",
       "    <tr>\n",
       "      <th>8</th>\n",
       "      <td>2019-08-09</td>\n",
       "      <td>16</td>\n",
       "      <td>2947.1</td>\n",
       "      <td>184.193750</td>\n",
       "      <td>25</td>\n",
       "      <td>2558.1</td>\n",
       "      <td>102.324000</td>\n",
       "    </tr>\n",
       "    <tr>\n",
       "      <th>9</th>\n",
       "      <td>2019-08-10</td>\n",
       "      <td>16</td>\n",
       "      <td>3288.2</td>\n",
       "      <td>205.512500</td>\n",
       "      <td>23</td>\n",
       "      <td>1720.4</td>\n",
       "      <td>74.800000</td>\n",
       "    </tr>\n",
       "    <tr>\n",
       "      <th>10</th>\n",
       "      <td>2019-08-11</td>\n",
       "      <td>13</td>\n",
       "      <td>1229.7</td>\n",
       "      <td>94.592308</td>\n",
       "      <td>13</td>\n",
       "      <td>861.2</td>\n",
       "      <td>66.246154</td>\n",
       "    </tr>\n",
       "    <tr>\n",
       "      <th>11</th>\n",
       "      <td>2019-08-12</td>\n",
       "      <td>24</td>\n",
       "      <td>3910.8</td>\n",
       "      <td>162.950000</td>\n",
       "      <td>23</td>\n",
       "      <td>2245.7</td>\n",
       "      <td>97.639130</td>\n",
       "    </tr>\n",
       "    <tr>\n",
       "      <th>12</th>\n",
       "      <td>2019-08-13</td>\n",
       "      <td>14</td>\n",
       "      <td>4096.9</td>\n",
       "      <td>292.635714</td>\n",
       "      <td>21</td>\n",
       "      <td>1910.0</td>\n",
       "      <td>90.952381</td>\n",
       "    </tr>\n",
       "    <tr>\n",
       "      <th>13</th>\n",
       "      <td>2019-08-14</td>\n",
       "      <td>24</td>\n",
       "      <td>1064.8</td>\n",
       "      <td>44.366667</td>\n",
       "      <td>23</td>\n",
       "      <td>2711.7</td>\n",
       "      <td>117.900000</td>\n",
       "    </tr>\n",
       "    <tr>\n",
       "      <th>14</th>\n",
       "      <td>2019-08-15</td>\n",
       "      <td>15</td>\n",
       "      <td>1408.2</td>\n",
       "      <td>93.880000</td>\n",
       "      <td>31</td>\n",
       "      <td>5361.9</td>\n",
       "      <td>172.964516</td>\n",
       "    </tr>\n",
       "    <tr>\n",
       "      <th>15</th>\n",
       "      <td>2019-08-16</td>\n",
       "      <td>18</td>\n",
       "      <td>1599.1</td>\n",
       "      <td>88.838889</td>\n",
       "      <td>20</td>\n",
       "      <td>2697.7</td>\n",
       "      <td>134.885000</td>\n",
       "    </tr>\n",
       "    <tr>\n",
       "      <th>16</th>\n",
       "      <td>2019-08-17</td>\n",
       "      <td>10</td>\n",
       "      <td>805.5</td>\n",
       "      <td>80.550000</td>\n",
       "      <td>14</td>\n",
       "      <td>1281.5</td>\n",
       "      <td>91.535714</td>\n",
       "    </tr>\n",
       "    <tr>\n",
       "      <th>17</th>\n",
       "      <td>2019-08-18</td>\n",
       "      <td>17</td>\n",
       "      <td>1171.8</td>\n",
       "      <td>68.929412</td>\n",
       "      <td>9</td>\n",
       "      <td>1044.9</td>\n",
       "      <td>116.100000</td>\n",
       "    </tr>\n",
       "    <tr>\n",
       "      <th>18</th>\n",
       "      <td>2019-08-19</td>\n",
       "      <td>22</td>\n",
       "      <td>2989.1</td>\n",
       "      <td>135.868182</td>\n",
       "      <td>21</td>\n",
       "      <td>22064.9</td>\n",
       "      <td>1050.709524</td>\n",
       "    </tr>\n",
       "    <tr>\n",
       "      <th>19</th>\n",
       "      <td>2019-08-20</td>\n",
       "      <td>12</td>\n",
       "      <td>1232.3</td>\n",
       "      <td>102.691667</td>\n",
       "      <td>20</td>\n",
       "      <td>2324.6</td>\n",
       "      <td>116.230000</td>\n",
       "    </tr>\n",
       "    <tr>\n",
       "      <th>20</th>\n",
       "      <td>2019-08-21</td>\n",
       "      <td>23</td>\n",
       "      <td>2755.5</td>\n",
       "      <td>119.804348</td>\n",
       "      <td>14</td>\n",
       "      <td>2555.9</td>\n",
       "      <td>182.564286</td>\n",
       "    </tr>\n",
       "    <tr>\n",
       "      <th>21</th>\n",
       "      <td>2019-08-22</td>\n",
       "      <td>16</td>\n",
       "      <td>1783.3</td>\n",
       "      <td>111.456250</td>\n",
       "      <td>25</td>\n",
       "      <td>2560.8</td>\n",
       "      <td>102.432000</td>\n",
       "    </tr>\n",
       "    <tr>\n",
       "      <th>22</th>\n",
       "      <td>2019-08-23</td>\n",
       "      <td>25</td>\n",
       "      <td>1888.0</td>\n",
       "      <td>75.520000</td>\n",
       "      <td>15</td>\n",
       "      <td>1799.5</td>\n",
       "      <td>119.966667</td>\n",
       "    </tr>\n",
       "    <tr>\n",
       "      <th>23</th>\n",
       "      <td>2019-08-24</td>\n",
       "      <td>15</td>\n",
       "      <td>2002.7</td>\n",
       "      <td>133.513333</td>\n",
       "      <td>16</td>\n",
       "      <td>1527.2</td>\n",
       "      <td>95.450000</td>\n",
       "    </tr>\n",
       "    <tr>\n",
       "      <th>24</th>\n",
       "      <td>2019-08-25</td>\n",
       "      <td>10</td>\n",
       "      <td>1078.9</td>\n",
       "      <td>107.890000</td>\n",
       "      <td>14</td>\n",
       "      <td>1626.5</td>\n",
       "      <td>116.178571</td>\n",
       "    </tr>\n",
       "    <tr>\n",
       "      <th>25</th>\n",
       "      <td>2019-08-26</td>\n",
       "      <td>16</td>\n",
       "      <td>2464.8</td>\n",
       "      <td>154.050000</td>\n",
       "      <td>25</td>\n",
       "      <td>2900.4</td>\n",
       "      <td>116.016000</td>\n",
       "    </tr>\n",
       "    <tr>\n",
       "      <th>26</th>\n",
       "      <td>2019-08-27</td>\n",
       "      <td>28</td>\n",
       "      <td>4511.1</td>\n",
       "      <td>161.110714</td>\n",
       "      <td>16</td>\n",
       "      <td>2319.8</td>\n",
       "      <td>144.987500</td>\n",
       "    </tr>\n",
       "    <tr>\n",
       "      <th>27</th>\n",
       "      <td>2019-08-28</td>\n",
       "      <td>17</td>\n",
       "      <td>1602.6</td>\n",
       "      <td>94.270588</td>\n",
       "      <td>28</td>\n",
       "      <td>1558.0</td>\n",
       "      <td>55.642857</td>\n",
       "    </tr>\n",
       "    <tr>\n",
       "      <th>28</th>\n",
       "      <td>2019-08-29</td>\n",
       "      <td>22</td>\n",
       "      <td>4995.5</td>\n",
       "      <td>227.068182</td>\n",
       "      <td>20</td>\n",
       "      <td>3623.7</td>\n",
       "      <td>181.185000</td>\n",
       "    </tr>\n",
       "    <tr>\n",
       "      <th>29</th>\n",
       "      <td>2019-08-30</td>\n",
       "      <td>11</td>\n",
       "      <td>1364.3</td>\n",
       "      <td>124.027273</td>\n",
       "      <td>24</td>\n",
       "      <td>3393.3</td>\n",
       "      <td>141.387500</td>\n",
       "    </tr>\n",
       "    <tr>\n",
       "      <th>30</th>\n",
       "      <td>2019-08-31</td>\n",
       "      <td>12</td>\n",
       "      <td>991.4</td>\n",
       "      <td>82.616667</td>\n",
       "      <td>20</td>\n",
       "      <td>2104.3</td>\n",
       "      <td>105.215000</td>\n",
       "    </tr>\n",
       "  </tbody>\n",
       "</table>\n",
       "</div>"
      ],
      "text/plain": [
       "         date  transactionId_a  revenue_a  avg_order_size_A  transactionId_b  \\\n",
       "0  2019-08-01               24     2356.8         98.200000               21   \n",
       "1  2019-08-02               20     1503.5         75.175000               24   \n",
       "2  2019-08-03               24     1815.2         75.633333               16   \n",
       "3  2019-08-04               16     1146.6         71.662500               17   \n",
       "4  2019-08-05               25     1988.1         79.524000               23   \n",
       "5  2019-08-06               18      789.8         43.877778               28   \n",
       "6  2019-08-07               18     2242.9        124.605556               24   \n",
       "7  2019-08-08               16     1530.4         95.650000               27   \n",
       "8  2019-08-09               16     2947.1        184.193750               25   \n",
       "9  2019-08-10               16     3288.2        205.512500               23   \n",
       "10 2019-08-11               13     1229.7         94.592308               13   \n",
       "11 2019-08-12               24     3910.8        162.950000               23   \n",
       "12 2019-08-13               14     4096.9        292.635714               21   \n",
       "13 2019-08-14               24     1064.8         44.366667               23   \n",
       "14 2019-08-15               15     1408.2         93.880000               31   \n",
       "15 2019-08-16               18     1599.1         88.838889               20   \n",
       "16 2019-08-17               10      805.5         80.550000               14   \n",
       "17 2019-08-18               17     1171.8         68.929412                9   \n",
       "18 2019-08-19               22     2989.1        135.868182               21   \n",
       "19 2019-08-20               12     1232.3        102.691667               20   \n",
       "20 2019-08-21               23     2755.5        119.804348               14   \n",
       "21 2019-08-22               16     1783.3        111.456250               25   \n",
       "22 2019-08-23               25     1888.0         75.520000               15   \n",
       "23 2019-08-24               15     2002.7        133.513333               16   \n",
       "24 2019-08-25               10     1078.9        107.890000               14   \n",
       "25 2019-08-26               16     2464.8        154.050000               25   \n",
       "26 2019-08-27               28     4511.1        161.110714               16   \n",
       "27 2019-08-28               17     1602.6         94.270588               28   \n",
       "28 2019-08-29               22     4995.5        227.068182               20   \n",
       "29 2019-08-30               11     1364.3        124.027273               24   \n",
       "30 2019-08-31               12      991.4         82.616667               20   \n",
       "\n",
       "    revenue_b  avg_order_size_B  \n",
       "0      1620.0         77.142857  \n",
       "1      2623.8        109.325000  \n",
       "2      1806.8        112.925000  \n",
       "3      1717.3        101.017647  \n",
       "4      1495.0         65.000000  \n",
       "5      3806.4        135.942857  \n",
       "6      3531.5        147.145833  \n",
       "7      3487.8        129.177778  \n",
       "8      2558.1        102.324000  \n",
       "9      1720.4         74.800000  \n",
       "10      861.2         66.246154  \n",
       "11     2245.7         97.639130  \n",
       "12     1910.0         90.952381  \n",
       "13     2711.7        117.900000  \n",
       "14     5361.9        172.964516  \n",
       "15     2697.7        134.885000  \n",
       "16     1281.5         91.535714  \n",
       "17     1044.9        116.100000  \n",
       "18    22064.9       1050.709524  \n",
       "19     2324.6        116.230000  \n",
       "20     2555.9        182.564286  \n",
       "21     2560.8        102.432000  \n",
       "22     1799.5        119.966667  \n",
       "23     1527.2         95.450000  \n",
       "24     1626.5        116.178571  \n",
       "25     2900.4        116.016000  \n",
       "26     2319.8        144.987500  \n",
       "27     1558.0         55.642857  \n",
       "28     3623.7        181.185000  \n",
       "29     3393.3        141.387500  \n",
       "30     2104.3        105.215000  "
      ]
     },
     "execution_count": 91,
     "metadata": {},
     "output_type": "execute_result"
    }
   ],
   "source": [
    "orders_AB_daily"
   ]
  },
  {
   "cell_type": "code",
   "execution_count": 92,
   "metadata": {
    "scrolled": false
   },
   "outputs": [
    {
     "data": {
      "text/plain": [
       "<matplotlib.legend.Legend at 0x7f4719f21bb0>"
      ]
     },
     "execution_count": 92,
     "metadata": {},
     "output_type": "execute_result"
    },
    {
     "data": {
      "image/png": "[encoded data removed]",
      "text/plain": [
       "<Figure size 1500x600 with 1 Axes>"
      ]
     },
     "metadata": {},
     "output_type": "display_data"
    }
   ],
   "source": [
    "# creating a daily avg order size by group line plot\n",
    "plt.plot(orders_AB_daily['date'], orders_AB_daily['avg_order_size_A'], label='Control group')\n",
    "plt.plot(orders_AB_daily['date'], orders_AB_daily['avg_order_size_B'], label='Test group')\n",
    "plt.title('Average Order Size by Group')\n",
    "plt.xlabel('Date')\n",
    "plt.ylabel('Order size')\n",
    "plt.legend()"
   ]
  },
  {
   "cell_type": "markdown",
   "metadata": {},
   "source": [
    "In this case we have an average data so we should conduct the Shapiro-Wilk test to determine if the distribution is normal. If the distribution is normal, we'll use the t-test; otherwise, we'll use the Wilcoxon-Mann-Whitney nonparametric test.\n",
    "\n",
    "Due to the graph I see that distribution is abnormal but to be clear we'll do Shapiro-Wilk test."
   ]
  },
  {
   "cell_type": "markdown",
   "metadata": {},
   "source": [
    "In this test we also should check both H0 and H1 (alternative) hypothesis. Unlike of previous statistical test where we compared relations (retention rate) of two groups in this test we will need to compare distributions of average order size of contro; and test group:\n",
    "\n",
    "    1) H0 hypothesis. If the distribution of average order size by day in both groups will be the same so we'll confirm H0 hypothesis that mean that there are no significant diferense in average order size disttribution. How we will know that there is no significant diferense in distribution? p-value will be higher than significance level (0.05)\n",
    "    2) H1 hypothesis. If we'll found out the difference while comparing the distributions (p-value is lower than significance level) so we'll have evidence against H0 hypothesis in in favor of the alternative hypothesis (H1)\n",
    "    \n",
    "In this test we also interested in H1 hypothesis confirmation."
   ]
  },
  {
   "cell_type": "code",
   "execution_count": 93,
   "metadata": {},
   "outputs": [],
   "source": [
    "# Here we creating the function that will test the normality of distribution and due to this will perform the necessary test.\n",
    "# Levene's test for normal distribution and Mann-Whitney U test for abnormal distribution \n",
    "# This function we will also use on filtered data.\n",
    "\n",
    "# Function testing_average with parameters from A and B group and alpha (significance level) 0.05 by default.\n",
    "def testing_average(sample1, sample2, alpha=0.05):\n",
    "    \n",
    "    # Shapiro-Wilk test for distribution normality \n",
    "    stat1, p1_norm = st.shapiro(sample1)\n",
    "    stat2, p2_norm = st.shapiro(sample2)\n",
    "    \n",
    "    # Checking if both samples are normally distributed\n",
    "    if p1_norm > alpha and p2_norm > alpha:\n",
    "        \n",
    "        # If both samples are normally distributed, perform Levene's test for homogeneity of variances\n",
    "        statslev,p_levene = st.levene(sample1,sample2)\n",
    "        \n",
    "        # Checking if the variances are equal (p-value from Levene's test > alpha)\n",
    "        if p_levene<alpha:\n",
    "            \n",
    "            # If variances are not equal, perform t-test\n",
    "            statist,p_value = st.ttest_ind(sample1, sample2, equal_var=False)\n",
    "        else:\n",
    "             # If one or both samples are not normally distributed, perform Mann-Whitney U test\n",
    "            statist,p_value = st.ttest_ind(sample1, sample2, equal_var=True)\n",
    "    else:\n",
    "        statist,p_value = st.mannwhitneyu(sample1, sample2)\n",
    "        \n",
    "# printing p-value and description of result\n",
    "    print(\"P-value is: \", p_value)\n",
    "    if p_value<alpha:\n",
    "        # If p_value less then significance level that means that there is strong evidence against the H0 hypothesis.\n",
    "        # And we confirm H1 hypothesis that mean that there is significant difference between groups. \n",
    "        print('Reject H0. There is a significant difference between the distributions.')\n",
    "        \n",
    "    else:\n",
    "        # Else (p value greater than significance level) we can not reject H0 hypothesis and we don't have evidence in significant difference.\n",
    "        print('Fail to Reject H0. There is no reason to consider the distributions are different')"
   ]
  },
  {
   "cell_type": "code",
   "execution_count": 94,
   "metadata": {
    "scrolled": true
   },
   "outputs": [
    {
     "name": "stdout",
     "output_type": "stream",
     "text": [
      "P-value is:  0.4222761086468382\n",
      "Fail to Reject H0. There is no reason to consider the distributions are different\n"
     ]
    }
   ],
   "source": [
    "# using our function with average order size of each group from our df as parameters\n",
    "testing_average(orders_AB_daily['avg_order_size_A'], orders_AB_daily['avg_order_size_B'], alpha=0.05)"
   ]
  },
  {
   "cell_type": "markdown",
   "metadata": {},
   "source": [
    "Due to the test we can't say that there is statistical significance of the difference in average order size beacause possibility that the users come from the same population is really high. "
   ]
  },
  {
   "cell_type": "markdown",
   "metadata": {},
   "source": [
    "### Statistical significance of the difference in conversion between the groups using the filtered data"
   ]
  },
  {
   "cell_type": "markdown",
   "metadata": {},
   "source": [
    "To obtain filtered data, we'll take our new_orders data and remove all anomalies from it.\n",
    "\n",
    "* First anomaly - more than 2 orders per user.\n",
    "* Second anomaly - order's price more than 413 for control group and 445 for test group."
   ]
  },
  {
   "cell_type": "code",
   "execution_count": 95,
   "metadata": {},
   "outputs": [
    {
     "data": {
      "text/html": [
       "<div>\n",
       "<style scoped>\n",
       "    .dataframe tbody tr th:only-of-type {\n",
       "        vertical-align: middle;\n",
       "    }\n",
       "\n",
       "    .dataframe tbody tr th {\n",
       "        vertical-align: top;\n",
       "    }\n",
       "\n",
       "    .dataframe thead th {\n",
       "        text-align: right;\n",
       "    }\n",
       "</style>\n",
       "<table border=\"1\" class=\"dataframe\">\n",
       "  <thead>\n",
       "    <tr style=\"text-align: right;\">\n",
       "      <th></th>\n",
       "      <th>transactionId</th>\n",
       "      <th>visitorId</th>\n",
       "      <th>date</th>\n",
       "      <th>revenue</th>\n",
       "      <th>group</th>\n",
       "    </tr>\n",
       "  </thead>\n",
       "  <tbody>\n",
       "    <tr>\n",
       "      <th>0</th>\n",
       "      <td>3667963787</td>\n",
       "      <td>3312258926</td>\n",
       "      <td>2019-08-15</td>\n",
       "      <td>30.4</td>\n",
       "      <td>B</td>\n",
       "    </tr>\n",
       "    <tr>\n",
       "      <th>1</th>\n",
       "      <td>2804400009</td>\n",
       "      <td>3642806036</td>\n",
       "      <td>2019-08-15</td>\n",
       "      <td>15.2</td>\n",
       "      <td>B</td>\n",
       "    </tr>\n",
       "    <tr>\n",
       "      <th>3</th>\n",
       "      <td>3797467345</td>\n",
       "      <td>1196621759</td>\n",
       "      <td>2019-08-15</td>\n",
       "      <td>155.1</td>\n",
       "      <td>B</td>\n",
       "    </tr>\n",
       "    <tr>\n",
       "      <th>4</th>\n",
       "      <td>2282983706</td>\n",
       "      <td>2322279887</td>\n",
       "      <td>2019-08-15</td>\n",
       "      <td>40.5</td>\n",
       "      <td>B</td>\n",
       "    </tr>\n",
       "    <tr>\n",
       "      <th>5</th>\n",
       "      <td>182168103</td>\n",
       "      <td>935554773</td>\n",
       "      <td>2019-08-15</td>\n",
       "      <td>35.0</td>\n",
       "      <td>B</td>\n",
       "    </tr>\n",
       "    <tr>\n",
       "      <th>...</th>\n",
       "      <td>...</td>\n",
       "      <td>...</td>\n",
       "      <td>...</td>\n",
       "      <td>...</td>\n",
       "      <td>...</td>\n",
       "    </tr>\n",
       "    <tr>\n",
       "      <th>1191</th>\n",
       "      <td>3592955527</td>\n",
       "      <td>608641596</td>\n",
       "      <td>2019-08-14</td>\n",
       "      <td>255.7</td>\n",
       "      <td>B</td>\n",
       "    </tr>\n",
       "    <tr>\n",
       "      <th>1192</th>\n",
       "      <td>2662137336</td>\n",
       "      <td>3733762160</td>\n",
       "      <td>2019-08-14</td>\n",
       "      <td>100.8</td>\n",
       "      <td>B</td>\n",
       "    </tr>\n",
       "    <tr>\n",
       "      <th>1193</th>\n",
       "      <td>2203539145</td>\n",
       "      <td>370388673</td>\n",
       "      <td>2019-08-14</td>\n",
       "      <td>50.1</td>\n",
       "      <td>A</td>\n",
       "    </tr>\n",
       "    <tr>\n",
       "      <th>1194</th>\n",
       "      <td>1807773912</td>\n",
       "      <td>573423106</td>\n",
       "      <td>2019-08-14</td>\n",
       "      <td>165.3</td>\n",
       "      <td>A</td>\n",
       "    </tr>\n",
       "    <tr>\n",
       "      <th>1196</th>\n",
       "      <td>3936777065</td>\n",
       "      <td>2108080724</td>\n",
       "      <td>2019-08-15</td>\n",
       "      <td>3120.1</td>\n",
       "      <td>B</td>\n",
       "    </tr>\n",
       "  </tbody>\n",
       "</table>\n",
       "<p>1016 rows × 5 columns</p>\n",
       "</div>"
      ],
      "text/plain": [
       "      transactionId   visitorId       date  revenue group\n",
       "0        3667963787  3312258926 2019-08-15     30.4     B\n",
       "1        2804400009  3642806036 2019-08-15     15.2     B\n",
       "3        3797467345  1196621759 2019-08-15    155.1     B\n",
       "4        2282983706  2322279887 2019-08-15     40.5     B\n",
       "5         182168103   935554773 2019-08-15     35.0     B\n",
       "...             ...         ...        ...      ...   ...\n",
       "1191     3592955527   608641596 2019-08-14    255.7     B\n",
       "1192     2662137336  3733762160 2019-08-14    100.8     B\n",
       "1193     2203539145   370388673 2019-08-14     50.1     A\n",
       "1194     1807773912   573423106 2019-08-14    165.3     A\n",
       "1196     3936777065  2108080724 2019-08-15   3120.1     B\n",
       "\n",
       "[1016 rows x 5 columns]"
      ]
     },
     "execution_count": 95,
     "metadata": {},
     "output_type": "execute_result"
    }
   ],
   "source": [
    "new_orders"
   ]
  },
  {
   "cell_type": "code",
   "execution_count": 96,
   "metadata": {},
   "outputs": [],
   "source": [
    "# filtering the df that we'll get only visitors with less than 2 orders\n",
    "orders_new = new_orders.groupby('visitorId').filter(lambda x: x['transactionId'].count() < 2)"
   ]
  },
  {
   "cell_type": "code",
   "execution_count": 97,
   "metadata": {},
   "outputs": [
    {
     "data": {
      "text/html": [
       "<div>\n",
       "<style scoped>\n",
       "    .dataframe tbody tr th:only-of-type {\n",
       "        vertical-align: middle;\n",
       "    }\n",
       "\n",
       "    .dataframe tbody tr th {\n",
       "        vertical-align: top;\n",
       "    }\n",
       "\n",
       "    .dataframe thead th {\n",
       "        text-align: right;\n",
       "    }\n",
       "</style>\n",
       "<table border=\"1\" class=\"dataframe\">\n",
       "  <thead>\n",
       "    <tr style=\"text-align: right;\">\n",
       "      <th></th>\n",
       "      <th>transactionId</th>\n",
       "      <th>visitorId</th>\n",
       "      <th>date</th>\n",
       "      <th>revenue</th>\n",
       "      <th>group</th>\n",
       "    </tr>\n",
       "  </thead>\n",
       "  <tbody>\n",
       "    <tr>\n",
       "      <th>0</th>\n",
       "      <td>3667963787</td>\n",
       "      <td>3312258926</td>\n",
       "      <td>2019-08-15</td>\n",
       "      <td>30.4</td>\n",
       "      <td>B</td>\n",
       "    </tr>\n",
       "    <tr>\n",
       "      <th>1</th>\n",
       "      <td>2804400009</td>\n",
       "      <td>3642806036</td>\n",
       "      <td>2019-08-15</td>\n",
       "      <td>15.2</td>\n",
       "      <td>B</td>\n",
       "    </tr>\n",
       "    <tr>\n",
       "      <th>3</th>\n",
       "      <td>3797467345</td>\n",
       "      <td>1196621759</td>\n",
       "      <td>2019-08-15</td>\n",
       "      <td>155.1</td>\n",
       "      <td>B</td>\n",
       "    </tr>\n",
       "    <tr>\n",
       "      <th>4</th>\n",
       "      <td>2282983706</td>\n",
       "      <td>2322279887</td>\n",
       "      <td>2019-08-15</td>\n",
       "      <td>40.5</td>\n",
       "      <td>B</td>\n",
       "    </tr>\n",
       "    <tr>\n",
       "      <th>5</th>\n",
       "      <td>182168103</td>\n",
       "      <td>935554773</td>\n",
       "      <td>2019-08-15</td>\n",
       "      <td>35.0</td>\n",
       "      <td>B</td>\n",
       "    </tr>\n",
       "    <tr>\n",
       "      <th>...</th>\n",
       "      <td>...</td>\n",
       "      <td>...</td>\n",
       "      <td>...</td>\n",
       "      <td>...</td>\n",
       "      <td>...</td>\n",
       "    </tr>\n",
       "    <tr>\n",
       "      <th>1191</th>\n",
       "      <td>3592955527</td>\n",
       "      <td>608641596</td>\n",
       "      <td>2019-08-14</td>\n",
       "      <td>255.7</td>\n",
       "      <td>B</td>\n",
       "    </tr>\n",
       "    <tr>\n",
       "      <th>1192</th>\n",
       "      <td>2662137336</td>\n",
       "      <td>3733762160</td>\n",
       "      <td>2019-08-14</td>\n",
       "      <td>100.8</td>\n",
       "      <td>B</td>\n",
       "    </tr>\n",
       "    <tr>\n",
       "      <th>1193</th>\n",
       "      <td>2203539145</td>\n",
       "      <td>370388673</td>\n",
       "      <td>2019-08-14</td>\n",
       "      <td>50.1</td>\n",
       "      <td>A</td>\n",
       "    </tr>\n",
       "    <tr>\n",
       "      <th>1194</th>\n",
       "      <td>1807773912</td>\n",
       "      <td>573423106</td>\n",
       "      <td>2019-08-14</td>\n",
       "      <td>165.3</td>\n",
       "      <td>A</td>\n",
       "    </tr>\n",
       "    <tr>\n",
       "      <th>1196</th>\n",
       "      <td>3936777065</td>\n",
       "      <td>2108080724</td>\n",
       "      <td>2019-08-15</td>\n",
       "      <td>3120.1</td>\n",
       "      <td>B</td>\n",
       "    </tr>\n",
       "  </tbody>\n",
       "</table>\n",
       "<p>937 rows × 5 columns</p>\n",
       "</div>"
      ],
      "text/plain": [
       "      transactionId   visitorId       date  revenue group\n",
       "0        3667963787  3312258926 2019-08-15     30.4     B\n",
       "1        2804400009  3642806036 2019-08-15     15.2     B\n",
       "3        3797467345  1196621759 2019-08-15    155.1     B\n",
       "4        2282983706  2322279887 2019-08-15     40.5     B\n",
       "5         182168103   935554773 2019-08-15     35.0     B\n",
       "...             ...         ...        ...      ...   ...\n",
       "1191     3592955527   608641596 2019-08-14    255.7     B\n",
       "1192     2662137336  3733762160 2019-08-14    100.8     B\n",
       "1193     2203539145   370388673 2019-08-14     50.1     A\n",
       "1194     1807773912   573423106 2019-08-14    165.3     A\n",
       "1196     3936777065  2108080724 2019-08-15   3120.1     B\n",
       "\n",
       "[937 rows x 5 columns]"
      ]
     },
     "execution_count": 97,
     "metadata": {},
     "output_type": "execute_result"
    }
   ],
   "source": [
    "orders_new"
   ]
  },
  {
   "cell_type": "code",
   "execution_count": 98,
   "metadata": {},
   "outputs": [],
   "source": [
    "# filtering the data so we'll get only orders with revenue less than 413 in A group\n",
    "orders_new_A = orders_new[(orders_new['group'] == 'A') & \n",
    "                          orders_new.groupby('transactionId')['revenue'].transform('sum').lt(413)]"
   ]
  },
  {
   "cell_type": "code",
   "execution_count": 99,
   "metadata": {},
   "outputs": [],
   "source": [
    "# filtering the data so we'll get only orders with revenue less than 445 in B group \n",
    "orders_new_B = orders_new[(orders_new['group'] == 'B') & \n",
    "                          orders_new.groupby('transactionId')['revenue'].transform('sum').lt(445)]"
   ]
  },
  {
   "cell_type": "code",
   "execution_count": 100,
   "metadata": {},
   "outputs": [],
   "source": [
    "# concatinate the data so we'll get both A and B group in df \n",
    "new_data = pd.concat([orders_new_A, orders_new_B]).reset_index()"
   ]
  },
  {
   "cell_type": "code",
   "execution_count": 101,
   "metadata": {
    "scrolled": true
   },
   "outputs": [],
   "source": [
    "# merging new data and visits df\n",
    "new_data_visits_merged = new_data.merge(visits, on=['date', 'group'])"
   ]
  },
  {
   "cell_type": "code",
   "execution_count": 102,
   "metadata": {
    "scrolled": false
   },
   "outputs": [
    {
     "data": {
      "text/html": [
       "<div>\n",
       "<style scoped>\n",
       "    .dataframe tbody tr th:only-of-type {\n",
       "        vertical-align: middle;\n",
       "    }\n",
       "\n",
       "    .dataframe tbody tr th {\n",
       "        vertical-align: top;\n",
       "    }\n",
       "\n",
       "    .dataframe thead th {\n",
       "        text-align: right;\n",
       "    }\n",
       "</style>\n",
       "<table border=\"1\" class=\"dataframe\">\n",
       "  <thead>\n",
       "    <tr style=\"text-align: right;\">\n",
       "      <th></th>\n",
       "      <th>index</th>\n",
       "      <th>transactionId</th>\n",
       "      <th>visitorId</th>\n",
       "      <th>date</th>\n",
       "      <th>revenue</th>\n",
       "      <th>group</th>\n",
       "      <th>visits</th>\n",
       "    </tr>\n",
       "  </thead>\n",
       "  <tbody>\n",
       "    <tr>\n",
       "      <th>0</th>\n",
       "      <td>7</td>\n",
       "      <td>2626614568</td>\n",
       "      <td>78758296</td>\n",
       "      <td>2019-08-15</td>\n",
       "      <td>20.1</td>\n",
       "      <td>A</td>\n",
       "      <td>628</td>\n",
       "    </tr>\n",
       "    <tr>\n",
       "      <th>1</th>\n",
       "      <td>8</td>\n",
       "      <td>1576988021</td>\n",
       "      <td>295230930</td>\n",
       "      <td>2019-08-15</td>\n",
       "      <td>215.9</td>\n",
       "      <td>A</td>\n",
       "      <td>628</td>\n",
       "    </tr>\n",
       "    <tr>\n",
       "      <th>2</th>\n",
       "      <td>10</td>\n",
       "      <td>3649131742</td>\n",
       "      <td>879864040</td>\n",
       "      <td>2019-08-15</td>\n",
       "      <td>65.7</td>\n",
       "      <td>A</td>\n",
       "      <td>628</td>\n",
       "    </tr>\n",
       "    <tr>\n",
       "      <th>3</th>\n",
       "      <td>12</td>\n",
       "      <td>2809384911</td>\n",
       "      <td>3213223594</td>\n",
       "      <td>2019-08-15</td>\n",
       "      <td>115.4</td>\n",
       "      <td>A</td>\n",
       "      <td>628</td>\n",
       "    </tr>\n",
       "    <tr>\n",
       "      <th>4</th>\n",
       "      <td>14</td>\n",
       "      <td>3859315276</td>\n",
       "      <td>1565034404</td>\n",
       "      <td>2019-08-15</td>\n",
       "      <td>170.9</td>\n",
       "      <td>A</td>\n",
       "      <td>628</td>\n",
       "    </tr>\n",
       "    <tr>\n",
       "      <th>...</th>\n",
       "      <td>...</td>\n",
       "      <td>...</td>\n",
       "      <td>...</td>\n",
       "      <td>...</td>\n",
       "      <td>...</td>\n",
       "      <td>...</td>\n",
       "      <td>...</td>\n",
       "    </tr>\n",
       "    <tr>\n",
       "      <th>886</th>\n",
       "      <td>1181</td>\n",
       "      <td>1303723408</td>\n",
       "      <td>3218863961</td>\n",
       "      <td>2019-08-14</td>\n",
       "      <td>390.5</td>\n",
       "      <td>B</td>\n",
       "      <td>746</td>\n",
       "    </tr>\n",
       "    <tr>\n",
       "      <th>887</th>\n",
       "      <td>1186</td>\n",
       "      <td>2116724386</td>\n",
       "      <td>2146711261</td>\n",
       "      <td>2019-08-14</td>\n",
       "      <td>240.6</td>\n",
       "      <td>B</td>\n",
       "      <td>746</td>\n",
       "    </tr>\n",
       "    <tr>\n",
       "      <th>888</th>\n",
       "      <td>1190</td>\n",
       "      <td>38478481</td>\n",
       "      <td>1197745035</td>\n",
       "      <td>2019-08-14</td>\n",
       "      <td>135.3</td>\n",
       "      <td>B</td>\n",
       "      <td>746</td>\n",
       "    </tr>\n",
       "    <tr>\n",
       "      <th>889</th>\n",
       "      <td>1191</td>\n",
       "      <td>3592955527</td>\n",
       "      <td>608641596</td>\n",
       "      <td>2019-08-14</td>\n",
       "      <td>255.7</td>\n",
       "      <td>B</td>\n",
       "      <td>746</td>\n",
       "    </tr>\n",
       "    <tr>\n",
       "      <th>890</th>\n",
       "      <td>1192</td>\n",
       "      <td>2662137336</td>\n",
       "      <td>3733762160</td>\n",
       "      <td>2019-08-14</td>\n",
       "      <td>100.8</td>\n",
       "      <td>B</td>\n",
       "      <td>746</td>\n",
       "    </tr>\n",
       "  </tbody>\n",
       "</table>\n",
       "<p>891 rows × 7 columns</p>\n",
       "</div>"
      ],
      "text/plain": [
       "     index  transactionId   visitorId       date  revenue group  visits\n",
       "0        7     2626614568    78758296 2019-08-15     20.1     A     628\n",
       "1        8     1576988021   295230930 2019-08-15    215.9     A     628\n",
       "2       10     3649131742   879864040 2019-08-15     65.7     A     628\n",
       "3       12     2809384911  3213223594 2019-08-15    115.4     A     628\n",
       "4       14     3859315276  1565034404 2019-08-15    170.9     A     628\n",
       "..     ...            ...         ...        ...      ...   ...     ...\n",
       "886   1181     1303723408  3218863961 2019-08-14    390.5     B     746\n",
       "887   1186     2116724386  2146711261 2019-08-14    240.6     B     746\n",
       "888   1190       38478481  1197745035 2019-08-14    135.3     B     746\n",
       "889   1191     3592955527   608641596 2019-08-14    255.7     B     746\n",
       "890   1192     2662137336  3733762160 2019-08-14    100.8     B     746\n",
       "\n",
       "[891 rows x 7 columns]"
      ]
     },
     "execution_count": 102,
     "metadata": {},
     "output_type": "execute_result"
    }
   ],
   "source": [
    "new_data_visits_merged"
   ]
  },
  {
   "cell_type": "code",
   "execution_count": 103,
   "metadata": {},
   "outputs": [],
   "source": [
    "# grouping new df in order to get unique visitors IDs by group and visits \n",
    "new_data_visits_merged = new_data_visits_merged.groupby(['group', 'visits', 'visitorId'], as_index=False).agg({'transactionId': pd.Series.nunique})"
   ]
  },
  {
   "cell_type": "code",
   "execution_count": 104,
   "metadata": {
    "scrolled": false
   },
   "outputs": [
    {
     "data": {
      "text/html": [
       "<div>\n",
       "<style scoped>\n",
       "    .dataframe tbody tr th:only-of-type {\n",
       "        vertical-align: middle;\n",
       "    }\n",
       "\n",
       "    .dataframe tbody tr th {\n",
       "        vertical-align: top;\n",
       "    }\n",
       "\n",
       "    .dataframe thead th {\n",
       "        text-align: right;\n",
       "    }\n",
       "</style>\n",
       "<table border=\"1\" class=\"dataframe\">\n",
       "  <thead>\n",
       "    <tr style=\"text-align: right;\">\n",
       "      <th></th>\n",
       "      <th>group</th>\n",
       "      <th>visits</th>\n",
       "      <th>visitorId</th>\n",
       "      <th>transactionId</th>\n",
       "    </tr>\n",
       "  </thead>\n",
       "  <tbody>\n",
       "    <tr>\n",
       "      <th>0</th>\n",
       "      <td>A</td>\n",
       "      <td>361</td>\n",
       "      <td>343208965</td>\n",
       "      <td>1</td>\n",
       "    </tr>\n",
       "    <tr>\n",
       "      <th>1</th>\n",
       "      <td>A</td>\n",
       "      <td>361</td>\n",
       "      <td>1110543778</td>\n",
       "      <td>1</td>\n",
       "    </tr>\n",
       "    <tr>\n",
       "      <th>2</th>\n",
       "      <td>A</td>\n",
       "      <td>361</td>\n",
       "      <td>1460891116</td>\n",
       "      <td>1</td>\n",
       "    </tr>\n",
       "    <tr>\n",
       "      <th>3</th>\n",
       "      <td>A</td>\n",
       "      <td>361</td>\n",
       "      <td>1471496742</td>\n",
       "      <td>1</td>\n",
       "    </tr>\n",
       "    <tr>\n",
       "      <th>4</th>\n",
       "      <td>A</td>\n",
       "      <td>361</td>\n",
       "      <td>1722579998</td>\n",
       "      <td>1</td>\n",
       "    </tr>\n",
       "    <tr>\n",
       "      <th>...</th>\n",
       "      <td>...</td>\n",
       "      <td>...</td>\n",
       "      <td>...</td>\n",
       "      <td>...</td>\n",
       "    </tr>\n",
       "    <tr>\n",
       "      <th>886</th>\n",
       "      <td>B</td>\n",
       "      <td>770</td>\n",
       "      <td>2370420350</td>\n",
       "      <td>1</td>\n",
       "    </tr>\n",
       "    <tr>\n",
       "      <th>887</th>\n",
       "      <td>B</td>\n",
       "      <td>770</td>\n",
       "      <td>2461709734</td>\n",
       "      <td>1</td>\n",
       "    </tr>\n",
       "    <tr>\n",
       "      <th>888</th>\n",
       "      <td>B</td>\n",
       "      <td>770</td>\n",
       "      <td>3636663279</td>\n",
       "      <td>1</td>\n",
       "    </tr>\n",
       "    <tr>\n",
       "      <th>889</th>\n",
       "      <td>B</td>\n",
       "      <td>770</td>\n",
       "      <td>4251087345</td>\n",
       "      <td>1</td>\n",
       "    </tr>\n",
       "    <tr>\n",
       "      <th>890</th>\n",
       "      <td>B</td>\n",
       "      <td>770</td>\n",
       "      <td>4279090005</td>\n",
       "      <td>1</td>\n",
       "    </tr>\n",
       "  </tbody>\n",
       "</table>\n",
       "<p>891 rows × 4 columns</p>\n",
       "</div>"
      ],
      "text/plain": [
       "    group  visits   visitorId  transactionId\n",
       "0       A     361   343208965              1\n",
       "1       A     361  1110543778              1\n",
       "2       A     361  1460891116              1\n",
       "3       A     361  1471496742              1\n",
       "4       A     361  1722579998              1\n",
       "..    ...     ...         ...            ...\n",
       "886     B     770  2370420350              1\n",
       "887     B     770  2461709734              1\n",
       "888     B     770  3636663279              1\n",
       "889     B     770  4251087345              1\n",
       "890     B     770  4279090005              1\n",
       "\n",
       "[891 rows x 4 columns]"
      ]
     },
     "execution_count": 104,
     "metadata": {},
     "output_type": "execute_result"
    }
   ],
   "source": [
    "new_data_visits_merged"
   ]
  },
  {
   "cell_type": "code",
   "execution_count": 105,
   "metadata": {},
   "outputs": [
    {
     "data": {
      "text/html": [
       "<div>\n",
       "<style scoped>\n",
       "    .dataframe tbody tr th:only-of-type {\n",
       "        vertical-align: middle;\n",
       "    }\n",
       "\n",
       "    .dataframe tbody tr th {\n",
       "        vertical-align: top;\n",
       "    }\n",
       "\n",
       "    .dataframe thead th {\n",
       "        text-align: right;\n",
       "    }\n",
       "</style>\n",
       "<table border=\"1\" class=\"dataframe\">\n",
       "  <thead>\n",
       "    <tr style=\"text-align: right;\">\n",
       "      <th></th>\n",
       "      <th>group</th>\n",
       "      <th>visits</th>\n",
       "      <th>visitorId</th>\n",
       "    </tr>\n",
       "  </thead>\n",
       "  <tbody>\n",
       "    <tr>\n",
       "      <th>0</th>\n",
       "      <td>A</td>\n",
       "      <td>361</td>\n",
       "      <td>17</td>\n",
       "    </tr>\n",
       "    <tr>\n",
       "      <th>1</th>\n",
       "      <td>A</td>\n",
       "      <td>395</td>\n",
       "      <td>12</td>\n",
       "    </tr>\n",
       "    <tr>\n",
       "      <th>2</th>\n",
       "      <td>A</td>\n",
       "      <td>406</td>\n",
       "      <td>13</td>\n",
       "    </tr>\n",
       "    <tr>\n",
       "      <th>3</th>\n",
       "      <td>A</td>\n",
       "      <td>412</td>\n",
       "      <td>4</td>\n",
       "    </tr>\n",
       "    <tr>\n",
       "      <th>4</th>\n",
       "      <td>A</td>\n",
       "      <td>468</td>\n",
       "      <td>20</td>\n",
       "    </tr>\n",
       "    <tr>\n",
       "      <th>...</th>\n",
       "      <td>...</td>\n",
       "      <td>...</td>\n",
       "      <td>...</td>\n",
       "    </tr>\n",
       "    <tr>\n",
       "      <th>56</th>\n",
       "      <td>B</td>\n",
       "      <td>721</td>\n",
       "      <td>11</td>\n",
       "    </tr>\n",
       "    <tr>\n",
       "      <th>57</th>\n",
       "      <td>B</td>\n",
       "      <td>737</td>\n",
       "      <td>7</td>\n",
       "    </tr>\n",
       "    <tr>\n",
       "      <th>58</th>\n",
       "      <td>B</td>\n",
       "      <td>746</td>\n",
       "      <td>13</td>\n",
       "    </tr>\n",
       "    <tr>\n",
       "      <th>59</th>\n",
       "      <td>B</td>\n",
       "      <td>769</td>\n",
       "      <td>18</td>\n",
       "    </tr>\n",
       "    <tr>\n",
       "      <th>60</th>\n",
       "      <td>B</td>\n",
       "      <td>770</td>\n",
       "      <td>11</td>\n",
       "    </tr>\n",
       "  </tbody>\n",
       "</table>\n",
       "<p>61 rows × 3 columns</p>\n",
       "</div>"
      ],
      "text/plain": [
       "   group  visits  visitorId\n",
       "0      A     361         17\n",
       "1      A     395         12\n",
       "2      A     406         13\n",
       "3      A     412          4\n",
       "4      A     468         20\n",
       "..   ...     ...        ...\n",
       "56     B     721         11\n",
       "57     B     737          7\n",
       "58     B     746         13\n",
       "59     B     769         18\n",
       "60     B     770         11\n",
       "\n",
       "[61 rows x 3 columns]"
      ]
     },
     "execution_count": 105,
     "metadata": {},
     "output_type": "execute_result"
    }
   ],
   "source": [
    "# aggregating df by number of unique visitors in order to find conversion rate \n",
    "new_data_visits_merged = new_data_visits_merged.groupby(['group','visits']).agg({'visitorId':'nunique'}).reset_index()\n",
    "new_data_visits_merged"
   ]
  },
  {
   "cell_type": "code",
   "execution_count": 106,
   "metadata": {},
   "outputs": [],
   "source": [
    "# slicing the df by group\n",
    "new_orders_visits_merged_A = new_data_visits_merged[new_data_visits_merged['group']=='A']\n",
    "new_orders_visits_merged_B = new_data_visits_merged[new_data_visits_merged['group']=='B']"
   ]
  },
  {
   "cell_type": "code",
   "execution_count": 107,
   "metadata": {
    "scrolled": true
   },
   "outputs": [
    {
     "data": {
      "text/html": [
       "<div>\n",
       "<style scoped>\n",
       "    .dataframe tbody tr th:only-of-type {\n",
       "        vertical-align: middle;\n",
       "    }\n",
       "\n",
       "    .dataframe tbody tr th {\n",
       "        vertical-align: top;\n",
       "    }\n",
       "\n",
       "    .dataframe thead th {\n",
       "        text-align: right;\n",
       "    }\n",
       "</style>\n",
       "<table border=\"1\" class=\"dataframe\">\n",
       "  <thead>\n",
       "    <tr style=\"text-align: right;\">\n",
       "      <th></th>\n",
       "      <th>group</th>\n",
       "      <th>visits</th>\n",
       "      <th>visitorId</th>\n",
       "    </tr>\n",
       "  </thead>\n",
       "  <tbody>\n",
       "    <tr>\n",
       "      <th>0</th>\n",
       "      <td>A</td>\n",
       "      <td>361</td>\n",
       "      <td>17</td>\n",
       "    </tr>\n",
       "    <tr>\n",
       "      <th>1</th>\n",
       "      <td>A</td>\n",
       "      <td>395</td>\n",
       "      <td>12</td>\n",
       "    </tr>\n",
       "    <tr>\n",
       "      <th>2</th>\n",
       "      <td>A</td>\n",
       "      <td>406</td>\n",
       "      <td>13</td>\n",
       "    </tr>\n",
       "    <tr>\n",
       "      <th>3</th>\n",
       "      <td>A</td>\n",
       "      <td>412</td>\n",
       "      <td>4</td>\n",
       "    </tr>\n",
       "    <tr>\n",
       "      <th>4</th>\n",
       "      <td>A</td>\n",
       "      <td>468</td>\n",
       "      <td>20</td>\n",
       "    </tr>\n",
       "  </tbody>\n",
       "</table>\n",
       "</div>"
      ],
      "text/plain": [
       "  group  visits  visitorId\n",
       "0     A     361         17\n",
       "1     A     395         12\n",
       "2     A     406         13\n",
       "3     A     412          4\n",
       "4     A     468         20"
      ]
     },
     "execution_count": 107,
     "metadata": {},
     "output_type": "execute_result"
    }
   ],
   "source": [
    "new_orders_visits_merged_A.head()"
   ]
  },
  {
   "cell_type": "code",
   "execution_count": 108,
   "metadata": {},
   "outputs": [
    {
     "data": {
      "text/html": [
       "<div>\n",
       "<style scoped>\n",
       "    .dataframe tbody tr th:only-of-type {\n",
       "        vertical-align: middle;\n",
       "    }\n",
       "\n",
       "    .dataframe tbody tr th {\n",
       "        vertical-align: top;\n",
       "    }\n",
       "\n",
       "    .dataframe thead th {\n",
       "        text-align: right;\n",
       "    }\n",
       "</style>\n",
       "<table border=\"1\" class=\"dataframe\">\n",
       "  <thead>\n",
       "    <tr style=\"text-align: right;\">\n",
       "      <th></th>\n",
       "      <th>group</th>\n",
       "      <th>visits</th>\n",
       "      <th>visitorId</th>\n",
       "    </tr>\n",
       "  </thead>\n",
       "  <tbody>\n",
       "    <tr>\n",
       "      <th>31</th>\n",
       "      <td>B</td>\n",
       "      <td>369</td>\n",
       "      <td>21</td>\n",
       "    </tr>\n",
       "    <tr>\n",
       "      <th>32</th>\n",
       "      <td>B</td>\n",
       "      <td>378</td>\n",
       "      <td>12</td>\n",
       "    </tr>\n",
       "    <tr>\n",
       "      <th>33</th>\n",
       "      <td>B</td>\n",
       "      <td>413</td>\n",
       "      <td>15</td>\n",
       "    </tr>\n",
       "    <tr>\n",
       "      <th>34</th>\n",
       "      <td>B</td>\n",
       "      <td>421</td>\n",
       "      <td>11</td>\n",
       "    </tr>\n",
       "    <tr>\n",
       "      <th>35</th>\n",
       "      <td>B</td>\n",
       "      <td>487</td>\n",
       "      <td>16</td>\n",
       "    </tr>\n",
       "  </tbody>\n",
       "</table>\n",
       "</div>"
      ],
      "text/plain": [
       "   group  visits  visitorId\n",
       "31     B     369         21\n",
       "32     B     378         12\n",
       "33     B     413         15\n",
       "34     B     421         11\n",
       "35     B     487         16"
      ]
     },
     "execution_count": 108,
     "metadata": {},
     "output_type": "execute_result"
    }
   ],
   "source": [
    "new_orders_visits_merged_B.head()"
   ]
  },
  {
   "cell_type": "code",
   "execution_count": 109,
   "metadata": {},
   "outputs": [
    {
     "name": "stdout",
     "output_type": "stream",
     "text": [
      "Control group trials: 18736\n",
      "Control group successes: 406\n"
     ]
    }
   ],
   "source": [
    "# Calculating the total number of trials (visits) in the control group (Group A)\n",
    "A_trials_new = new_orders_visits_merged_A['visits'].sum()\n",
    "print(\"Control group trials:\", A_trials_new)\n",
    "\n",
    "# Calculating the total number of successes (number of user IDs that placed an order) in the control group (Group A)\n",
    "A_successes_new = new_orders_visits_merged_A['visitorId'].sum()\n",
    "print(\"Control group successes:\", A_successes_new)"
   ]
  },
  {
   "cell_type": "code",
   "execution_count": 110,
   "metadata": {},
   "outputs": [
    {
     "name": "stdout",
     "output_type": "stream",
     "text": [
      "Control group trials: 18262\n",
      "Control group successes: 485\n"
     ]
    }
   ],
   "source": [
    "# Calculating the total number of trials (visits) in the test group (Group B)\n",
    "B_trials_new = new_orders_visits_merged_B['visits'].sum()\n",
    "print(\"Control group trials:\", B_trials_new)\n",
    "\n",
    "# Calculating the total number of successes (number of user IDs that placed an order) in the test group (Group B)\n",
    "B_successes_new = new_orders_visits_merged_B['visitorId'].sum()\n",
    "print(\"Control group successes:\", B_successes_new)"
   ]
  },
  {
   "cell_type": "markdown",
   "metadata": {},
   "source": [
    "In this statistical test we also test statistical significance of the difference in conversion as we did on raw data but now the data is filtered so the result might be a bit different.\n",
    "\n",
    "As a parameters we will assign count of visits and count of orders by control and test groups. That is the actual proportions in the populations we're comparing (In this order: orders population A, visits population A, orders population B, visits population B). In the test we will get z-value that is the number of standard deviations a data point is from the mean of a dataset. If z-value is zero that mean that proportions were equal. If z-value is positive that indicates that the data point is above the mean. A negative z-value indicates that it's below the mean. But our goal is to test H0 or H1 hypotheses based on p-value (statistical difference of our proportions or in our case difference in conversions of control and test groups).\n",
    "\n",
    "About hypotheses we test:\n",
    "\n",
    "* H0 hypothesis (p-value greater than significance level) in our case mean that there is no statistical difference between proportions (between conversion rates of A and B groups).\n",
    "\n",
    "* H1 hypothesis (p-value less than significance level) or in other words alternative hypothesis in our case mean that there is significant difference between proportions (between conversion rates of A and B groups).\n",
    "\n",
    "In our A/B testing, we are interested in rejecting the null hypothesis (H0) in favor of the alternative hypothesis (H1) if we observe a statistically significant difference between the groups. This would indicate that the change introduced in the experimental group has had a measurable impact."
   ]
  },
  {
   "cell_type": "code",
   "execution_count": 111,
   "metadata": {
    "scrolled": true
   },
   "outputs": [
    {
     "name": "stdout",
     "output_type": "stream",
     "text": [
      "z-value:  -3.0664150484060864\n",
      "p-value:  0.0021664236016099014\n",
      "Reject H0. There is a significant difference between the proportions\n"
     ]
    }
   ],
   "source": [
    "# Testing the Hypothesis that Proportions Are Equal as we did it on raw data\n",
    "# If p_value less then significance level that means that there is strong evidence against the H0 hypothesis.\n",
    "# And we confirm H1 hypothesis that mean that there is significant difference between groups. \n",
    "# Else (p value greater than significance level) we can not reject H0 hypothesis and we don't have evidence in significant difference.\n",
    "check_hypothesis(A_successes_new, A_trials_new, B_successes_new, B_trials_new, alpha=0.05)"
   ]
  },
  {
   "cell_type": "markdown",
   "metadata": {},
   "source": [
    "In the filtered data, we also observe a significant difference between the proportions and we see that z-value is a bit lower that in raw data."
   ]
  },
  {
   "cell_type": "markdown",
   "metadata": {},
   "source": [
    "### Statistical significance of the difference in average order size between the groups using the filtered data."
   ]
  },
  {
   "cell_type": "code",
   "execution_count": 112,
   "metadata": {
    "scrolled": true
   },
   "outputs": [
    {
     "data": {
      "text/html": [
       "<div>\n",
       "<style scoped>\n",
       "    .dataframe tbody tr th:only-of-type {\n",
       "        vertical-align: middle;\n",
       "    }\n",
       "\n",
       "    .dataframe tbody tr th {\n",
       "        vertical-align: top;\n",
       "    }\n",
       "\n",
       "    .dataframe thead th {\n",
       "        text-align: right;\n",
       "    }\n",
       "</style>\n",
       "<table border=\"1\" class=\"dataframe\">\n",
       "  <thead>\n",
       "    <tr style=\"text-align: right;\">\n",
       "      <th></th>\n",
       "      <th>index</th>\n",
       "      <th>transactionId</th>\n",
       "      <th>visitorId</th>\n",
       "      <th>date</th>\n",
       "      <th>revenue</th>\n",
       "      <th>group</th>\n",
       "    </tr>\n",
       "  </thead>\n",
       "  <tbody>\n",
       "    <tr>\n",
       "      <th>0</th>\n",
       "      <td>7</td>\n",
       "      <td>2626614568</td>\n",
       "      <td>78758296</td>\n",
       "      <td>2019-08-15</td>\n",
       "      <td>20.1</td>\n",
       "      <td>A</td>\n",
       "    </tr>\n",
       "    <tr>\n",
       "      <th>1</th>\n",
       "      <td>8</td>\n",
       "      <td>1576988021</td>\n",
       "      <td>295230930</td>\n",
       "      <td>2019-08-15</td>\n",
       "      <td>215.9</td>\n",
       "      <td>A</td>\n",
       "    </tr>\n",
       "    <tr>\n",
       "      <th>2</th>\n",
       "      <td>10</td>\n",
       "      <td>3649131742</td>\n",
       "      <td>879864040</td>\n",
       "      <td>2019-08-15</td>\n",
       "      <td>65.7</td>\n",
       "      <td>A</td>\n",
       "    </tr>\n",
       "    <tr>\n",
       "      <th>3</th>\n",
       "      <td>12</td>\n",
       "      <td>2809384911</td>\n",
       "      <td>3213223594</td>\n",
       "      <td>2019-08-15</td>\n",
       "      <td>115.4</td>\n",
       "      <td>A</td>\n",
       "    </tr>\n",
       "    <tr>\n",
       "      <th>4</th>\n",
       "      <td>14</td>\n",
       "      <td>3859315276</td>\n",
       "      <td>1565034404</td>\n",
       "      <td>2019-08-15</td>\n",
       "      <td>170.9</td>\n",
       "      <td>A</td>\n",
       "    </tr>\n",
       "  </tbody>\n",
       "</table>\n",
       "</div>"
      ],
      "text/plain": [
       "   index  transactionId   visitorId       date  revenue group\n",
       "0      7     2626614568    78758296 2019-08-15     20.1     A\n",
       "1      8     1576988021   295230930 2019-08-15    215.9     A\n",
       "2     10     3649131742   879864040 2019-08-15     65.7     A\n",
       "3     12     2809384911  3213223594 2019-08-15    115.4     A\n",
       "4     14     3859315276  1565034404 2019-08-15    170.9     A"
      ]
     },
     "execution_count": 112,
     "metadata": {},
     "output_type": "execute_result"
    }
   ],
   "source": [
    "new_data.head()"
   ]
  },
  {
   "cell_type": "code",
   "execution_count": 113,
   "metadata": {},
   "outputs": [],
   "source": [
    "# slicing the df by groups \n",
    "orders_A_new = new_data[new_data['group'] == 'A']\n",
    "orders_B_new = new_data[new_data['group'] == 'B']"
   ]
  },
  {
   "cell_type": "code",
   "execution_count": 114,
   "metadata": {},
   "outputs": [],
   "source": [
    "# aggregating the df by count of transactions and sum of revenue in order to calculate average order size \n",
    "orders_A_daily_new = orders_A_new.groupby('date').agg({'transactionId':'count','revenue':'sum'}).reset_index()\n",
    "orders_B_daily_new = orders_B_new.groupby('date').agg({'transactionId':'count','revenue':'sum'}).reset_index()"
   ]
  },
  {
   "cell_type": "code",
   "execution_count": 115,
   "metadata": {},
   "outputs": [],
   "source": [
    "# calculating daily average order size by group\n",
    "orders_A_daily_new['avg_order_size_A'] = orders_A_daily_new['revenue'] / orders_A_daily_new['transactionId']\n",
    "orders_B_daily_new['avg_order_size_B'] = orders_B_daily_new['revenue'] / orders_B_daily_new['transactionId']"
   ]
  },
  {
   "cell_type": "code",
   "execution_count": 116,
   "metadata": {},
   "outputs": [],
   "source": [
    "# merging two dfs\n",
    "orders_AB_daily_new = orders_A_daily_new.merge(orders_B_daily_new, on='date', suffixes=('_a', '_b'))"
   ]
  },
  {
   "cell_type": "code",
   "execution_count": 117,
   "metadata": {},
   "outputs": [
    {
     "data": {
      "text/html": [
       "<div>\n",
       "<style scoped>\n",
       "    .dataframe tbody tr th:only-of-type {\n",
       "        vertical-align: middle;\n",
       "    }\n",
       "\n",
       "    .dataframe tbody tr th {\n",
       "        vertical-align: top;\n",
       "    }\n",
       "\n",
       "    .dataframe thead th {\n",
       "        text-align: right;\n",
       "    }\n",
       "</style>\n",
       "<table border=\"1\" class=\"dataframe\">\n",
       "  <thead>\n",
       "    <tr style=\"text-align: right;\">\n",
       "      <th></th>\n",
       "      <th>date</th>\n",
       "      <th>transactionId_a</th>\n",
       "      <th>revenue_a</th>\n",
       "      <th>avg_order_size_A</th>\n",
       "      <th>transactionId_b</th>\n",
       "      <th>revenue_b</th>\n",
       "      <th>avg_order_size_B</th>\n",
       "    </tr>\n",
       "  </thead>\n",
       "  <tbody>\n",
       "    <tr>\n",
       "      <th>0</th>\n",
       "      <td>2019-08-01</td>\n",
       "      <td>13</td>\n",
       "      <td>531.3</td>\n",
       "      <td>40.869231</td>\n",
       "      <td>17</td>\n",
       "      <td>967.2</td>\n",
       "      <td>56.894118</td>\n",
       "    </tr>\n",
       "    <tr>\n",
       "      <th>1</th>\n",
       "      <td>2019-08-02</td>\n",
       "      <td>15</td>\n",
       "      <td>762.2</td>\n",
       "      <td>50.813333</td>\n",
       "      <td>18</td>\n",
       "      <td>1366.7</td>\n",
       "      <td>75.927778</td>\n",
       "    </tr>\n",
       "    <tr>\n",
       "      <th>2</th>\n",
       "      <td>2019-08-03</td>\n",
       "      <td>24</td>\n",
       "      <td>1815.2</td>\n",
       "      <td>75.633333</td>\n",
       "      <td>14</td>\n",
       "      <td>1071.6</td>\n",
       "      <td>76.542857</td>\n",
       "    </tr>\n",
       "    <tr>\n",
       "      <th>3</th>\n",
       "      <td>2019-08-04</td>\n",
       "      <td>10</td>\n",
       "      <td>669.8</td>\n",
       "      <td>66.980000</td>\n",
       "      <td>11</td>\n",
       "      <td>845.6</td>\n",
       "      <td>76.872727</td>\n",
       "    </tr>\n",
       "    <tr>\n",
       "      <th>4</th>\n",
       "      <td>2019-08-05</td>\n",
       "      <td>20</td>\n",
       "      <td>1287.5</td>\n",
       "      <td>64.375000</td>\n",
       "      <td>21</td>\n",
       "      <td>1449.3</td>\n",
       "      <td>69.014286</td>\n",
       "    </tr>\n",
       "    <tr>\n",
       "      <th>5</th>\n",
       "      <td>2019-08-06</td>\n",
       "      <td>8</td>\n",
       "      <td>394.8</td>\n",
       "      <td>49.350000</td>\n",
       "      <td>19</td>\n",
       "      <td>2151.5</td>\n",
       "      <td>113.236842</td>\n",
       "    </tr>\n",
       "    <tr>\n",
       "      <th>6</th>\n",
       "      <td>2019-08-07</td>\n",
       "      <td>14</td>\n",
       "      <td>925.9</td>\n",
       "      <td>66.135714</td>\n",
       "      <td>20</td>\n",
       "      <td>1614.0</td>\n",
       "      <td>80.700000</td>\n",
       "    </tr>\n",
       "    <tr>\n",
       "      <th>7</th>\n",
       "      <td>2019-08-08</td>\n",
       "      <td>13</td>\n",
       "      <td>1389.2</td>\n",
       "      <td>106.861538</td>\n",
       "      <td>20</td>\n",
       "      <td>1358.7</td>\n",
       "      <td>67.935000</td>\n",
       "    </tr>\n",
       "    <tr>\n",
       "      <th>8</th>\n",
       "      <td>2019-08-09</td>\n",
       "      <td>9</td>\n",
       "      <td>1034.3</td>\n",
       "      <td>114.922222</td>\n",
       "      <td>18</td>\n",
       "      <td>1600.9</td>\n",
       "      <td>88.938889</td>\n",
       "    </tr>\n",
       "    <tr>\n",
       "      <th>9</th>\n",
       "      <td>2019-08-10</td>\n",
       "      <td>13</td>\n",
       "      <td>1031.4</td>\n",
       "      <td>79.338462</td>\n",
       "      <td>21</td>\n",
       "      <td>1229.5</td>\n",
       "      <td>58.547619</td>\n",
       "    </tr>\n",
       "    <tr>\n",
       "      <th>10</th>\n",
       "      <td>2019-08-11</td>\n",
       "      <td>11</td>\n",
       "      <td>963.4</td>\n",
       "      <td>87.581818</td>\n",
       "      <td>11</td>\n",
       "      <td>824.9</td>\n",
       "      <td>74.990909</td>\n",
       "    </tr>\n",
       "    <tr>\n",
       "      <th>11</th>\n",
       "      <td>2019-08-12</td>\n",
       "      <td>16</td>\n",
       "      <td>1376.7</td>\n",
       "      <td>86.043750</td>\n",
       "      <td>16</td>\n",
       "      <td>821.2</td>\n",
       "      <td>51.325000</td>\n",
       "    </tr>\n",
       "    <tr>\n",
       "      <th>12</th>\n",
       "      <td>2019-08-13</td>\n",
       "      <td>11</td>\n",
       "      <td>1425.0</td>\n",
       "      <td>129.545455</td>\n",
       "      <td>18</td>\n",
       "      <td>1043.2</td>\n",
       "      <td>57.955556</td>\n",
       "    </tr>\n",
       "    <tr>\n",
       "      <th>13</th>\n",
       "      <td>2019-08-14</td>\n",
       "      <td>17</td>\n",
       "      <td>716.6</td>\n",
       "      <td>42.152941</td>\n",
       "      <td>13</td>\n",
       "      <td>1637.0</td>\n",
       "      <td>125.923077</td>\n",
       "    </tr>\n",
       "    <tr>\n",
       "      <th>14</th>\n",
       "      <td>2019-08-15</td>\n",
       "      <td>10</td>\n",
       "      <td>1275.3</td>\n",
       "      <td>127.530000</td>\n",
       "      <td>24</td>\n",
       "      <td>1494.4</td>\n",
       "      <td>62.266667</td>\n",
       "    </tr>\n",
       "    <tr>\n",
       "      <th>15</th>\n",
       "      <td>2019-08-16</td>\n",
       "      <td>17</td>\n",
       "      <td>1098.4</td>\n",
       "      <td>64.611765</td>\n",
       "      <td>15</td>\n",
       "      <td>1080.7</td>\n",
       "      <td>72.046667</td>\n",
       "    </tr>\n",
       "    <tr>\n",
       "      <th>16</th>\n",
       "      <td>2019-08-17</td>\n",
       "      <td>4</td>\n",
       "      <td>502.9</td>\n",
       "      <td>125.725000</td>\n",
       "      <td>11</td>\n",
       "      <td>1040.3</td>\n",
       "      <td>94.572727</td>\n",
       "    </tr>\n",
       "    <tr>\n",
       "      <th>17</th>\n",
       "      <td>2019-08-18</td>\n",
       "      <td>13</td>\n",
       "      <td>965.6</td>\n",
       "      <td>74.276923</td>\n",
       "      <td>7</td>\n",
       "      <td>568.5</td>\n",
       "      <td>81.214286</td>\n",
       "    </tr>\n",
       "    <tr>\n",
       "      <th>18</th>\n",
       "      <td>2019-08-19</td>\n",
       "      <td>17</td>\n",
       "      <td>1431.0</td>\n",
       "      <td>84.176471</td>\n",
       "      <td>16</td>\n",
       "      <td>1477.5</td>\n",
       "      <td>92.343750</td>\n",
       "    </tr>\n",
       "    <tr>\n",
       "      <th>19</th>\n",
       "      <td>2019-08-20</td>\n",
       "      <td>10</td>\n",
       "      <td>936.0</td>\n",
       "      <td>93.600000</td>\n",
       "      <td>17</td>\n",
       "      <td>1638.6</td>\n",
       "      <td>96.388235</td>\n",
       "    </tr>\n",
       "    <tr>\n",
       "      <th>20</th>\n",
       "      <td>2019-08-21</td>\n",
       "      <td>16</td>\n",
       "      <td>1377.8</td>\n",
       "      <td>86.112500</td>\n",
       "      <td>9</td>\n",
       "      <td>1484.2</td>\n",
       "      <td>164.911111</td>\n",
       "    </tr>\n",
       "    <tr>\n",
       "      <th>21</th>\n",
       "      <td>2019-08-22</td>\n",
       "      <td>9</td>\n",
       "      <td>620.6</td>\n",
       "      <td>68.955556</td>\n",
       "      <td>18</td>\n",
       "      <td>1872.5</td>\n",
       "      <td>104.027778</td>\n",
       "    </tr>\n",
       "    <tr>\n",
       "      <th>22</th>\n",
       "      <td>2019-08-23</td>\n",
       "      <td>20</td>\n",
       "      <td>954.1</td>\n",
       "      <td>47.705000</td>\n",
       "      <td>11</td>\n",
       "      <td>688.3</td>\n",
       "      <td>62.572727</td>\n",
       "    </tr>\n",
       "    <tr>\n",
       "      <th>23</th>\n",
       "      <td>2019-08-24</td>\n",
       "      <td>12</td>\n",
       "      <td>1081.8</td>\n",
       "      <td>90.150000</td>\n",
       "      <td>12</td>\n",
       "      <td>1329.7</td>\n",
       "      <td>110.808333</td>\n",
       "    </tr>\n",
       "    <tr>\n",
       "      <th>24</th>\n",
       "      <td>2019-08-25</td>\n",
       "      <td>7</td>\n",
       "      <td>478.1</td>\n",
       "      <td>68.300000</td>\n",
       "      <td>11</td>\n",
       "      <td>614.6</td>\n",
       "      <td>55.872727</td>\n",
       "    </tr>\n",
       "    <tr>\n",
       "      <th>25</th>\n",
       "      <td>2019-08-26</td>\n",
       "      <td>13</td>\n",
       "      <td>1249.1</td>\n",
       "      <td>96.084615</td>\n",
       "      <td>19</td>\n",
       "      <td>1962.4</td>\n",
       "      <td>103.284211</td>\n",
       "    </tr>\n",
       "    <tr>\n",
       "      <th>26</th>\n",
       "      <td>2019-08-27</td>\n",
       "      <td>21</td>\n",
       "      <td>2043.8</td>\n",
       "      <td>97.323810</td>\n",
       "      <td>9</td>\n",
       "      <td>135.6</td>\n",
       "      <td>15.066667</td>\n",
       "    </tr>\n",
       "    <tr>\n",
       "      <th>27</th>\n",
       "      <td>2019-08-28</td>\n",
       "      <td>13</td>\n",
       "      <td>1211.4</td>\n",
       "      <td>93.184615</td>\n",
       "      <td>20</td>\n",
       "      <td>950.0</td>\n",
       "      <td>47.500000</td>\n",
       "    </tr>\n",
       "    <tr>\n",
       "      <th>28</th>\n",
       "      <td>2019-08-29</td>\n",
       "      <td>15</td>\n",
       "      <td>1857.5</td>\n",
       "      <td>123.833333</td>\n",
       "      <td>14</td>\n",
       "      <td>1651.1</td>\n",
       "      <td>117.935714</td>\n",
       "    </tr>\n",
       "    <tr>\n",
       "      <th>29</th>\n",
       "      <td>2019-08-30</td>\n",
       "      <td>7</td>\n",
       "      <td>528.2</td>\n",
       "      <td>75.457143</td>\n",
       "      <td>18</td>\n",
       "      <td>1515.8</td>\n",
       "      <td>84.211111</td>\n",
       "    </tr>\n",
       "    <tr>\n",
       "      <th>30</th>\n",
       "      <td>2019-08-31</td>\n",
       "      <td>8</td>\n",
       "      <td>848.3</td>\n",
       "      <td>106.037500</td>\n",
       "      <td>17</td>\n",
       "      <td>1787.7</td>\n",
       "      <td>105.158824</td>\n",
       "    </tr>\n",
       "  </tbody>\n",
       "</table>\n",
       "</div>"
      ],
      "text/plain": [
       "         date  transactionId_a  revenue_a  avg_order_size_A  transactionId_b  \\\n",
       "0  2019-08-01               13      531.3         40.869231               17   \n",
       "1  2019-08-02               15      762.2         50.813333               18   \n",
       "2  2019-08-03               24     1815.2         75.633333               14   \n",
       "3  2019-08-04               10      669.8         66.980000               11   \n",
       "4  2019-08-05               20     1287.5         64.375000               21   \n",
       "5  2019-08-06                8      394.8         49.350000               19   \n",
       "6  2019-08-07               14      925.9         66.135714               20   \n",
       "7  2019-08-08               13     1389.2        106.861538               20   \n",
       "8  2019-08-09                9     1034.3        114.922222               18   \n",
       "9  2019-08-10               13     1031.4         79.338462               21   \n",
       "10 2019-08-11               11      963.4         87.581818               11   \n",
       "11 2019-08-12               16     1376.7         86.043750               16   \n",
       "12 2019-08-13               11     1425.0        129.545455               18   \n",
       "13 2019-08-14               17      716.6         42.152941               13   \n",
       "14 2019-08-15               10     1275.3        127.530000               24   \n",
       "15 2019-08-16               17     1098.4         64.611765               15   \n",
       "16 2019-08-17                4      502.9        125.725000               11   \n",
       "17 2019-08-18               13      965.6         74.276923                7   \n",
       "18 2019-08-19               17     1431.0         84.176471               16   \n",
       "19 2019-08-20               10      936.0         93.600000               17   \n",
       "20 2019-08-21               16     1377.8         86.112500                9   \n",
       "21 2019-08-22                9      620.6         68.955556               18   \n",
       "22 2019-08-23               20      954.1         47.705000               11   \n",
       "23 2019-08-24               12     1081.8         90.150000               12   \n",
       "24 2019-08-25                7      478.1         68.300000               11   \n",
       "25 2019-08-26               13     1249.1         96.084615               19   \n",
       "26 2019-08-27               21     2043.8         97.323810                9   \n",
       "27 2019-08-28               13     1211.4         93.184615               20   \n",
       "28 2019-08-29               15     1857.5        123.833333               14   \n",
       "29 2019-08-30                7      528.2         75.457143               18   \n",
       "30 2019-08-31                8      848.3        106.037500               17   \n",
       "\n",
       "    revenue_b  avg_order_size_B  \n",
       "0       967.2         56.894118  \n",
       "1      1366.7         75.927778  \n",
       "2      1071.6         76.542857  \n",
       "3       845.6         76.872727  \n",
       "4      1449.3         69.014286  \n",
       "5      2151.5        113.236842  \n",
       "6      1614.0         80.700000  \n",
       "7      1358.7         67.935000  \n",
       "8      1600.9         88.938889  \n",
       "9      1229.5         58.547619  \n",
       "10      824.9         74.990909  \n",
       "11      821.2         51.325000  \n",
       "12     1043.2         57.955556  \n",
       "13     1637.0        125.923077  \n",
       "14     1494.4         62.266667  \n",
       "15     1080.7         72.046667  \n",
       "16     1040.3         94.572727  \n",
       "17      568.5         81.214286  \n",
       "18     1477.5         92.343750  \n",
       "19     1638.6         96.388235  \n",
       "20     1484.2        164.911111  \n",
       "21     1872.5        104.027778  \n",
       "22      688.3         62.572727  \n",
       "23     1329.7        110.808333  \n",
       "24      614.6         55.872727  \n",
       "25     1962.4        103.284211  \n",
       "26      135.6         15.066667  \n",
       "27      950.0         47.500000  \n",
       "28     1651.1        117.935714  \n",
       "29     1515.8         84.211111  \n",
       "30     1787.7        105.158824  "
      ]
     },
     "execution_count": 117,
     "metadata": {},
     "output_type": "execute_result"
    }
   ],
   "source": [
    "orders_AB_daily_new"
   ]
  },
  {
   "cell_type": "code",
   "execution_count": 118,
   "metadata": {
    "scrolled": false
   },
   "outputs": [
    {
     "data": {
      "text/plain": [
       "<matplotlib.legend.Legend at 0x7f4719d88310>"
      ]
     },
     "execution_count": 118,
     "metadata": {},
     "output_type": "execute_result"
    },
    {
     "data": {
      "image/png": "[encoded data removed]",
      "text/plain": [
       "<Figure size 1500x600 with 1 Axes>"
      ]
     },
     "metadata": {},
     "output_type": "display_data"
    }
   ],
   "source": [
    "# building daily average order size by group line plot \n",
    "plt.plot(orders_AB_daily_new['date'], orders_AB_daily_new['avg_order_size_A'], label='Control group')\n",
    "plt.plot(orders_AB_daily_new['date'], orders_AB_daily_new['avg_order_size_B'], label='Test group')\n",
    "plt.title('Average Order Size by Group')\n",
    "plt.xlabel('Date')\n",
    "plt.ylabel('Order size')\n",
    "plt.legend()"
   ]
  },
  {
   "cell_type": "markdown",
   "metadata": {},
   "source": [
    "In this test we also should check both H0 and H1 (alternative) hypothesis as we did on raw data. And I remind that the test is differs from test where we found significant difference in conversion rate because in conversion rate we test significant difference of proportions and here we test the significant difference of distribution.  \n",
    "\n",
    "    1) H0 hypothesis. If the distribution of average order size by day in both groups will be the same so we'll confirm H0 hypothesis that mean that there are no significant diferense in average order size disttribution. How we will know that there is no significant diferense in distribution? p-value will be higher than significance level (0.05)\n",
    "    2) H1 hypothesis. If we'll found out the difference while comparing the distributions (p-value is lower than significance level) so we'll have evidence against H0 hypothesis in in favor of the alternative hypothesis (H1)\n",
    "    \n",
    "In this test we also interested in H1 hypothesis confirmation."
   ]
  },
  {
   "cell_type": "code",
   "execution_count": 119,
   "metadata": {
    "scrolled": true
   },
   "outputs": [
    {
     "name": "stdout",
     "output_type": "stream",
     "text": [
      "P-value is:  0.8557983331048568\n",
      "Fail to Reject H0. There is no reason to consider the distributions are different\n"
     ]
    }
   ],
   "source": [
    "# using function that we used on raw data that checks normality of distribution and if variances are equal\n",
    "# If p_value less then significance level that means that there is strong evidence against the H0 hypothesis.\n",
    "# And we confirm H1 hypothesis that mean that there is significant difference between groups. \n",
    "# Else (p value greater than significance level) we can not reject H0 hypothesis and we don't have evidence in significant difference.\n",
    "testing_average(orders_AB_daily_new['avg_order_size_A'], orders_AB_daily_new['avg_order_size_B'], alpha=0.05)"
   ]
  },
  {
   "cell_type": "markdown",
   "metadata": {},
   "source": [
    "Due to the test on new data we also can't say that there is statistical significance of the difference in average order size beacause possibility that the users come from the same population even higher than in raw data."
   ]
  },
  {
   "cell_type": "markdown",
   "metadata": {},
   "source": [
    "# Conclusion"
   ]
  },
  {
   "cell_type": "markdown",
   "metadata": {},
   "source": [
    "After a comprehensive analysis of the A/B testing results and the insights gathered from various analytical methods, it is evident that there are several key observations to consider:\n",
    "\n",
    "The most prioritized hypothesis to test is \"Add a subscription form to all the main pages.\"\n",
    "Based on the revenue trend observed in the graph, both groups show a consistent increase over time, with instances of group B surpassing group A. This indicates the potential success of the modified service. However, further analysis is warranted to validate these observations.\n",
    "While there are specific instances of an increase in average order size in group B, the overall difference between groups A and B is not significant. Additional analysis is needed to gain clarity on the impact of the modified service.\n",
    "Fluctuations in cumulative average order size between groups suggest that changes in the service may influence customer behavior. However, further testing is required to ascertain the true impact.\n",
    "There is no difference in conversion rates between the two groups, indicating that the implemented changes may not have had a significant impact in this regard.\n",
    "Analysis of the number of orders per user does not reveal any noticeable difference between the two groups.\n",
    "While there are outliers in order prices, particularly in group B, further investigation is required to determine their impact on our findings.\n",
    "The results of the z-test indicate a statistically significant difference in conversion rates between the test and control groups, suggesting that the groups come from different populations.\n",
    "However, there is no statistical significance in the difference in average order size, so, using this information we can't suggest that there is a difference between groups.\n",
    "In filtered data, there is a significant difference between proportions, but it's important to note the possibility of users coming from the same population, notable lower than in the raw data.\n",
    "The results of testing on new data do not show statistical significance in the difference in average order size.\n",
    "\n",
    "Based on these findings, it is recommended to halt the A/B testing initiatives. While certain metrics show potential impact, overall, there is insufficient evidence to justify further testing. It is crucial to reevaluate strategies and consider alternative approaches to achieve desired outcomes."
   ]
  }
 ],
 "metadata": {
  "ExecuteTimeLog": [
   {
    "duration": 1223,
    "start_time": "2024-05-18T16:58:43.337Z"
   },
   {
    "duration": 12,
    "start_time": "2024-05-18T16:58:44.564Z"
   },
   {
    "duration": 18,
    "start_time": "2024-05-18T16:58:44.579Z"
   },
   {
    "duration": 14,
    "start_time": "2024-05-18T16:58:44.611Z"
   },
   {
    "duration": 12,
    "start_time": "2024-05-18T16:58:44.631Z"
   },
   {
    "duration": 21,
    "start_time": "2024-05-18T16:58:44.646Z"
   },
   {
    "duration": 42,
    "start_time": "2024-05-18T16:58:44.670Z"
   },
   {
    "duration": 15,
    "start_time": "2024-05-18T16:58:44.717Z"
   },
   {
    "duration": 15,
    "start_time": "2024-05-18T16:58:44.737Z"
   },
   {
    "duration": 11,
    "start_time": "2024-05-18T16:58:44.757Z"
   },
   {
    "duration": 48,
    "start_time": "2024-05-18T16:58:44.771Z"
   },
   {
    "duration": 20,
    "start_time": "2024-05-18T16:58:44.823Z"
   },
   {
    "duration": 19,
    "start_time": "2024-05-18T16:58:44.846Z"
   },
   {
    "duration": 48,
    "start_time": "2024-05-18T16:58:44.868Z"
   },
   {
    "duration": 12,
    "start_time": "2024-05-18T16:58:44.919Z"
   },
   {
    "duration": 10,
    "start_time": "2024-05-18T16:58:44.933Z"
   },
   {
    "duration": 7,
    "start_time": "2024-05-18T16:58:44.947Z"
   },
   {
    "duration": 52,
    "start_time": "2024-05-18T16:58:44.957Z"
   },
   {
    "duration": 10,
    "start_time": "2024-05-18T16:58:45.012Z"
   },
   {
    "duration": 13,
    "start_time": "2024-05-18T16:58:45.024Z"
   },
   {
    "duration": 4,
    "start_time": "2024-05-18T16:58:45.040Z"
   },
   {
    "duration": 12,
    "start_time": "2024-05-18T16:58:45.047Z"
   },
   {
    "duration": 7,
    "start_time": "2024-05-18T16:58:45.108Z"
   },
   {
    "duration": 7,
    "start_time": "2024-05-18T16:58:45.118Z"
   },
   {
    "duration": 9,
    "start_time": "2024-05-18T16:58:45.129Z"
   },
   {
    "duration": 6,
    "start_time": "2024-05-18T16:58:45.141Z"
   },
   {
    "duration": 7,
    "start_time": "2024-05-18T16:58:45.151Z"
   },
   {
    "duration": 11,
    "start_time": "2024-05-18T16:58:45.220Z"
   },
   {
    "duration": 17,
    "start_time": "2024-05-18T16:58:45.234Z"
   },
   {
    "duration": 15,
    "start_time": "2024-05-18T16:58:45.253Z"
   },
   {
    "duration": 43,
    "start_time": "2024-05-18T16:58:45.272Z"
   },
   {
    "duration": 278,
    "start_time": "2024-05-18T16:58:45.318Z"
   },
   {
    "duration": 173,
    "start_time": "2024-05-18T16:58:45.599Z"
   },
   {
    "duration": 9,
    "start_time": "2024-05-18T16:58:45.775Z"
   },
   {
    "duration": 37,
    "start_time": "2024-05-18T16:58:45.787Z"
   },
   {
    "duration": 9,
    "start_time": "2024-05-18T16:58:45.827Z"
   },
   {
    "duration": 16,
    "start_time": "2024-05-18T16:58:45.839Z"
   },
   {
    "duration": 52,
    "start_time": "2024-05-18T16:58:45.858Z"
   },
   {
    "duration": 384,
    "start_time": "2024-05-18T16:58:45.912Z"
   },
   {
    "duration": 11,
    "start_time": "2024-05-18T16:58:46.300Z"
   },
   {
    "duration": 360,
    "start_time": "2024-05-18T16:58:46.315Z"
   },
   {
    "duration": 10,
    "start_time": "2024-05-18T16:58:46.678Z"
   },
   {
    "duration": 15,
    "start_time": "2024-05-18T16:58:46.710Z"
   },
   {
    "duration": 7,
    "start_time": "2024-05-18T16:58:46.728Z"
   },
   {
    "duration": 343,
    "start_time": "2024-05-18T16:58:46.739Z"
   },
   {
    "duration": 26,
    "start_time": "2024-05-18T16:58:47.086Z"
   },
   {
    "duration": 5,
    "start_time": "2024-05-18T16:58:47.115Z"
   },
   {
    "duration": 30,
    "start_time": "2024-05-18T16:58:47.124Z"
   },
   {
    "duration": 466,
    "start_time": "2024-05-18T16:58:47.157Z"
   },
   {
    "duration": 7,
    "start_time": "2024-05-18T16:58:47.627Z"
   },
   {
    "duration": 7,
    "start_time": "2024-05-18T16:58:47.637Z"
   },
   {
    "duration": 12,
    "start_time": "2024-05-18T16:58:47.648Z"
   },
   {
    "duration": 52,
    "start_time": "2024-05-18T16:58:47.663Z"
   },
   {
    "duration": 13,
    "start_time": "2024-05-18T16:58:47.717Z"
   },
   {
    "duration": 11,
    "start_time": "2024-05-18T16:58:47.732Z"
   },
   {
    "duration": 13,
    "start_time": "2024-05-18T16:58:47.745Z"
   },
   {
    "duration": 390,
    "start_time": "2024-05-18T16:58:47.762Z"
   },
   {
    "duration": 8,
    "start_time": "2024-05-18T16:58:48.155Z"
   },
   {
    "duration": 7,
    "start_time": "2024-05-18T16:58:48.167Z"
   },
   {
    "duration": 43,
    "start_time": "2024-05-18T16:58:48.177Z"
   },
   {
    "duration": 7,
    "start_time": "2024-05-18T16:58:48.223Z"
   },
   {
    "duration": 8,
    "start_time": "2024-05-18T16:58:48.232Z"
   },
   {
    "duration": 381,
    "start_time": "2024-05-18T16:58:48.243Z"
   },
   {
    "duration": 348,
    "start_time": "2024-05-18T16:58:48.627Z"
   },
   {
    "duration": 8,
    "start_time": "2024-05-18T16:58:48.979Z"
   },
   {
    "duration": 24,
    "start_time": "2024-05-18T16:58:48.990Z"
   },
   {
    "duration": 7,
    "start_time": "2024-05-18T16:58:49.017Z"
   },
   {
    "duration": 8,
    "start_time": "2024-05-18T16:58:49.027Z"
   },
   {
    "duration": 17,
    "start_time": "2024-05-18T16:58:49.038Z"
   },
   {
    "duration": 55,
    "start_time": "2024-05-18T16:58:49.058Z"
   },
   {
    "duration": 9,
    "start_time": "2024-05-18T16:58:49.116Z"
   },
   {
    "duration": 19,
    "start_time": "2024-05-18T16:58:49.128Z"
   },
   {
    "duration": 265,
    "start_time": "2024-05-18T16:58:49.150Z"
   },
   {
    "duration": 16,
    "start_time": "2024-05-18T16:58:49.417Z"
   },
   {
    "duration": 19,
    "start_time": "2024-05-18T16:58:49.436Z"
   },
   {
    "duration": 50,
    "start_time": "2024-05-18T16:58:49.459Z"
   },
   {
    "duration": 8,
    "start_time": "2024-05-18T16:58:49.512Z"
   },
   {
    "duration": 10,
    "start_time": "2024-05-18T16:58:49.524Z"
   },
   {
    "duration": 146,
    "start_time": "2024-05-18T16:58:49.537Z"
   },
   {
    "duration": 24,
    "start_time": "2024-05-18T16:58:49.685Z"
   },
   {
    "duration": 8,
    "start_time": "2024-05-18T16:58:49.712Z"
   },
   {
    "duration": 6,
    "start_time": "2024-05-18T16:58:49.737Z"
   },
   {
    "duration": 8,
    "start_time": "2024-05-18T16:58:49.746Z"
   },
   {
    "duration": 51,
    "start_time": "2024-05-18T16:58:49.758Z"
   },
   {
    "duration": 6,
    "start_time": "2024-05-18T16:58:49.813Z"
   },
   {
    "duration": 13,
    "start_time": "2024-05-18T16:58:49.824Z"
   },
   {
    "duration": 8,
    "start_time": "2024-05-18T16:58:49.840Z"
   },
   {
    "duration": 58,
    "start_time": "2024-05-18T16:58:49.851Z"
   },
   {
    "duration": 6,
    "start_time": "2024-05-18T16:58:49.912Z"
   },
   {
    "duration": 12,
    "start_time": "2024-05-18T16:58:49.921Z"
   },
   {
    "duration": 23,
    "start_time": "2024-05-18T16:58:49.936Z"
   },
   {
    "duration": 376,
    "start_time": "2024-05-18T16:58:49.963Z"
   },
   {
    "duration": 8,
    "start_time": "2024-05-18T16:58:50.343Z"
   },
   {
    "duration": 10,
    "start_time": "2024-05-18T16:58:50.354Z"
   },
   {
    "duration": 49,
    "start_time": "2024-05-18T16:58:50.367Z"
   },
   {
    "duration": 208,
    "start_time": "2024-05-18T16:58:50.419Z"
   },
   {
    "duration": 18,
    "start_time": "2024-05-18T16:58:50.630Z"
   },
   {
    "duration": 8,
    "start_time": "2024-05-18T16:58:50.651Z"
   },
   {
    "duration": 7,
    "start_time": "2024-05-18T16:58:50.662Z"
   },
   {
    "duration": 40,
    "start_time": "2024-05-18T16:58:50.672Z"
   },
   {
    "duration": 8,
    "start_time": "2024-05-18T16:58:50.715Z"
   },
   {
    "duration": 21,
    "start_time": "2024-05-18T16:58:50.726Z"
   },
   {
    "duration": 263,
    "start_time": "2024-05-18T16:58:50.750Z"
   },
   {
    "duration": 15,
    "start_time": "2024-05-18T16:58:51.016Z"
   },
   {
    "duration": 21,
    "start_time": "2024-05-18T16:58:51.034Z"
   },
   {
    "duration": 6,
    "start_time": "2024-05-18T16:58:51.058Z"
   },
   {
    "duration": 46,
    "start_time": "2024-05-18T16:58:51.068Z"
   },
   {
    "duration": 10,
    "start_time": "2024-05-18T16:58:51.117Z"
   },
   {
    "duration": 6,
    "start_time": "2024-05-18T16:58:51.129Z"
   },
   {
    "duration": 5,
    "start_time": "2024-05-18T16:58:51.139Z"
   },
   {
    "duration": 7,
    "start_time": "2024-05-18T16:58:51.147Z"
   },
   {
    "duration": 63,
    "start_time": "2024-05-18T16:58:51.156Z"
   },
   {
    "duration": 7,
    "start_time": "2024-05-18T16:58:51.223Z"
   },
   {
    "duration": 15,
    "start_time": "2024-05-18T16:58:51.233Z"
   },
   {
    "duration": 8,
    "start_time": "2024-05-18T16:58:51.250Z"
   },
   {
    "duration": 54,
    "start_time": "2024-05-18T16:58:51.261Z"
   },
   {
    "duration": 24,
    "start_time": "2024-05-18T16:58:51.318Z"
   },
   {
    "duration": 384,
    "start_time": "2024-05-18T16:58:51.345Z"
   },
   {
    "duration": 8,
    "start_time": "2024-05-18T16:58:51.732Z"
   }
  ],
  "kernelspec": {
   "display_name": "Python 3 (ipykernel)",
   "language": "python",
   "name": "python3"
  },
  "language_info": {
   "codemirror_mode": {
    "name": "ipython",
    "version": 3
   },
   "file_extension": ".py",
   "mimetype": "text/x-python",
   "name": "python",
   "nbconvert_exporter": "python",
   "pygments_lexer": "ipython3",
   "version": "3.9.19"
  },
  "toc": {
   "base_numbering": 1,
   "nav_menu": {},
   "number_sections": true,
   "sideBar": true,
   "skip_h1_title": true,
   "title_cell": "Table of Contents",
   "title_sidebar": "Contents",
   "toc_cell": false,
   "toc_position": {
    "height": "calc(100% - 180px)",
    "left": "10px",
    "top": "150px",
    "width": "320px"
   },
   "toc_section_display": true,
   "toc_window_display": true
  }
 },
 "nbformat": 4,
 "nbformat_minor": 2
}
